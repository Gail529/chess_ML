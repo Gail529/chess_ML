{
  "nbformat": 4,
  "nbformat_minor": 0,
  "metadata": {
    "colab": {
      "name": "feature_selection.ipynb",
      "provenance": [],
      "authorship_tag": "ABX9TyNmCUbU9FnkOjta1PUebFJ0",
      "include_colab_link": true
    },
    "kernelspec": {
      "name": "python3",
      "display_name": "Python 3"
    }
  },
  "cells": [
    {
      "cell_type": "markdown",
      "metadata": {
        "id": "view-in-github",
        "colab_type": "text"
      },
      "source": [
        "<a href=\"https://colab.research.google.com/github/Gail529/chess_ML/blob/main/feature_selection.ipynb\" target=\"_parent\"><img src=\"https://colab.research.google.com/assets/colab-badge.svg\" alt=\"Open In Colab\"/></a>"
      ]
    },
    {
      "cell_type": "code",
      "metadata": {
        "id": "x80tr96_fRTc"
      },
      "source": [
        "import pandas as pd\r\n",
        "import numpy as np\r\n",
        "import matplotlib.pyplot as plt\r\n",
        "import seaborn as sns\r\n"
      ],
      "execution_count": null,
      "outputs": []
    },
    {
      "cell_type": "markdown",
      "metadata": {
        "id": "6RrWhtqRfp6r"
      },
      "source": [
        "# Experimenting with various feature selection techniques"
      ]
    },
    {
      "cell_type": "markdown",
      "metadata": {
        "id": "wd9TZW3Yg4v3"
      },
      "source": [
        "checking for constant features\r\n"
      ]
    },
    {
      "cell_type": "code",
      "metadata": {
        "id": "d0HTy_TkgEp0"
      },
      "source": [
        "# import and create the VarianceThreshold object.\r\n",
        "from sklearn.feature_selection import VarianceThreshold\r\n",
        "vs_constant = VarianceThreshold(threshold=0)\r\n",
        "\r\n",
        "# select the numerical columns only.\r\n",
        "numerical_x_train = x_train[x_train.select_dtypes([np.number]).columns]\r\n",
        "\r\n",
        "# fit the object to our data.\r\n",
        "vs_constant.fit(numerical_x_train)\r\n",
        "\r\n",
        "# get the constant colum names.\r\n",
        "constant_columns = [column for column in numerical_x_train.columns\r\n",
        "                    if column not in numerical_x_train.columns[vs_constant.get_support()]]\r\n",
        "\r\n",
        "# detect constant categorical variables.\r\n",
        "constant_cat_columns = [column for column in x_train.columns \r\n",
        "                        if (x_train[column].dtype == \"O\" and len(x_train[column].unique())  == 1 )]\r\n",
        "\r\n",
        "# conctenating the two lists.\r\n",
        "all_constant_columns = constant_cat_columns + constant_columns\r\n",
        "\r\n",
        "# drop the constant columns\r\n",
        "x_train.drop(labels=all_constant_columns, axis=1, inplace=True)\r\n",
        "x_test.drop(labels=all_constant_columns, axis=1, inplace=True)\r\n"
      ],
      "execution_count": null,
      "outputs": []
    },
    {
      "cell_type": "markdown",
      "metadata": {
        "id": "ude4QwZ-hDYJ"
      },
      "source": [
        "checking for quasi constant features"
      ]
    },
    {
      "cell_type": "code",
      "metadata": {
        "id": "4CwdahCAgEln"
      },
      "source": [
        "threshold = 0.98\r\n",
        "\r\n",
        "# create empty list\r\n",
        "quasi_constant_feature = []\r\n",
        "\r\n",
        "# loop over all the columns\r\n",
        "for feature in x_train.columns:\r\n",
        "\r\n",
        "    # calculate the ratio.\r\n",
        "    predominant = (x_train[feature].value_counts() / np.float(len(x_train))).sort_values(ascending=False).values[0]\r\n",
        "    \r\n",
        "    # append the column name if it is bigger than the threshold\r\n",
        "    if predominant >= threshold:\r\n",
        "        quasi_constant_feature.append(feature)   \r\n",
        "        \r\n",
        "print(quasi_constant_feature)\r\n",
        "\r\n",
        "# drop the quasi constant columns\r\n",
        "x_train.drop(labels=quasi_constant_feature, axis=1, inplace=True)\r\n",
        "x_test.drop(labels=quasi_constant_feature, axis=1, inplace=True)\r\n"
      ],
      "execution_count": null,
      "outputs": []
    },
    {
      "cell_type": "markdown",
      "metadata": {
        "id": "7xGPc-jYhPqK"
      },
      "source": [
        "# Correlation filter methods"
      ]
    },
    {
      "cell_type": "code",
      "metadata": {
        "id": "oHxSs6WWgU6A"
      },
      "source": [
        "# creating set to hold the correlated features\r\n",
        "corr_features = set()\r\n",
        "\r\n",
        "# create the correlation matrix (default to pearson)\r\n",
        "corr_matrix = x_train.corr()\r\n",
        "\r\n",
        "# optional: display a heatmap of the correlation matrix\r\n",
        "plt.figure(figsize=(11,11))\r\n",
        "sns.heatmap(corr_matrix)\r\n",
        "\r\n",
        "for i in range(len(corr_matrix .columns)):\r\n",
        "    for j in range(i):\r\n",
        "        if abs(corr_matrix.iloc[i, j]) > 0.8:\r\n",
        "            colname = corr_matrix.columns[i]\r\n",
        "            corr_features.add(colname)\r\n",
        "            \r\n",
        "x_train.drop(labels=corr_features, axis=1, inplace=True)\r\n",
        "x_test.drop(labels=corr_features, axis=1, inplace=True)\r\n"
      ],
      "execution_count": null,
      "outputs": []
    },
    {
      "cell_type": "markdown",
      "metadata": {
        "id": "2jeFA4NZhlt0"
      },
      "source": [
        "# **Statistical & Ranking Filter Methods**\r\n",
        "Mutual Information\r\n"
      ]
    },
    {
      "cell_type": "code",
      "metadata": {
        "id": "vYHwarq_glwl"
      },
      "source": [
        "# import the required functions and object.\r\n",
        "from sklearn.feature_selection import mutual_info_classif\r\n",
        "from sklearn.feature_selection import SelectKBest\r\n",
        "\r\n",
        "# select the number of features you want to retain.\r\n",
        "select_k = 10\r\n",
        "\r\n",
        "# get only the numerical features.\r\n",
        "numerical_x_train = x_train[x_train.select_dtypes([np.number]).columns]\r\n",
        "\r\n",
        "\r\n",
        "# create the SelectKBest with the mutual info strategy.\r\n",
        "selection = SelectKBest(mutual_info_classif, k=select_k).fit(numerical_x_train, y_train)\r\n",
        "\r\n",
        "# display the retained features.\r\n",
        "features = x_train.columns[selection.get_support()]\r\n",
        "print(features)\r\n"
      ],
      "execution_count": null,
      "outputs": []
    },
    {
      "cell_type": "markdown",
      "metadata": {
        "id": "wsrE9o4Uh338"
      },
      "source": [
        "Chi-squared Score\r\n"
      ]
    },
    {
      "cell_type": "code",
      "metadata": {
        "id": "qi5zCKzSgrg8"
      },
      "source": [
        "# import the required functions and object.\r\n",
        "from sklearn.feature_selection import chi2\r\n",
        "from sklearn.feature_selection import SelectKBest\r\n",
        "\r\n",
        "# change this to how much features you want to keep from the top ones.\r\n",
        "select_k = 10\r\n",
        "\r\n",
        "# apply the chi2 score on the data and target (target should be binary).  \r\n",
        "selection = SelectKBest(chi2, k=select_k).fit(x_train, y_train)\r\n",
        "\r\n",
        "# display the k selected features.\r\n",
        "features = x_train.columns[selection.get_support()]\r\n",
        "print(features)"
      ],
      "execution_count": null,
      "outputs": []
    },
    {
      "cell_type": "markdown",
      "metadata": {
        "id": "_bQrMzC2h_e8"
      },
      "source": [
        "ANOVA Univariate Test\r\n"
      ]
    },
    {
      "cell_type": "code",
      "metadata": {
        "id": "lt5ibfH7gxvc"
      },
      "source": [
        "# import the required functions and object.\r\n",
        "from sklearn.feature_selection import f_classif\r\n",
        "from sklearn.feature_selection import SelectKBest\r\n",
        "\r\n",
        "# select the number of features you want to retain.\r\n",
        "select_k = 10\r\n",
        "\r\n",
        "# create the SelectKBest with the mutual info strategy.\r\n",
        "selection = SelectKBest(f_classif, k=select_k).fit(x_train, y_train)\r\n",
        "\r\n",
        "# display the retained features.\r\n",
        "features = x_train.columns[selection.get_support()]\r\n",
        "print(features)\r\n"
      ],
      "execution_count": null,
      "outputs": []
    }
  ]
}