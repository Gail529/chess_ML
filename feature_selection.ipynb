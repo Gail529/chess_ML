{
  "nbformat": 4,
  "nbformat_minor": 0,
  "metadata": {
    "colab": {
      "name": "feature_selection.ipynb",
      "provenance": [],
      "toc_visible": true,
      "authorship_tag": "ABX9TyNDkvJbPT2lX4pINBG45Dta",
      "include_colab_link": true
    },
    "kernelspec": {
      "name": "python3",
      "display_name": "Python 3"
    }
  },
  "cells": [
    {
      "cell_type": "markdown",
      "metadata": {
        "id": "view-in-github",
        "colab_type": "text"
      },
      "source": [
        "<a href=\"https://colab.research.google.com/github/Gail529/chess_ML/blob/main/feature_selection.ipynb\" target=\"_parent\"><img src=\"https://colab.research.google.com/assets/colab-badge.svg\" alt=\"Open In Colab\"/></a>"
      ]
    },
    {
      "cell_type": "code",
      "metadata": {
        "id": "x80tr96_fRTc"
      },
      "source": [
        "import pandas as pd\r\n",
        "import numpy as np\r\n",
        "import matplotlib.pyplot as plt\r\n",
        "import seaborn as sns\r\n",
        "from sklearn.model_selection import train_test_split # Import train_test_split function\r\n"
      ],
      "execution_count": 24,
      "outputs": []
    },
    {
      "cell_type": "code",
      "metadata": {
        "id": "n1GtL2Isxe4i"
      },
      "source": [
        "data=pd.read_csv('/content/games.csv')"
      ],
      "execution_count": 20,
      "outputs": []
    },
    {
      "cell_type": "code",
      "metadata": {
        "colab": {
          "base_uri": "https://localhost:8080/"
        },
        "id": "QBFsjpJg0k29",
        "outputId": "b7cd0e3b-83f7-42e3-eb64-38b7d9a9e61d"
      },
      "source": [
        "data.columns"
      ],
      "execution_count": 16,
      "outputs": [
        {
          "output_type": "execute_result",
          "data": {
            "text/plain": [
              "Index(['id', 'rated', 'created_at', 'turns', 'victory_status', 'winner',\n",
              "       'increment_code', 'white_id', 'white_rating', 'black_id',\n",
              "       'black_rating', 'moves', 'opening_eco', 'opening_name', 'opening_ply'],\n",
              "      dtype='object')"
            ]
          },
          "metadata": {
            "tags": []
          },
          "execution_count": 16
        }
      ]
    },
    {
      "cell_type": "code",
      "metadata": {
        "colab": {
          "base_uri": "https://localhost:8080/"
        },
        "id": "hhsM5n5o1Ln4",
        "outputId": "31f4c038-dc58-47c2-f7c3-c21c1b75f94c"
      },
      "source": [
        "print(len(data.columns))"
      ],
      "execution_count": 22,
      "outputs": [
        {
          "output_type": "stream",
          "text": [
            "15\n"
          ],
          "name": "stdout"
        }
      ]
    },
    {
      "cell_type": "code",
      "metadata": {
        "colab": {
          "base_uri": "https://localhost:8080/",
          "height": 35
        },
        "id": "qWPUjwrC0hrb",
        "outputId": "63779b5f-df1c-4ce3-c16e-a01995c4902d"
      },
      "source": [
        "col_list=['rated', 'turns', 'victory_status','created_at','turns', 'increment_code'\r\n",
        ",'white_id', 'white_rating', 'black_id','black_rating', 'moves', 'opening_eco', 'opening_name', 'opening_ply','winner']\r\n",
        "data=data.reindex(columns=col_list)\r\n",
        "cols=data.columns\r\n",
        "cols[-1]"
      ],
      "execution_count": 21,
      "outputs": [
        {
          "output_type": "execute_result",
          "data": {
            "application/vnd.google.colaboratory.intrinsic+json": {
              "type": "string"
            },
            "text/plain": [
              "'winner'"
            ]
          },
          "metadata": {
            "tags": []
          },
          "execution_count": 21
        }
      ]
    },
    {
      "cell_type": "code",
      "metadata": {
        "id": "9Pmg_trMzkXd"
      },
      "source": [
        "x=data.iloc[:,0:15]\r\n",
        "y=data['winner']\r\n",
        "x_train, x_test, y_train, y_test = train_test_split(x,y,test_size = 0.20,random_state = 42)\r\n"
      ],
      "execution_count": 27,
      "outputs": []
    },
    {
      "cell_type": "markdown",
      "metadata": {
        "id": "6RrWhtqRfp6r"
      },
      "source": [
        "# Experimenting with various feature selection techniques"
      ]
    },
    {
      "cell_type": "markdown",
      "metadata": {
        "id": "wd9TZW3Yg4v3"
      },
      "source": [
        "checking for constant features\r\n"
      ]
    },
    {
      "cell_type": "code",
      "metadata": {
        "id": "d0HTy_TkgEp0",
        "colab": {
          "base_uri": "https://localhost:8080/",
          "height": 361
        },
        "outputId": "e660c76a-6d70-4898-f7a3-4a5945be989c"
      },
      "source": [
        "# import and create the VarianceThreshold object.\r\n",
        "from sklearn.feature_selection import VarianceThreshold\r\n",
        "vs_constant = VarianceThreshold(threshold=0)\r\n",
        "\r\n",
        "# select the numerical columns only.\r\n",
        "numerical_x_train = x_train[x_train.select_dtypes([np.number]).columns]\r\n",
        "\r\n",
        "# fit the object to our data.\r\n",
        "vs_constant.fit(numerical_x_train)\r\n",
        "\r\n",
        "# get the constant colum names.\r\n",
        "constant_columns = [column for column in numerical_x_train.columns\r\n",
        "                    if column not in numerical_x_train.columns[vs_constant.get_support()]]\r\n",
        "\r\n",
        "# detect constant categorical variables.\r\n",
        "constant_cat_columns = [column for column in x_train.columns if (x_train[column].dtype == \"object\" and len(x_train[column].unique())  == 1 )]\r\n",
        "\r\n",
        "# conctenating the two lists.\r\n",
        "all_constant_columns = constant_cat_columns + constant_columns\r\n",
        "\r\n",
        "# drop the constant columns\r\n",
        "x_train.drop(labels=all_constant_columns, axis=1, inplace=True)\r\n",
        "x_test.drop(labels=all_constant_columns, axis=1, inplace=True)\r\n"
      ],
      "execution_count": 32,
      "outputs": [
        {
          "output_type": "error",
          "ename": "AttributeError",
          "evalue": "ignored",
          "traceback": [
            "\u001b[0;31m---------------------------------------------------------------------------\u001b[0m",
            "\u001b[0;31mAttributeError\u001b[0m                            Traceback (most recent call last)",
            "\u001b[0;32m<ipython-input-32-92414568595d>\u001b[0m in \u001b[0;36m<module>\u001b[0;34m()\u001b[0m\n\u001b[1;32m     14\u001b[0m \u001b[0;34m\u001b[0m\u001b[0m\n\u001b[1;32m     15\u001b[0m \u001b[0;31m# detect constant categorical variables.\u001b[0m\u001b[0;34m\u001b[0m\u001b[0;34m\u001b[0m\u001b[0;34m\u001b[0m\u001b[0m\n\u001b[0;32m---> 16\u001b[0;31m \u001b[0mconstant_cat_columns\u001b[0m \u001b[0;34m=\u001b[0m \u001b[0;34m[\u001b[0m\u001b[0mcolumn\u001b[0m \u001b[0;32mfor\u001b[0m \u001b[0mcolumn\u001b[0m \u001b[0;32min\u001b[0m \u001b[0mx_train\u001b[0m\u001b[0;34m.\u001b[0m\u001b[0mcolumns\u001b[0m \u001b[0;32mif\u001b[0m \u001b[0;34m(\u001b[0m\u001b[0mx_train\u001b[0m\u001b[0;34m[\u001b[0m\u001b[0mcolumn\u001b[0m\u001b[0;34m]\u001b[0m\u001b[0;34m.\u001b[0m\u001b[0mdtype\u001b[0m \u001b[0;34m==\u001b[0m \u001b[0;34m\"object\"\u001b[0m \u001b[0;32mand\u001b[0m \u001b[0mlen\u001b[0m\u001b[0;34m(\u001b[0m\u001b[0mx_train\u001b[0m\u001b[0;34m[\u001b[0m\u001b[0mcolumn\u001b[0m\u001b[0;34m]\u001b[0m\u001b[0;34m.\u001b[0m\u001b[0munique\u001b[0m\u001b[0;34m(\u001b[0m\u001b[0;34m)\u001b[0m\u001b[0;34m)\u001b[0m  \u001b[0;34m==\u001b[0m \u001b[0;36m1\u001b[0m \u001b[0;34m)\u001b[0m\u001b[0;34m]\u001b[0m\u001b[0;34m\u001b[0m\u001b[0;34m\u001b[0m\u001b[0m\n\u001b[0m\u001b[1;32m     17\u001b[0m \u001b[0;34m\u001b[0m\u001b[0m\n\u001b[1;32m     18\u001b[0m \u001b[0;31m# conctenating the two lists.\u001b[0m\u001b[0;34m\u001b[0m\u001b[0;34m\u001b[0m\u001b[0;34m\u001b[0m\u001b[0m\n",
            "\u001b[0;32m<ipython-input-32-92414568595d>\u001b[0m in \u001b[0;36m<listcomp>\u001b[0;34m(.0)\u001b[0m\n\u001b[1;32m     14\u001b[0m \u001b[0;34m\u001b[0m\u001b[0m\n\u001b[1;32m     15\u001b[0m \u001b[0;31m# detect constant categorical variables.\u001b[0m\u001b[0;34m\u001b[0m\u001b[0;34m\u001b[0m\u001b[0;34m\u001b[0m\u001b[0m\n\u001b[0;32m---> 16\u001b[0;31m \u001b[0mconstant_cat_columns\u001b[0m \u001b[0;34m=\u001b[0m \u001b[0;34m[\u001b[0m\u001b[0mcolumn\u001b[0m \u001b[0;32mfor\u001b[0m \u001b[0mcolumn\u001b[0m \u001b[0;32min\u001b[0m \u001b[0mx_train\u001b[0m\u001b[0;34m.\u001b[0m\u001b[0mcolumns\u001b[0m \u001b[0;32mif\u001b[0m \u001b[0;34m(\u001b[0m\u001b[0mx_train\u001b[0m\u001b[0;34m[\u001b[0m\u001b[0mcolumn\u001b[0m\u001b[0;34m]\u001b[0m\u001b[0;34m.\u001b[0m\u001b[0mdtype\u001b[0m \u001b[0;34m==\u001b[0m \u001b[0;34m\"object\"\u001b[0m \u001b[0;32mand\u001b[0m \u001b[0mlen\u001b[0m\u001b[0;34m(\u001b[0m\u001b[0mx_train\u001b[0m\u001b[0;34m[\u001b[0m\u001b[0mcolumn\u001b[0m\u001b[0;34m]\u001b[0m\u001b[0;34m.\u001b[0m\u001b[0munique\u001b[0m\u001b[0;34m(\u001b[0m\u001b[0;34m)\u001b[0m\u001b[0;34m)\u001b[0m  \u001b[0;34m==\u001b[0m \u001b[0;36m1\u001b[0m \u001b[0;34m)\u001b[0m\u001b[0;34m]\u001b[0m\u001b[0;34m\u001b[0m\u001b[0;34m\u001b[0m\u001b[0m\n\u001b[0m\u001b[1;32m     17\u001b[0m \u001b[0;34m\u001b[0m\u001b[0m\n\u001b[1;32m     18\u001b[0m \u001b[0;31m# conctenating the two lists.\u001b[0m\u001b[0;34m\u001b[0m\u001b[0;34m\u001b[0m\u001b[0;34m\u001b[0m\u001b[0m\n",
            "\u001b[0;32m/usr/local/lib/python3.6/dist-packages/pandas/core/generic.py\u001b[0m in \u001b[0;36m__getattr__\u001b[0;34m(self, name)\u001b[0m\n\u001b[1;32m   5139\u001b[0m             \u001b[0;32mif\u001b[0m \u001b[0mself\u001b[0m\u001b[0;34m.\u001b[0m\u001b[0m_info_axis\u001b[0m\u001b[0;34m.\u001b[0m\u001b[0m_can_hold_identifiers_and_holds_name\u001b[0m\u001b[0;34m(\u001b[0m\u001b[0mname\u001b[0m\u001b[0;34m)\u001b[0m\u001b[0;34m:\u001b[0m\u001b[0;34m\u001b[0m\u001b[0;34m\u001b[0m\u001b[0m\n\u001b[1;32m   5140\u001b[0m                 \u001b[0;32mreturn\u001b[0m \u001b[0mself\u001b[0m\u001b[0;34m[\u001b[0m\u001b[0mname\u001b[0m\u001b[0;34m]\u001b[0m\u001b[0;34m\u001b[0m\u001b[0;34m\u001b[0m\u001b[0m\n\u001b[0;32m-> 5141\u001b[0;31m             \u001b[0;32mreturn\u001b[0m \u001b[0mobject\u001b[0m\u001b[0;34m.\u001b[0m\u001b[0m__getattribute__\u001b[0m\u001b[0;34m(\u001b[0m\u001b[0mself\u001b[0m\u001b[0;34m,\u001b[0m \u001b[0mname\u001b[0m\u001b[0;34m)\u001b[0m\u001b[0;34m\u001b[0m\u001b[0;34m\u001b[0m\u001b[0m\n\u001b[0m\u001b[1;32m   5142\u001b[0m \u001b[0;34m\u001b[0m\u001b[0m\n\u001b[1;32m   5143\u001b[0m     \u001b[0;32mdef\u001b[0m \u001b[0m__setattr__\u001b[0m\u001b[0;34m(\u001b[0m\u001b[0mself\u001b[0m\u001b[0;34m,\u001b[0m \u001b[0mname\u001b[0m\u001b[0;34m:\u001b[0m \u001b[0mstr\u001b[0m\u001b[0;34m,\u001b[0m \u001b[0mvalue\u001b[0m\u001b[0;34m)\u001b[0m \u001b[0;34m->\u001b[0m \u001b[0;32mNone\u001b[0m\u001b[0;34m:\u001b[0m\u001b[0;34m\u001b[0m\u001b[0;34m\u001b[0m\u001b[0m\n",
            "\u001b[0;31mAttributeError\u001b[0m: 'DataFrame' object has no attribute 'dtype'"
          ]
        }
      ]
    },
    {
      "cell_type": "markdown",
      "metadata": {
        "id": "ude4QwZ-hDYJ"
      },
      "source": [
        "checking for quasi constant features"
      ]
    },
    {
      "cell_type": "code",
      "metadata": {
        "id": "4CwdahCAgEln",
        "colab": {
          "base_uri": "https://localhost:8080/"
        },
        "outputId": "0d638811-238d-4cd8-d807-7f66964ee4f6"
      },
      "source": [
        "threshold = 0.98\r\n",
        "\r\n",
        "# create empty list\r\n",
        "quasi_constant_feature = []\r\n",
        "\r\n",
        "# loop over all the columns\r\n",
        "for feature in data.columns:\r\n",
        "\r\n",
        "    # calculate the ratio.\r\n",
        "    predominant = (data[feature].value_counts() / np.float(len(data))).sort_values(ascending=False).values[0]\r\n",
        "    \r\n",
        "    # append the column name if it is bigger than the threshold\r\n",
        "    if predominant >= threshold:\r\n",
        "        quasi_constant_feature.append(feature)   \r\n",
        "        \r\n",
        "print(quasi_constant_feature)\r\n",
        "\r\n",
        "# drop the quasi constant columns\r\n",
        "data.drop(labels=quasi_constant_feature, axis=1, inplace=True)\r\n",
        "\r\n",
        "print(\"Columns after filetring\")\r\n",
        "print(len(data.columns))\r\n",
        "\r\n"
      ],
      "execution_count": 14,
      "outputs": [
        {
          "output_type": "stream",
          "text": [
            "[]\n",
            "Columns after filetring\n",
            "16\n"
          ],
          "name": "stdout"
        }
      ]
    },
    {
      "cell_type": "markdown",
      "metadata": {
        "id": "7xGPc-jYhPqK"
      },
      "source": [
        "# Correlation filter methods"
      ]
    },
    {
      "cell_type": "code",
      "metadata": {
        "id": "oHxSs6WWgU6A",
        "colab": {
          "base_uri": "https://localhost:8080/",
          "height": 732
        },
        "outputId": "17e44b86-75b9-429a-ee6d-6e902994900a"
      },
      "source": [
        "# creating set to hold the correlated features\r\n",
        "corr_features = set()\r\n",
        "\r\n",
        "# create the correlation matrix (default to pearson)\r\n",
        "corr_matrix = x_train.corr()\r\n",
        "\r\n",
        "# optional: display a heatmap of the correlation matrix\r\n",
        "plt.figure(figsize=(11,11))\r\n",
        "sns.heatmap(corr_matrix)\r\n",
        "\r\n",
        "for i in range(len(corr_matrix .columns)):\r\n",
        "    for j in range(i):\r\n",
        "        if abs(corr_matrix.iloc[i, j]) > 0.8:\r\n",
        "            colname = corr_matrix.columns[i]\r\n",
        "            corr_features.add(colname)\r\n",
        "            \r\n",
        "x_train.drop(labels=corr_features, axis=1, inplace=True)\r\n",
        "x_test.drop(labels=corr_features, axis=1, inplace=True)\r\n"
      ],
      "execution_count": 33,
      "outputs": [
        {
          "output_type": "stream",
          "text": [
            "/usr/local/lib/python3.6/dist-packages/pandas/core/frame.py:4174: SettingWithCopyWarning: \n",
            "A value is trying to be set on a copy of a slice from a DataFrame\n",
            "\n",
            "See the caveats in the documentation: https://pandas.pydata.org/pandas-docs/stable/user_guide/indexing.html#returning-a-view-versus-a-copy\n",
            "  errors=errors,\n"
          ],
          "name": "stderr"
        },
        {
          "output_type": "display_data",
          "data": {
            "image/png": "[encoded data removed]",
            "text/plain": [
              "<Figure size 792x792 with 2 Axes>"
            ]
          },
          "metadata": {
            "tags": [],
            "needs_background": "light"
          }
        }
      ]
    },
    {
      "cell_type": "markdown",
      "metadata": {
        "id": "2jeFA4NZhlt0"
      },
      "source": [
        "# **Statistical & Ranking Filter Methods**\r\n",
        "Mutual Information\r\n"
      ]
    },
    {
      "cell_type": "code",
      "metadata": {
        "id": "vYHwarq_glwl"
      },
      "source": [
        "# import the required functions and object.\r\n",
        "from sklearn.feature_selection import mutual_info_classif\r\n",
        "from sklearn.feature_selection import SelectKBest\r\n",
        "\r\n",
        "# select the number of features you want to retain.\r\n",
        "select_k = \r\n",
        "\r\n",
        "# get only the numerical features.\r\n",
        "numerical_x_train = x_train[x_train.select_dtypes([np.number]).columns]\r\n",
        "\r\n",
        "\r\n",
        "# create the SelectKBest with the mutual info strategy.\r\n",
        "selection = SelectKBest(mutual_info_classif, k=select_k).fit(numerical_x_train, y_train)\r\n",
        "# display the retained features.\r\n",
        "features = x_train.columns[selection.get_support()]\r\n",
        "print(features)\r\n"
      ],
      "execution_count": null,
      "outputs": []
    },
    {
      "cell_type": "markdown",
      "metadata": {
        "id": "wsrE9o4Uh338"
      },
      "source": [
        "Chi-squared Score\r\n"
      ]
    },
    {
      "cell_type": "code",
      "metadata": {
        "id": "qi5zCKzSgrg8"
      },
      "source": [
        "# import the required functions and object.\r\n",
        "from sklearn.feature_selection import chi2\r\n",
        "from sklearn.feature_selection import SelectKBest\r\n",
        "\r\n",
        "# change this to how much features you want to keep from the top ones.\r\n",
        "select_k = 10\r\n",
        "\r\n",
        "# apply the chi2 score on the data and target (target should be binary).  \r\n",
        "selection = SelectKBest(chi2, k=select_k).fit(x_train, y_train)\r\n",
        "\r\n",
        "# display the k selected features.\r\n",
        "features = x_train.columns[selection.get_support()]\r\n",
        "print(features)"
      ],
      "execution_count": null,
      "outputs": []
    },
    {
      "cell_type": "markdown",
      "metadata": {
        "id": "_bQrMzC2h_e8"
      },
      "source": [
        "ANOVA Univariate Test\r\n"
      ]
    },
    {
      "cell_type": "code",
      "metadata": {
        "id": "lt5ibfH7gxvc"
      },
      "source": [
        "# import the required functions and object.\r\n",
        "from sklearn.feature_selection import f_classif\r\n",
        "from sklearn.feature_selection import SelectKBest\r\n",
        "\r\n",
        "# select the number of features you want to retain.\r\n",
        "select_k = 10\r\n",
        "\r\n",
        "# create the SelectKBest with the mutual info strategy.\r\n",
        "selection = SelectKBest(f_classif, k=select_k).fit(x_train, y_train)\r\n",
        "\r\n",
        "# display the retained features.\r\n",
        "features = x_train.columns[selection.get_support()]\r\n",
        "print(features)\r\n"
      ],
      "execution_count": null,
      "outputs": []
    }
  ]
}