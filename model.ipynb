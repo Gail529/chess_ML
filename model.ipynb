{
  "nbformat": 4,
  "nbformat_minor": 0,
  "metadata": {
    "colab": {
      "name": "model.ipynb",
      "provenance": [],
      "toc_visible": true,
      "authorship_tag": "ABX9TyM8v0yu4pCBIx/OMlZfN3wn",
      "include_colab_link": true
    },
    "kernelspec": {
      "name": "python3",
      "display_name": "Python 3"
    }
  },
  "cells": [
    {
      "cell_type": "markdown",
      "metadata": {
        "id": "view-in-github",
        "colab_type": "text"
      },
      "source": [
        "<a href=\"https://colab.research.google.com/github/Gail529/chess_ML/blob/main/model.ipynb\" target=\"_parent\"><img src=\"https://colab.research.google.com/assets/colab-badge.svg\" alt=\"Open In Colab\"/></a>"
      ]
    },
    {
      "cell_type": "markdown",
      "metadata": {
        "id": "iZmCz1SSh0nj"
      },
      "source": [
        "# Importing necessary libraries"
      ]
    },
    {
      "cell_type": "code",
      "metadata": {
        "colab": {
          "base_uri": "https://localhost:8080/"
        },
        "id": "JxNDyA49uZHo",
        "outputId": "01688a80-5af2-4e5f-cba8-f71e3a662897"
      },
      "source": [
        "!pip install category_encoders"
      ],
      "execution_count": 1,
      "outputs": [
        {
          "output_type": "stream",
          "text": [
            "Collecting category_encoders\n",
            "\u001b[?25l  Downloading https://files.pythonhosted.org/packages/44/57/fcef41c248701ee62e8325026b90c432adea35555cbc870aff9cfba23727/category_encoders-2.2.2-py2.py3-none-any.whl (80kB)\n",
            "\r\u001b[K     |████                            | 10kB 15.8MB/s eta 0:00:01\r\u001b[K     |████████▏                       | 20kB 17.1MB/s eta 0:00:01\r\u001b[K     |████████████▏                   | 30kB 11.7MB/s eta 0:00:01\r\u001b[K     |████████████████▎               | 40kB 9.8MB/s eta 0:00:01\r\u001b[K     |████████████████████▎           | 51kB 7.9MB/s eta 0:00:01\r\u001b[K     |████████████████████████▍       | 61kB 8.0MB/s eta 0:00:01\r\u001b[K     |████████████████████████████▍   | 71kB 8.4MB/s eta 0:00:01\r\u001b[K     |████████████████████████████████| 81kB 4.9MB/s \n",
            "\u001b[?25hRequirement already satisfied: scikit-learn>=0.20.0 in /usr/local/lib/python3.6/dist-packages (from category_encoders) (0.22.2.post1)\n",
            "Requirement already satisfied: scipy>=1.0.0 in /usr/local/lib/python3.6/dist-packages (from category_encoders) (1.4.1)\n",
            "Requirement already satisfied: numpy>=1.14.0 in /usr/local/lib/python3.6/dist-packages (from category_encoders) (1.19.5)\n",
            "Requirement already satisfied: patsy>=0.5.1 in /usr/local/lib/python3.6/dist-packages (from category_encoders) (0.5.1)\n",
            "Requirement already satisfied: statsmodels>=0.9.0 in /usr/local/lib/python3.6/dist-packages (from category_encoders) (0.10.2)\n",
            "Requirement already satisfied: pandas>=0.21.1 in /usr/local/lib/python3.6/dist-packages (from category_encoders) (1.1.5)\n",
            "Requirement already satisfied: joblib>=0.11 in /usr/local/lib/python3.6/dist-packages (from scikit-learn>=0.20.0->category_encoders) (1.0.0)\n",
            "Requirement already satisfied: six in /usr/local/lib/python3.6/dist-packages (from patsy>=0.5.1->category_encoders) (1.15.0)\n",
            "Requirement already satisfied: python-dateutil>=2.7.3 in /usr/local/lib/python3.6/dist-packages (from pandas>=0.21.1->category_encoders) (2.8.1)\n",
            "Requirement already satisfied: pytz>=2017.2 in /usr/local/lib/python3.6/dist-packages (from pandas>=0.21.1->category_encoders) (2018.9)\n",
            "Installing collected packages: category-encoders\n",
            "Successfully installed category-encoders-2.2.2\n"
          ],
          "name": "stdout"
        }
      ]
    },
    {
      "cell_type": "code",
      "metadata": {
        "id": "u70Gc6kEEedE",
        "colab": {
          "base_uri": "https://localhost:8080/"
        },
        "outputId": "f6c3ca21-686d-4937-a717-00c153d89ded"
      },
      "source": [
        "import pandas as pd\r\n",
        "import numpy as np\r\n",
        "from sklearn.ensemble import VotingClassifier \r\n",
        "from sklearn.linear_model import LogisticRegression \r\n",
        "from sklearn.svm import SVC \r\n",
        "from sklearn.neighbors import KNeighborsClassifier \r\n",
        "from sklearn.metrics import accuracy_score \r\n",
        "from sklearn.model_selection import GridSearchCV\r\n",
        "from sklearn.model_selection import RepeatedStratifiedKFold\r\n",
        "from sklearn.feature_selection import SelectFromModel\r\n",
        "from sklearn.model_selection import train_test_split # Import train_test_split function\r\n",
        "from sklearn import metrics \r\n",
        "import category_encoders as ce\r\n",
        "from category_encoders.hashing import HashingEncoder\r\n",
        "from category_encoders.binary import BinaryEncoder\r\n",
        "from sklearn.preprocessing import LabelEncoder \r\n",
        "from sklearn.metrics import accuracy_score \r\n",
        "from sklearn.model_selection import train_test_split \r\n",
        "from sklearn.metrics import classification_report \r\n",
        "from sklearn.model_selection import KFold, StratifiedKFold, cross_val_score\r\n",
        "from sklearn.model_selection import GridSearchCV\r\n",
        "from sklearn.ensemble import IsolationForest\r\n",
        "import warnings\r\n",
        "warnings.filterwarnings(action='ignore')\r\n",
        "warnings.filterwarnings(action='ignore', category=FutureWarning)\r\n",
        "warnings.filterwarnings(action='ignore', category=RuntimeWarning)\r\n",
        "warnings.filterwarnings(action='ignore', category=DeprecationWarning)\r\n",
        "warnings.filterwarnings(action='ignore', category=UserWarning)\r\n",
        "\r\n",
        "\r\n",
        "  "
      ],
      "execution_count": 2,
      "outputs": [
        {
          "output_type": "stream",
          "text": [
            "/usr/local/lib/python3.6/dist-packages/statsmodels/tools/_testing.py:19: FutureWarning: pandas.util.testing is deprecated. Use the functions in the public API at pandas.testing instead.\n",
            "  import pandas.util.testing as tm\n"
          ],
          "name": "stderr"
        }
      ]
    },
    {
      "cell_type": "code",
      "metadata": {
        "id": "hFZ94ZI8VeDV"
      },
      "source": [
        "data=pd.read_csv('/content/games.csv',usecols=['turns','winner','white_rating','black_rating','opening_ply','opening_eco','increment_code'])\r\n"
      ],
      "execution_count": 3,
      "outputs": []
    },
    {
      "cell_type": "code",
      "metadata": {
        "colab": {
          "base_uri": "https://localhost:8080/",
          "height": 191
        },
        "id": "MPCnRP5IV3F1",
        "outputId": "44e36bdc-3c2f-43a9-cdc0-88168e833078"
      },
      "source": [
        "data.head()"
      ],
      "execution_count": 4,
      "outputs": [
        {
          "output_type": "execute_result",
          "data": {
            "text/html": [
              "<div>\n",
              "<style scoped>\n",
              "    .dataframe tbody tr th:only-of-type {\n",
              "        vertical-align: middle;\n",
              "    }\n",
              "\n",
              "    .dataframe tbody tr th {\n",
              "        vertical-align: top;\n",
              "    }\n",
              "\n",
              "    .dataframe thead th {\n",
              "        text-align: right;\n",
              "    }\n",
              "</style>\n",
              "<table border=\"1\" class=\"dataframe\">\n",
              "  <thead>\n",
              "    <tr style=\"text-align: right;\">\n",
              "      <th></th>\n",
              "      <th>turns</th>\n",
              "      <th>winner</th>\n",
              "      <th>increment_code</th>\n",
              "      <th>white_rating</th>\n",
              "      <th>black_rating</th>\n",
              "      <th>opening_eco</th>\n",
              "      <th>opening_ply</th>\n",
              "    </tr>\n",
              "  </thead>\n",
              "  <tbody>\n",
              "    <tr>\n",
              "      <th>0</th>\n",
              "      <td>13</td>\n",
              "      <td>white</td>\n",
              "      <td>15+2</td>\n",
              "      <td>1500</td>\n",
              "      <td>1191</td>\n",
              "      <td>D10</td>\n",
              "      <td>5</td>\n",
              "    </tr>\n",
              "    <tr>\n",
              "      <th>1</th>\n",
              "      <td>16</td>\n",
              "      <td>black</td>\n",
              "      <td>5+10</td>\n",
              "      <td>1322</td>\n",
              "      <td>1261</td>\n",
              "      <td>B00</td>\n",
              "      <td>4</td>\n",
              "    </tr>\n",
              "    <tr>\n",
              "      <th>2</th>\n",
              "      <td>61</td>\n",
              "      <td>white</td>\n",
              "      <td>5+10</td>\n",
              "      <td>1496</td>\n",
              "      <td>1500</td>\n",
              "      <td>C20</td>\n",
              "      <td>3</td>\n",
              "    </tr>\n",
              "    <tr>\n",
              "      <th>3</th>\n",
              "      <td>61</td>\n",
              "      <td>white</td>\n",
              "      <td>20+0</td>\n",
              "      <td>1439</td>\n",
              "      <td>1454</td>\n",
              "      <td>D02</td>\n",
              "      <td>3</td>\n",
              "    </tr>\n",
              "    <tr>\n",
              "      <th>4</th>\n",
              "      <td>95</td>\n",
              "      <td>white</td>\n",
              "      <td>30+3</td>\n",
              "      <td>1523</td>\n",
              "      <td>1469</td>\n",
              "      <td>C41</td>\n",
              "      <td>5</td>\n",
              "    </tr>\n",
              "  </tbody>\n",
              "</table>\n",
              "</div>"
            ],
            "text/plain": [
              "   turns winner increment_code  ...  black_rating  opening_eco opening_ply\n",
              "0     13  white           15+2  ...          1191          D10           5\n",
              "1     16  black           5+10  ...          1261          B00           4\n",
              "2     61  white           5+10  ...          1500          C20           3\n",
              "3     61  white           20+0  ...          1454          D02           3\n",
              "4     95  white           30+3  ...          1469          C41           5\n",
              "\n",
              "[5 rows x 7 columns]"
            ]
          },
          "metadata": {
            "tags": []
          },
          "execution_count": 4
        }
      ]
    },
    {
      "cell_type": "markdown",
      "metadata": {
        "id": "xfMtTyjAE38C"
      },
      "source": [
        "# Feature Engineering\n",
        "feature generation"
      ]
    },
    {
      "cell_type": "code",
      "metadata": {
        "colab": {
          "base_uri": "https://localhost:8080/"
        },
        "id": "FDLxRpR3QbRR",
        "outputId": "2895ea68-f731-4658-bcac-7304831fb8af"
      },
      "source": [
        "#creating a new feature\r\n",
        "data['rating_diff'] = data['white_rating']-data['black_rating']\r\n",
        "data.columns\r\n"
      ],
      "execution_count": 5,
      "outputs": [
        {
          "output_type": "execute_result",
          "data": {
            "text/plain": [
              "Index(['turns', 'winner', 'increment_code', 'white_rating', 'black_rating',\n",
              "       'opening_eco', 'opening_ply', 'rating_diff'],\n",
              "      dtype='object')"
            ]
          },
          "metadata": {
            "tags": []
          },
          "execution_count": 5
        }
      ]
    },
    {
      "cell_type": "markdown",
      "metadata": {
        "id": "4_VmAiudFELD"
      },
      "source": [
        "Dropping null values\n"
      ]
    },
    {
      "cell_type": "code",
      "metadata": {
        "id": "jAd43D4yUgtt"
      },
      "source": [
        "data.isnull().sum().sum()\r\n",
        "data.dropna(axis=0,inplace=True)"
      ],
      "execution_count": 6,
      "outputs": []
    },
    {
      "cell_type": "markdown",
      "metadata": {
        "id": "ExgFkrvgFKVN"
      },
      "source": [
        "Feature Scaling"
      ]
    },
    {
      "cell_type": "code",
      "metadata": {
        "colab": {
          "base_uri": "https://localhost:8080/"
        },
        "id": "blbnsO8wS9GL",
        "outputId": "34b9c607-d039-46d0-c8b8-de3ba34a2748"
      },
      "source": [
        "#standardisation\r\n",
        "from sklearn import preprocessing \r\n",
        "cols=['turns','white_rating', 'black_rating', 'opening_ply','rating_diff']\r\n",
        "cols_to_scale=data[cols]\r\n",
        "Standardisation = preprocessing.StandardScaler()  \r\n",
        "scaled_cols= Standardisation.fit_transform(cols_to_scale) \r\n",
        "print (\"\\nStandardised columns : \\n\", scaled_cols) \r\n",
        "data[cols]=scaled_cols\r\n"
      ],
      "execution_count": 7,
      "outputs": [
        {
          "output_type": "stream",
          "text": [
            "\n",
            "Standardised columns : \n",
            " [[-1.4139516  -0.33178766 -1.36698461  0.0654322   1.20949108]\n",
            " [-1.32458542 -0.94295461 -1.12645864 -0.29208323  0.21362897]\n",
            " [ 0.01590722 -0.34552175 -0.30523428 -0.64959865 -0.04738328]\n",
            " ...\n",
            " [-0.75859964 -1.2966074  -1.04055651 -0.64959865 -0.30036438]\n",
            " [ 1.44576604 -0.81248077 -1.24328554 -0.29208323  0.50275023]\n",
            " [ 0.52231555 -1.24167104 -0.858444   -0.64959865 -0.44894059]]\n"
          ],
          "name": "stdout"
        }
      ]
    },
    {
      "cell_type": "markdown",
      "metadata": {
        "id": "H3xEXtzoFPfQ"
      },
      "source": [
        "# Encoding categorical  variables"
      ]
    },
    {
      "cell_type": "markdown",
      "metadata": {
        "id": "relWT72tHC6G"
      },
      "source": [
        "Using binary encoder"
      ]
    },
    {
      "cell_type": "code",
      "metadata": {
        "colab": {
          "base_uri": "https://localhost:8080/"
        },
        "id": "K6Uo2w36ToIi",
        "outputId": "2c8454bd-c9de-4c60-a6cf-5c0159c70a8d"
      },
      "source": [
        "# label encoding the data \r\n",
        "categorical_feature_mask = data.dtypes==object\r\n",
        "# filter categorical columns using mask and turn it into a list\r\n",
        "categorical_cols = data.columns[categorical_feature_mask].tolist()\r\n",
        "print(categorical_cols)\r\n",
        "le = LabelEncoder() \r\n",
        "data['winner']= le.fit_transform(data['winner'])\r\n",
        "\r\n",
        "#for categorical_cols with high cardinality\r\n",
        "#binary encoding\r\n",
        "encoder= ce.BinaryEncoder(cols=['opening_eco','increment_code'])\r\n",
        "data_encoded=encoder.fit_transform(data) "
      ],
      "execution_count": 9,
      "outputs": [
        {
          "output_type": "stream",
          "text": [
            "['increment_code', 'opening_eco']\n"
          ],
          "name": "stdout"
        }
      ]
    },
    {
      "cell_type": "markdown",
      "metadata": {
        "id": "QN2Whz3UHIaB"
      },
      "source": [
        "Using frequency encoding"
      ]
    },
    {
      "cell_type": "code",
      "metadata": {
        "colab": {
          "base_uri": "https://localhost:8080/"
        },
        "id": "XGz68noLm-rQ",
        "outputId": "7e210766-b1c4-4a6d-cfcb-124f6ff34cf0"
      },
      "source": [
        "# label encoding the data \r\n",
        "categorical_feature_mask = data.dtypes==object\r\n",
        "# filter categorical columns using mask and turn it into a list\r\n",
        "categorical_cols = data.columns[categorical_feature_mask].tolist()\r\n",
        "print(categorical_cols)\r\n",
        "le = LabelEncoder() \r\n",
        "data['winner']= le.fit_transform(data['winner'])\r\n",
        "\r\n",
        "\r\n",
        "#frequency encoding for the categorical_cols with high cardinality\r\n",
        "fe1= data.groupby('opening_eco').size()/len(data)\r\n",
        "data.loc[:,'opening_encode']=data['opening_eco'].map(fe1)\r\n",
        "fe_data=data.drop(columns=['opening_eco'],axis=1)\r\n",
        "\r\n",
        "\r\n",
        "fe2= data.groupby('increment_code').size()/len(data)\r\n",
        "data.loc[:,'incr_encode']=data['increment_code'].map(fe2)\r\n",
        "fe_data=fe_data.drop(columns=['increment_code'],axis=1)\r\n",
        "\r\n"
      ],
      "execution_count": null,
      "outputs": [
        {
          "output_type": "stream",
          "text": [
            "['increment_code', 'opening_eco']\n"
          ],
          "name": "stdout"
        }
      ]
    },
    {
      "cell_type": "markdown",
      "metadata": {
        "id": "WY_J-RIIrdY7"
      },
      "source": [
        "# Feature Importance using RANDOM FOREST\r\n",
        "\r\n",
        "\r\n"
      ]
    },
    {
      "cell_type": "code",
      "metadata": {
        "colab": {
          "base_uri": "https://localhost:8080/",
          "height": 281
        },
        "id": "HhfQftwnlJJm",
        "outputId": "16f4ff94-a7e1-4242-fc9b-9950a5277d4f"
      },
      "source": [
        "rf = RandomForestRegressor(n_estimators=100)\r\n",
        "rf.fit(X_train, y_train)\r\n",
        "rf.feature_importances_\r\n",
        "feat_importances = pd.Series(rf.feature_importances_, index=X_train.columns)\r\n",
        "feat_importances.plot(kind='barh')\r\n"
      ],
      "execution_count": null,
      "outputs": [
        {
          "output_type": "execute_result",
          "data": {
            "text/plain": [
              "<matplotlib.axes._subplots.AxesSubplot at 0x7f6a98ff6da0>"
            ]
          },
          "metadata": {
            "tags": []
          },
          "execution_count": 29
        },
        {
          "output_type": "display_data",
          "data": {
            "image/png": "[encoded data removed]",
            "text/plain": [
              "<Figure size 432x288 with 1 Axes>"
            ]
          },
          "metadata": {
            "tags": [],
            "needs_background": "light"
          }
        }
      ]
    },
    {
      "cell_type": "code",
      "metadata": {
        "id": "ZsVCfxnGu0k6"
      },
      "source": [
        "X = data_encoded.drop(columns=['winner'], axis=1)\r\n",
        "y = data_encoded['winner']\r\n",
        "\r\n",
        "X_train, X_test, y_train, y_test = train_test_split(X, y, test_size=0.20, random_state=42)"
      ],
      "execution_count": 10,
      "outputs": []
    },
    {
      "cell_type": "markdown",
      "metadata": {
        "id": "tPVXeWMviSkk"
      },
      "source": [
        "# Using Grid Search CV to find the best parameters"
      ]
    },
    {
      "cell_type": "code",
      "metadata": {
        "id": "kAGvlTqcuXON"
      },
      "source": [
        ""
      ],
      "execution_count": null,
      "outputs": []
    },
    {
      "cell_type": "markdown",
      "metadata": {
        "id": "Wz6Qj-D-i_pf"
      },
      "source": [
        "Logistic Regression\r\n"
      ]
    },
    {
      "cell_type": "code",
      "metadata": {
        "id": "XdDP5S4Xnrn2",
        "colab": {
          "base_uri": "https://localhost:8080/"
        },
        "outputId": "72a7d97f-59b1-42a8-a808-2552f79fdd14"
      },
      "source": [
        "lr = LogisticRegression(multi_class='multinomial', solver='lbfgs',penalty='l2')\r\n",
        "# fit the model with data\r\n",
        "lr.fit(X_train,y_train)\r\n",
        "y_pred=lr.predict(X_test)\r\n",
        "print(\"Test Set:\",lr.score(X_test, y_test))\r\n",
        "print(\"Training Set:\",lr.score(X_train, y_train))\r\n",
        "print(classification_report(y_test,y_pred))"
      ],
      "execution_count": 17,
      "outputs": [
        {
          "output_type": "stream",
          "text": [
            "Test Set: 0.6271186440677966\n",
            "Training Set: 0.623519880344011\n",
            "              precision    recall  f1-score   support\n",
            "\n",
            "           0       0.62      0.59      0.60      1816\n",
            "           1       0.50      0.01      0.01       192\n",
            "           2       0.63      0.72      0.67      2004\n",
            "\n",
            "    accuracy                           0.63      4012\n",
            "   macro avg       0.58      0.44      0.43      4012\n",
            "weighted avg       0.62      0.63      0.61      4012\n",
            "\n"
          ],
          "name": "stdout"
        }
      ]
    },
    {
      "cell_type": "code",
      "metadata": {
        "id": "2oWZ-8EJi7ns",
        "colab": {
          "base_uri": "https://localhost:8080/"
        },
        "outputId": "63f0c344-c4cc-452d-e390-65ce6008c704"
      },
      "source": [
        "\r\n",
        "model = LogisticRegression()\r\n",
        "solvers = ['newton-cg', 'lbfgs', 'liblinear']\r\n",
        "penalty = ['l2']\r\n",
        "c_values = [100, 10, 1.0, 0.1, 0.01]\r\n",
        "# define grid search\r\n",
        "grid = dict(solver=solvers,penalty=penalty,C=c_values)\r\n",
        "cv = RepeatedStratifiedKFold(n_splits=10, n_repeats=3, random_state=1)\r\n",
        "grid_search = GridSearchCV(estimator=model, param_grid=grid, n_jobs=-1, cv=cv, scoring='accuracy',error_score=0)\r\n",
        "grid_result = grid_search.fit(X_train,y_train)\r\n",
        "# summarize results\r\n",
        "print(\"Best: %f using %s\" % (grid_result.best_score_, grid_result.best_params_))\r\n"
      ],
      "execution_count": 14,
      "outputs": [
        {
          "output_type": "stream",
          "text": [
            "Best: 0.621941 using {'C': 0.01, 'penalty': 'l2', 'solver': 'lbfgs'}\n"
          ],
          "name": "stdout"
        }
      ]
    },
    {
      "cell_type": "markdown",
      "metadata": {
        "id": "lxTz7zI2joaT"
      },
      "source": [
        "K Nearest Neighbours"
      ]
    },
    {
      "cell_type": "code",
      "metadata": {
        "colab": {
          "base_uri": "https://localhost:8080/"
        },
        "id": "2xVNtBfzjxf3",
        "outputId": "4a8bcc75-2990-4931-f8c6-45cf4f978ec1"
      },
      "source": [
        "knn_grid =GridSearchCV(estimator=KNeighborsClassifier() ,param_grid={'n_neighbors':np.arange(1,20)} ,cv=5)\r\n",
        "knn_grid.fit(X,y)\r\n",
        "knn_grid.best_params_\r\n"
      ],
      "execution_count": 19,
      "outputs": [
        {
          "output_type": "execute_result",
          "data": {
            "text/plain": [
              "{'n_neighbors': 19}"
            ]
          },
          "metadata": {
            "tags": []
          },
          "execution_count": 19
        }
      ]
    },
    {
      "cell_type": "markdown",
      "metadata": {
        "id": "iykJhEgPlICK"
      },
      "source": [
        "Support Vector Machines\r\n"
      ]
    },
    {
      "cell_type": "code",
      "metadata": {
        "id": "Ff3REVdqej3k"
      },
      "source": [
        "from sklearn.model_selection import GridSearchCV\r\n",
        "param_grid = {'C':[0.1,1,10],'gamma':[1,0.1,0.01],'kernel':['linear']}\r\n",
        "scores ='accuracy'\r\n",
        "grid = GridSearchCV(SVC(), param_grid,n_jobs=-1,scoring='accuracy')\r\n",
        " \r\n",
        "def fit_cv_subsample (pipe_cv, X, y, n_max = 5000):\r\n",
        "    '''\r\n",
        "    This function fits a CV in a subsample of the first n_max rows\r\n",
        "    returns the trained pipe and the best estimator\r\n",
        "    '''\r\n",
        "    X_sub = X[0:n_max]\r\n",
        "    y_sub = y[0:n_max]\r\n",
        "    pipe_cv.fit(X_sub,y_sub)\r\n",
        "    #pipe_cv.best_estimator_.fit(X,y)\r\n",
        "    return pipe_cv, pipe_cv.best_estimator_\r\n",
        "\r\n",
        "\r\n",
        "results, best_model = fit_cv_subsample(grid,X_train,y_train)"
      ],
      "execution_count": null,
      "outputs": []
    },
    {
      "cell_type": "code",
      "metadata": {
        "colab": {
          "base_uri": "https://localhost:8080/"
        },
        "id": "vqrNKYB8lQ6M",
        "outputId": "ad7b68c3-df92-4268-d9bd-9f9d83683a03"
      },
      "source": [
        "from sklearn.model_selection import GridSearchCV\r\n",
        "param_grid = {'C':[0.1,1,10],'gamma':[1,0.1,0.01],'kernel':['linear']}\r\n",
        "scores = ['precision', 'recall']\r\n",
        "\r\n",
        "for score in scores:\r\n",
        "    print(\"# Tuning hyper-parameters for %s\" % score)\r\n",
        "    print()\r\n",
        "\r\n",
        "grid = GridSearchCV(SVC(), param_grid, scoring='%s_macro' % score)\r\n",
        "grid.fit(X_train, y_train)\r\n",
        "print(\"Best parameters set found on development set:\")\r\n",
        "print()\r\n",
        "print(grid.best_params_)\r\n"
      ],
      "execution_count": null,
      "outputs": [
        {
          "output_type": "stream",
          "text": [
            "# Tuning hyper-parameters for precision\n",
            "\n",
            "# Tuning hyper-parameters for recall\n",
            "\n"
          ],
          "name": "stdout"
        }
      ]
    },
    {
      "cell_type": "code",
      "metadata": {
        "id": "ieNy8QolmxdU"
      },
      "source": [
        "from sklearn import model_selection,svm\r\n",
        "SVM=svm.SVC(C=1.0,kernel='linear')\r\n",
        "SVM.fit(X_train,y_train)"
      ],
      "execution_count": null,
      "outputs": []
    },
    {
      "cell_type": "code",
      "metadata": {
        "id": "aZUt4XtqnPqa"
      },
      "source": [
        "predictions=SVM.predict(x_tfidf_test)\r\n",
        "from sklearn.metrics import classification_report  #training the model using tfidf provides a higher accuracy for SVM\r\n",
        "print(classification_report(y_test,predictions))"
      ],
      "execution_count": null,
      "outputs": []
    },
    {
      "cell_type": "code",
      "metadata": {
        "id": "7TsyNKZdZ10O"
      },
      "source": [
        "print(grid.best_estimator_)"
      ],
      "execution_count": null,
      "outputs": []
    },
    {
      "cell_type": "markdown",
      "metadata": {
        "id": "3Arvrsu7iKEk"
      },
      "source": [
        "# Hard Voting Ensemble "
      ]
    },
    {
      "cell_type": "code",
      "metadata": {
        "id": "gZR0ARQPb4Uv"
      },
      "source": [
        "models = [] \r\n",
        "models.append(('LR',LogisticRegression()))\r\n",
        "models.append(('SVC', SVC(gamma ='auto', probability = True))) \r\n",
        "models.append(('DTC', DecisionTreeClassifier()))\r\n",
        "models.append(('knn1', KNeighborsClassifier(n_neighbors=1)))\r\n",
        "  "
      ],
      "execution_count": null,
      "outputs": []
    },
    {
      "cell_type": "code",
      "metadata": {
        "colab": {
          "base_uri": "https://localhost:8080/"
        },
        "id": "Mnbvo7RwcfEL",
        "outputId": "26939dde-a775-429d-dd54-5e0f3605e60d"
      },
      "source": [
        "vot_hard = VotingClassifier(estimators = models, voting ='hard') \r\n",
        "vot_hard.fit(X_train, y_train) \r\n",
        "y_pred = vot_hard.predict(X_test) \r\n",
        "  \r\n",
        "# using accuracy_score metric to predict accuracy \r\n",
        "score = accuracy_score(y_test, y_pred) \r\n",
        "print(\"Hard Voting Score % d\" % score) \r\n",
        "  \r\n",
        "# Voting Classifier with soft voting \r\n",
        "vot_soft = VotingClassifier(estimators = models, voting ='soft') \r\n",
        "vot_soft.fit(X_train, y_train) \r\n",
        "y_pred = vot_soft.predict(X_test) \r\n",
        "  \r\n",
        "# using accuracy_score \r\n",
        "score = accuracy_score(y_test, y_pred) \r\n",
        "print(\"Soft Voting Score % d\" % score)"
      ],
      "execution_count": null,
      "outputs": [
        {
          "output_type": "stream",
          "text": [
            "/usr/local/lib/python3.6/dist-packages/sklearn/linear_model/_logistic.py:940: ConvergenceWarning: lbfgs failed to converge (status=1):\n",
            "STOP: TOTAL NO. of ITERATIONS REACHED LIMIT.\n",
            "\n",
            "Increase the number of iterations (max_iter) or scale the data as shown in:\n",
            "    https://scikit-learn.org/stable/modules/preprocessing.html\n",
            "Please also refer to the documentation for alternative solver options:\n",
            "    https://scikit-learn.org/stable/modules/linear_model.html#logistic-regression\n",
            "  extra_warning_msg=_LOGISTIC_SOLVER_CONVERGENCE_MSG)\n"
          ],
          "name": "stderr"
        },
        {
          "output_type": "stream",
          "text": [
            "Hard Voting Score  0\n"
          ],
          "name": "stdout"
        },
        {
          "output_type": "stream",
          "text": [
            "/usr/local/lib/python3.6/dist-packages/sklearn/linear_model/_logistic.py:940: ConvergenceWarning: lbfgs failed to converge (status=1):\n",
            "STOP: TOTAL NO. of ITERATIONS REACHED LIMIT.\n",
            "\n",
            "Increase the number of iterations (max_iter) or scale the data as shown in:\n",
            "    https://scikit-learn.org/stable/modules/preprocessing.html\n",
            "Please also refer to the documentation for alternative solver options:\n",
            "    https://scikit-learn.org/stable/modules/linear_model.html#logistic-regression\n",
            "  extra_warning_msg=_LOGISTIC_SOLVER_CONVERGENCE_MSG)\n"
          ],
          "name": "stderr"
        }
      ]
    }
  ]
}