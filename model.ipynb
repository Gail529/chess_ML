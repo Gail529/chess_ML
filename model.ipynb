{
  "nbformat": 4,
  "nbformat_minor": 0,
  "metadata": {
    "colab": {
      "name": "model.ipynb",
      "provenance": [],
      "toc_visible": true,
      "authorship_tag": "ABX9TyNGy8m4yyyq1OV0dXkkVEmN",
      "include_colab_link": true
    },
    "kernelspec": {
      "name": "python3",
      "display_name": "Python 3"
    }
  },
  "cells": [
    {
      "cell_type": "markdown",
      "metadata": {
        "id": "view-in-github",
        "colab_type": "text"
      },
      "source": [
        "<a href=\"https://colab.research.google.com/github/Gail529/chess_ML/blob/main/model.ipynb\" target=\"_parent\"><img src=\"https://colab.research.google.com/assets/colab-badge.svg\" alt=\"Open In Colab\"/></a>"
      ]
    },
    {
      "cell_type": "markdown",
      "metadata": {
        "id": "iZmCz1SSh0nj"
      },
      "source": [
        "# Importing necessary libraries"
      ]
    },
    {
      "cell_type": "code",
      "metadata": {
        "colab": {
          "base_uri": "https://localhost:8080/"
        },
        "id": "JxNDyA49uZHo",
        "outputId": "9aba9164-9cd3-4c2f-ac03-387f1287cced"
      },
      "source": [
        "!pip install category_encoders"
      ],
      "execution_count": 1,
      "outputs": [
        {
          "output_type": "stream",
          "text": [
            "Collecting category_encoders\n",
            "\u001b[?25l  Downloading https://files.pythonhosted.org/packages/44/57/fcef41c248701ee62e8325026b90c432adea35555cbc870aff9cfba23727/category_encoders-2.2.2-py2.py3-none-any.whl (80kB)\n",
            "\r\u001b[K     |████                            | 10kB 14.0MB/s eta 0:00:01\r\u001b[K     |████████▏                       | 20kB 10.7MB/s eta 0:00:01\r\u001b[K     |████████████▏                   | 30kB 9.0MB/s eta 0:00:01\r\u001b[K     |████████████████▎               | 40kB 7.2MB/s eta 0:00:01\r\u001b[K     |████████████████████▎           | 51kB 4.4MB/s eta 0:00:01\r\u001b[K     |████████████████████████▍       | 61kB 4.3MB/s eta 0:00:01\r\u001b[K     |████████████████████████████▍   | 71kB 4.8MB/s eta 0:00:01\r\u001b[K     |████████████████████████████████| 81kB 3.3MB/s \n",
            "\u001b[?25hRequirement already satisfied: patsy>=0.5.1 in /usr/local/lib/python3.7/dist-packages (from category_encoders) (0.5.1)\n",
            "Requirement already satisfied: numpy>=1.14.0 in /usr/local/lib/python3.7/dist-packages (from category_encoders) (1.19.5)\n",
            "Requirement already satisfied: statsmodels>=0.9.0 in /usr/local/lib/python3.7/dist-packages (from category_encoders) (0.10.2)\n",
            "Requirement already satisfied: scikit-learn>=0.20.0 in /usr/local/lib/python3.7/dist-packages (from category_encoders) (0.22.2.post1)\n",
            "Requirement already satisfied: scipy>=1.0.0 in /usr/local/lib/python3.7/dist-packages (from category_encoders) (1.4.1)\n",
            "Requirement already satisfied: pandas>=0.21.1 in /usr/local/lib/python3.7/dist-packages (from category_encoders) (1.1.5)\n",
            "Requirement already satisfied: six in /usr/local/lib/python3.7/dist-packages (from patsy>=0.5.1->category_encoders) (1.15.0)\n",
            "Requirement already satisfied: joblib>=0.11 in /usr/local/lib/python3.7/dist-packages (from scikit-learn>=0.20.0->category_encoders) (1.0.1)\n",
            "Requirement already satisfied: pytz>=2017.2 in /usr/local/lib/python3.7/dist-packages (from pandas>=0.21.1->category_encoders) (2018.9)\n",
            "Requirement already satisfied: python-dateutil>=2.7.3 in /usr/local/lib/python3.7/dist-packages (from pandas>=0.21.1->category_encoders) (2.8.1)\n",
            "Installing collected packages: category-encoders\n",
            "Successfully installed category-encoders-2.2.2\n"
          ],
          "name": "stdout"
        }
      ]
    },
    {
      "cell_type": "code",
      "metadata": {
        "id": "u70Gc6kEEedE"
      },
      "source": [
        "import pandas as pd\r\n",
        "import numpy as np\r\n",
        "from sklearn.tree import DecisionTreeClassifier # Import Decision Tree Classifier\r\n",
        "from sklearn.ensemble import RandomForestClassifier\r\n",
        "from sklearn.ensemble import AdaBoostClassifier\r\n",
        "from sklearn.linear_model import LogisticRegression \r\n",
        "from sklearn.metrics import accuracy_score \r\n",
        "from sklearn.model_selection import GridSearchCV\r\n",
        "from sklearn.model_selection import RepeatedStratifiedKFold\r\n",
        "from sklearn.feature_selection import SelectFromModel\r\n",
        "from sklearn.model_selection import train_test_split # Import train_test_split function\r\n",
        "from sklearn import metrics \r\n",
        "import category_encoders as ce\r\n",
        "from category_encoders.hashing import HashingEncoder\r\n",
        "from category_encoders.binary import BinaryEncoder\r\n",
        "from sklearn.preprocessing import LabelEncoder \r\n",
        "from sklearn.metrics import accuracy_score \r\n",
        "from sklearn.model_selection import train_test_split \r\n",
        "from sklearn.metrics import classification_report \r\n",
        "from sklearn.model_selection import KFold, StratifiedKFold, cross_val_score\r\n",
        "from sklearn.model_selection import GridSearchCV\r\n",
        "from sklearn.ensemble import IsolationForest\r\n",
        "import warnings\r\n",
        "warnings.filterwarnings(action='ignore')\r\n",
        "warnings.filterwarnings(action='ignore', category=FutureWarning)\r\n",
        "warnings.filterwarnings(action='ignore', category=RuntimeWarning)\r\n",
        "warnings.filterwarnings(action='ignore', category=DeprecationWarning)\r\n",
        "warnings.filterwarnings(action='ignore', category=UserWarning)\r\n",
        "\r\n",
        "\r\n",
        "  "
      ],
      "execution_count": 51,
      "outputs": []
    },
    {
      "cell_type": "code",
      "metadata": {
        "id": "hFZ94ZI8VeDV"
      },
      "source": [
        "data=pd.read_csv('/content/games.csv',usecols=['turns','winner','white_rating','black_rating','opening_ply','opening_eco','increment_code'])\r\n"
      ],
      "execution_count": 32,
      "outputs": []
    },
    {
      "cell_type": "code",
      "metadata": {
        "colab": {
          "base_uri": "https://localhost:8080/",
          "height": 191
        },
        "id": "MPCnRP5IV3F1",
        "outputId": "5dc8c94e-c68d-4f5a-9ddf-43f14070e126"
      },
      "source": [
        "data.head()"
      ],
      "execution_count": 33,
      "outputs": [
        {
          "output_type": "execute_result",
          "data": {
            "text/html": [
              "<div>\n",
              "<style scoped>\n",
              "    .dataframe tbody tr th:only-of-type {\n",
              "        vertical-align: middle;\n",
              "    }\n",
              "\n",
              "    .dataframe tbody tr th {\n",
              "        vertical-align: top;\n",
              "    }\n",
              "\n",
              "    .dataframe thead th {\n",
              "        text-align: right;\n",
              "    }\n",
              "</style>\n",
              "<table border=\"1\" class=\"dataframe\">\n",
              "  <thead>\n",
              "    <tr style=\"text-align: right;\">\n",
              "      <th></th>\n",
              "      <th>turns</th>\n",
              "      <th>winner</th>\n",
              "      <th>increment_code</th>\n",
              "      <th>white_rating</th>\n",
              "      <th>black_rating</th>\n",
              "      <th>opening_eco</th>\n",
              "      <th>opening_ply</th>\n",
              "    </tr>\n",
              "  </thead>\n",
              "  <tbody>\n",
              "    <tr>\n",
              "      <th>0</th>\n",
              "      <td>13</td>\n",
              "      <td>white</td>\n",
              "      <td>15+2</td>\n",
              "      <td>1500</td>\n",
              "      <td>1191</td>\n",
              "      <td>D10</td>\n",
              "      <td>5</td>\n",
              "    </tr>\n",
              "    <tr>\n",
              "      <th>1</th>\n",
              "      <td>16</td>\n",
              "      <td>black</td>\n",
              "      <td>5+10</td>\n",
              "      <td>1322</td>\n",
              "      <td>1261</td>\n",
              "      <td>B00</td>\n",
              "      <td>4</td>\n",
              "    </tr>\n",
              "    <tr>\n",
              "      <th>2</th>\n",
              "      <td>61</td>\n",
              "      <td>white</td>\n",
              "      <td>5+10</td>\n",
              "      <td>1496</td>\n",
              "      <td>1500</td>\n",
              "      <td>C20</td>\n",
              "      <td>3</td>\n",
              "    </tr>\n",
              "    <tr>\n",
              "      <th>3</th>\n",
              "      <td>61</td>\n",
              "      <td>white</td>\n",
              "      <td>20+0</td>\n",
              "      <td>1439</td>\n",
              "      <td>1454</td>\n",
              "      <td>D02</td>\n",
              "      <td>3</td>\n",
              "    </tr>\n",
              "    <tr>\n",
              "      <th>4</th>\n",
              "      <td>95</td>\n",
              "      <td>white</td>\n",
              "      <td>30+3</td>\n",
              "      <td>1523</td>\n",
              "      <td>1469</td>\n",
              "      <td>C41</td>\n",
              "      <td>5</td>\n",
              "    </tr>\n",
              "  </tbody>\n",
              "</table>\n",
              "</div>"
            ],
            "text/plain": [
              "   turns winner increment_code  ...  black_rating  opening_eco opening_ply\n",
              "0     13  white           15+2  ...          1191          D10           5\n",
              "1     16  black           5+10  ...          1261          B00           4\n",
              "2     61  white           5+10  ...          1500          C20           3\n",
              "3     61  white           20+0  ...          1454          D02           3\n",
              "4     95  white           30+3  ...          1469          C41           5\n",
              "\n",
              "[5 rows x 7 columns]"
            ]
          },
          "metadata": {
            "tags": []
          },
          "execution_count": 33
        }
      ]
    },
    {
      "cell_type": "code",
      "metadata": {
        "id": "Eic4QUUjV1H7"
      },
      "source": [
        "data = data[data['winner'] != 'draw']"
      ],
      "execution_count": 34,
      "outputs": []
    },
    {
      "cell_type": "markdown",
      "metadata": {
        "id": "xfMtTyjAE38C"
      },
      "source": [
        "# Feature Engineering\n",
        "feature generation"
      ]
    },
    {
      "cell_type": "code",
      "metadata": {
        "colab": {
          "base_uri": "https://localhost:8080/"
        },
        "id": "FDLxRpR3QbRR",
        "outputId": "1d7a6ae3-06e8-47cb-b087-452ed3f2f68e"
      },
      "source": [
        "#creating a new feature\r\n",
        "data['rating_diff'] = data['white_rating']-data['black_rating']\r\n",
        "data.columns\r\n"
      ],
      "execution_count": 35,
      "outputs": [
        {
          "output_type": "execute_result",
          "data": {
            "text/plain": [
              "Index(['turns', 'winner', 'increment_code', 'white_rating', 'black_rating',\n",
              "       'opening_eco', 'opening_ply', 'rating_diff'],\n",
              "      dtype='object')"
            ]
          },
          "metadata": {
            "tags": []
          },
          "execution_count": 35
        }
      ]
    },
    {
      "cell_type": "markdown",
      "metadata": {
        "id": "4_VmAiudFELD"
      },
      "source": [
        "Dropping null values\n"
      ]
    },
    {
      "cell_type": "code",
      "metadata": {
        "id": "jAd43D4yUgtt",
        "colab": {
          "base_uri": "https://localhost:8080/"
        },
        "outputId": "c4e1101f-eb7d-40ae-83fe-ad817ba2b360"
      },
      "source": [
        "data.dropna(axis=0,inplace=True)\r\n",
        "data.isnull().sum().sum()\r\n"
      ],
      "execution_count": 37,
      "outputs": [
        {
          "output_type": "execute_result",
          "data": {
            "text/plain": [
              "0"
            ]
          },
          "metadata": {
            "tags": []
          },
          "execution_count": 37
        }
      ]
    },
    {
      "cell_type": "markdown",
      "metadata": {
        "id": "ExgFkrvgFKVN"
      },
      "source": [
        "Feature Scaling"
      ]
    },
    {
      "cell_type": "code",
      "metadata": {
        "colab": {
          "base_uri": "https://localhost:8080/"
        },
        "id": "blbnsO8wS9GL",
        "outputId": "c4259dce-ec2d-4f8b-ee0a-c7cea9bb0786"
      },
      "source": [
        "#standardisation\r\n",
        "from sklearn import preprocessing \r\n",
        "cols=['turns','white_rating', 'black_rating', 'opening_ply','rating_diff']\r\n",
        "cols_to_scale=data[cols]\r\n",
        "Standardisation = preprocessing.StandardScaler()  \r\n",
        "scaled_cols= Standardisation.fit_transform(cols_to_scale) \r\n",
        "print (\"\\nStandardised columns : \\n\", scaled_cols) \r\n",
        "data[cols]=scaled_cols\r\n"
      ],
      "execution_count": 38,
      "outputs": [
        {
          "output_type": "stream",
          "text": [
            "\n",
            "Standardised columns : \n",
            " [[-1.42958401 -0.3231754  -1.36220241  0.07005173  1.20298556]\n",
            " [-1.3367311  -0.93709099 -1.12093863 -0.28929014  0.21354943]\n",
            " [ 0.05606259 -0.33697125 -0.29719515 -0.648632   -0.04577859]\n",
            " ...\n",
            " [-0.74866265 -1.29233428 -1.03477299 -0.648632   -0.29712729]\n",
            " [ 1.5417092  -0.80603036 -1.2381239  -0.28929014  0.50080508]\n",
            " [ 0.5822291  -1.23715086 -0.85210184 -0.648632   -0.44474478]]\n"
          ],
          "name": "stdout"
        }
      ]
    },
    {
      "cell_type": "code",
      "metadata": {
        "id": "DO-YFoMCOc4w"
      },
      "source": [
        "# data normalization with sklearn\n",
        "from sklearn.preprocessing import MinMaxScaler\n",
        "\n",
        "# fit scaler on training data\n",
        "norm = MinMaxScaler().fit(data)\n",
        "\n",
        "# transform training data\n",
        "data = norm.transform(data)\n",
        "\n"
      ],
      "execution_count": 17,
      "outputs": []
    },
    {
      "cell_type": "markdown",
      "metadata": {
        "id": "H3xEXtzoFPfQ"
      },
      "source": [
        "# Encoding categorical  variables"
      ]
    },
    {
      "cell_type": "markdown",
      "metadata": {
        "id": "relWT72tHC6G"
      },
      "source": [
        "Using binary encoder"
      ]
    },
    {
      "cell_type": "code",
      "metadata": {
        "colab": {
          "base_uri": "https://localhost:8080/"
        },
        "id": "K6Uo2w36ToIi",
        "outputId": "604b766d-6746-4994-a0d9-9bc4c3760e3a"
      },
      "source": [
        "# label encoding the data \r\n",
        "categorical_feature_mask = data.dtypes==object\r\n",
        "# filter categorical columns using mask and turn it into a list\r\n",
        "categorical_cols = data.columns[categorical_feature_mask].tolist()\r\n",
        "print(categorical_cols)\r\n",
        "le = LabelEncoder() \r\n",
        "data['winner']= le.fit_transform(data['winner'])\r\n",
        "\r\n",
        "#for categorical_cols with high cardinality\r\n",
        "#binary encoding\r\n",
        "encoder= ce.BinaryEncoder(cols=['opening_eco','increment_code'])\r\n",
        "data_encoded=encoder.fit_transform(data) \r\n",
        "data=data_encoded"
      ],
      "execution_count": 41,
      "outputs": [
        {
          "output_type": "stream",
          "text": [
            "['increment_code', 'opening_eco']\n"
          ],
          "name": "stdout"
        }
      ]
    },
    {
      "cell_type": "markdown",
      "metadata": {
        "id": "QN2Whz3UHIaB"
      },
      "source": [
        "Using frequency encoding"
      ]
    },
    {
      "cell_type": "code",
      "metadata": {
        "colab": {
          "base_uri": "https://localhost:8080/"
        },
        "id": "XGz68noLm-rQ",
        "outputId": "7e210766-b1c4-4a6d-cfcb-124f6ff34cf0"
      },
      "source": [
        "# label encoding the data \r\n",
        "categorical_feature_mask = data.dtypes==object\r\n",
        "# filter categorical columns using mask and turn it into a list\r\n",
        "categorical_cols = data.columns[categorical_feature_mask].tolist()\r\n",
        "print(categorical_cols)\r\n",
        "le = LabelEncoder() \r\n",
        "data['winner']= le.fit_transform(data['winner'])\r\n",
        "\r\n",
        "\r\n",
        "#frequency encoding for the categorical_cols with high cardinality\r\n",
        "fe1= data.groupby('opening_eco').size()/len(data)\r\n",
        "data.loc[:,'opening_encode']=data['opening_eco'].map(fe1)\r\n",
        "fe_data=data.drop(columns=['opening_eco'],axis=1)\r\n",
        "\r\n",
        "\r\n",
        "fe2= data.groupby('increment_code').size()/len(data)\r\n",
        "data.loc[:,'incr_encode']=data['increment_code'].map(fe2)\r\n",
        "fe_data=fe_data.drop(columns=['increment_code'],axis=1)\r\n",
        "\r\n"
      ],
      "execution_count": null,
      "outputs": [
        {
          "output_type": "stream",
          "text": [
            "['increment_code', 'opening_eco']\n"
          ],
          "name": "stdout"
        }
      ]
    },
    {
      "cell_type": "markdown",
      "metadata": {
        "id": "WY_J-RIIrdY7"
      },
      "source": [
        "# Feature Importance using RANDOM FOREST\r\n",
        "\r\n",
        "\r\n"
      ]
    },
    {
      "cell_type": "code",
      "metadata": {
        "colab": {
          "base_uri": "https://localhost:8080/",
          "height": 281
        },
        "id": "HhfQftwnlJJm",
        "outputId": "16f4ff94-a7e1-4242-fc9b-9950a5277d4f"
      },
      "source": [
        "rf = RandomForestRegressor(n_estimators=100)\r\n",
        "rf.fit(X_train, y_train)\r\n",
        "rf.feature_importances_\r\n",
        "feat_importances = pd.Series(rf.feature_importances_, index=X_train.columns)\r\n",
        "feat_importances.plot(kind='barh')\r\n"
      ],
      "execution_count": null,
      "outputs": [
        {
          "output_type": "execute_result",
          "data": {
            "text/plain": [
              "<matplotlib.axes._subplots.AxesSubplot at 0x7f6a98ff6da0>"
            ]
          },
          "metadata": {
            "tags": []
          },
          "execution_count": 29
        },
        {
          "output_type": "display_data",
          "data": {
            "image/png": "[encoded data removed]",
            "text/plain": [
              "<Figure size 432x288 with 1 Axes>"
            ]
          },
          "metadata": {
            "tags": [],
            "needs_background": "light"
          }
        }
      ]
    },
    {
      "cell_type": "code",
      "metadata": {
        "id": "UcvNskqBMIit"
      },
      "source": [
        "X = data.drop(columns=['winner'], axis=1)\n",
        "y = data['winner']\n",
        "\n",
        "X_train, X_test, y_train, y_test = train_test_split(X, y, test_size=0.20, random_state=42)"
      ],
      "execution_count": 42,
      "outputs": []
    },
    {
      "cell_type": "markdown",
      "metadata": {
        "id": "Wz6Qj-D-i_pf"
      },
      "source": [
        "Logistic Regression\r\n"
      ]
    },
    {
      "cell_type": "code",
      "metadata": {
        "id": "2oWZ-8EJi7ns",
        "colab": {
          "base_uri": "https://localhost:8080/"
        },
        "outputId": "8691bb6f-e438-4a04-f3eb-80cffe979247"
      },
      "source": [
        "\r\n",
        "model = LogisticRegression()\r\n",
        "solvers = ['newton-cg', 'lbfgs', 'liblinear']\r\n",
        "penalty = ['l2']\r\n",
        "c_values = [100, 10, 1.0, 0.1, 0.01]\r\n",
        "# define grid search\r\n",
        "grid = dict(solver=solvers,penalty=penalty,C=c_values)\r\n",
        "cv = RepeatedStratifiedKFold(n_splits=10, n_repeats=3, random_state=1)\r\n",
        "grid_search = GridSearchCV(estimator=model, param_grid=grid, n_jobs=-1, cv=cv, scoring='accuracy',error_score=0)\r\n",
        "grid_result = grid_search.fit(X_train,y_train)\r\n",
        "# summarize results\r\n",
        "print(\"Best: %f using %s\" % (grid_result.best_score_, grid_result.best_params_))\r\n"
      ],
      "execution_count": 47,
      "outputs": [
        {
          "output_type": "stream",
          "text": [
            "Best: 0.654258 using {'C': 0.01, 'penalty': 'l2', 'solver': 'newton-cg'}\n"
          ],
          "name": "stdout"
        }
      ]
    },
    {
      "cell_type": "code",
      "metadata": {
        "id": "XdDP5S4Xnrn2",
        "colab": {
          "base_uri": "https://localhost:8080/"
        },
        "outputId": "357f0645-7c97-44b1-eca2-4412df9ea804"
      },
      "source": [
        "lr = LogisticRegression(C= 0.01, penalty='l2', solver='newton-cg')\r\n",
        "# fit the model with data\r\n",
        "lr.fit(X_train,y_train)\r\n",
        "y_pred=lr.predict(X_test)\r\n",
        "print(\"Test Set:\",lr.score(X_test, y_test))\r\n",
        "print(\"Training Set:\",lr.score(X_train, y_train))\r\n",
        "print(classification_report(y_test,y_pred))"
      ],
      "execution_count": 48,
      "outputs": [
        {
          "output_type": "stream",
          "text": [
            "Test Set: 0.6590790162218734\n",
            "Training Set: 0.6558288630119063\n",
            "              precision    recall  f1-score   support\n",
            "\n",
            "           0       0.66      0.60      0.63      1832\n",
            "           1       0.66      0.71      0.68      1990\n",
            "\n",
            "    accuracy                           0.66      3822\n",
            "   macro avg       0.66      0.66      0.66      3822\n",
            "weighted avg       0.66      0.66      0.66      3822\n",
            "\n"
          ],
          "name": "stdout"
        }
      ]
    },
    {
      "cell_type": "code",
      "metadata": {
        "colab": {
          "base_uri": "https://localhost:8080/"
        },
        "id": "78xkxPTqbNZy",
        "outputId": "7e2ac8ef-4799-410a-c77a-9d39241771c5"
      },
      "source": [
        "#clf =DecisionTreeClassifier().fit(X_train, y_train)\n",
        "\n",
        "# Creating Decision Tree classifer object\n",
        "dt = DecisionTreeClassifier(max_depth=13,criterion='gini')\n",
        "# Train Decision Tree Classifer\n",
        "dt = dt.fit(X_train,y_train)\n",
        "#Predict the response for test dataset\n",
        "y_pred = dt.predict(X_test)\n",
        "print(\"Accuracy:\",dt.score(X_test, y_test))\n",
        "print(\"Accuracy:\",dt.score(X_train, y_train))\n",
        "print(classification_report(y_test,y_pred))\n"
      ],
      "execution_count": 66,
      "outputs": [
        {
          "output_type": "stream",
          "text": [
            "Accuracy: 0.6664050235478807\n",
            "Accuracy: 0.7362946486981552\n",
            "              precision    recall  f1-score   support\n",
            "\n",
            "           0       0.65      0.67      0.66      1832\n",
            "           1       0.68      0.67      0.67      1990\n",
            "\n",
            "    accuracy                           0.67      3822\n",
            "   macro avg       0.67      0.67      0.67      3822\n",
            "weighted avg       0.67      0.67      0.67      3822\n",
            "\n"
          ],
          "name": "stdout"
        }
      ]
    },
    {
      "cell_type": "code",
      "metadata": {
        "colab": {
          "base_uri": "https://localhost:8080/"
        },
        "id": "_o0lD0glcwQX",
        "outputId": "6a21d8f7-3c86-461b-aa50-e3806c0c12c1"
      },
      "source": [
        "#Import Random Forest Model\n",
        "from sklearn.ensemble import RandomForestClassifier\n",
        "rf=RandomForestClassifier(n_estimators=100)\n",
        "#Train the model using the training sets y_pred=clf.predict(X_test)\n",
        "clf.fit(X_train,y_train)\n",
        "y_pred=clf.predict(X_test)\n",
        "print(\"Accuracy:\",dt.score(X_test, y_test))\n",
        "print(\"Accuracy:\",dt.score(X_train, y_train))\n",
        "print(classification_report(y_test,y_pred))\n",
        "\n"
      ],
      "execution_count": 67,
      "outputs": [
        {
          "output_type": "stream",
          "text": [
            "Accuracy: 0.6664050235478807\n",
            "Accuracy: 0.7362946486981552\n",
            "              precision    recall  f1-score   support\n",
            "\n",
            "           0       0.69      0.72      0.70      1832\n",
            "           1       0.73      0.70      0.72      1990\n",
            "\n",
            "    accuracy                           0.71      3822\n",
            "   macro avg       0.71      0.71      0.71      3822\n",
            "weighted avg       0.71      0.71      0.71      3822\n",
            "\n"
          ],
          "name": "stdout"
        }
      ]
    }
  ]
}