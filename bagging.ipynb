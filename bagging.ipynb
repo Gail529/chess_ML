{
  "nbformat": 4,
  "nbformat_minor": 0,
  "metadata": {
    "colab": {
      "name": "bagging.ipynb",
      "provenance": [],
      "authorship_tag": "ABX9TyPac4RjigOVai1FPVt1kvJ7",
      "include_colab_link": true
    },
    "kernelspec": {
      "name": "python3",
      "display_name": "Python 3"
    }
  },
  "cells": [
    {
      "cell_type": "markdown",
      "metadata": {
        "id": "view-in-github",
        "colab_type": "text"
      },
      "source": [
        "<a href=\"https://colab.research.google.com/github/Gail529/chess_ML/blob/main/bagging.ipynb\" target=\"_parent\"><img src=\"https://colab.research.google.com/assets/colab-badge.svg\" alt=\"Open In Colab\"/></a>"
      ]
    },
    {
      "cell_type": "code",
      "metadata": {
        "colab": {
          "base_uri": "https://localhost:8080/"
        },
        "id": "IauBOGJkT22Q",
        "outputId": "7c4b590c-c972-4bed-b8df-51003e1e2d1a"
      },
      "source": [
        "!pip install category_encoders"
      ],
      "execution_count": 18,
      "outputs": [
        {
          "output_type": "stream",
          "text": [
            "Collecting category_encoders\n",
            "\u001b[?25l  Downloading https://files.pythonhosted.org/packages/44/57/fcef41c248701ee62e8325026b90c432adea35555cbc870aff9cfba23727/category_encoders-2.2.2-py2.py3-none-any.whl (80kB)\n",
            "\r\u001b[K     |████                            | 10kB 18.4MB/s eta 0:00:01\r\u001b[K     |████████▏                       | 20kB 19.4MB/s eta 0:00:01\r\u001b[K     |████████████▏                   | 30kB 11.1MB/s eta 0:00:01\r\u001b[K     |████████████████▎               | 40kB 9.0MB/s eta 0:00:01\r\u001b[K     |████████████████████▎           | 51kB 5.5MB/s eta 0:00:01\r\u001b[K     |████████████████████████▍       | 61kB 5.9MB/s eta 0:00:01\r\u001b[K     |████████████████████████████▍   | 71kB 6.1MB/s eta 0:00:01\r\u001b[K     |████████████████████████████████| 81kB 4.1MB/s \n",
            "\u001b[?25hRequirement already satisfied: pandas>=0.21.1 in /usr/local/lib/python3.6/dist-packages (from category_encoders) (1.1.5)\n",
            "Requirement already satisfied: statsmodels>=0.9.0 in /usr/local/lib/python3.6/dist-packages (from category_encoders) (0.10.2)\n",
            "Requirement already satisfied: scipy>=1.0.0 in /usr/local/lib/python3.6/dist-packages (from category_encoders) (1.4.1)\n",
            "Requirement already satisfied: scikit-learn>=0.20.0 in /usr/local/lib/python3.6/dist-packages (from category_encoders) (0.22.2.post1)\n",
            "Requirement already satisfied: numpy>=1.14.0 in /usr/local/lib/python3.6/dist-packages (from category_encoders) (1.19.5)\n",
            "Requirement already satisfied: patsy>=0.5.1 in /usr/local/lib/python3.6/dist-packages (from category_encoders) (0.5.1)\n",
            "Requirement already satisfied: pytz>=2017.2 in /usr/local/lib/python3.6/dist-packages (from pandas>=0.21.1->category_encoders) (2018.9)\n",
            "Requirement already satisfied: python-dateutil>=2.7.3 in /usr/local/lib/python3.6/dist-packages (from pandas>=0.21.1->category_encoders) (2.8.1)\n",
            "Requirement already satisfied: joblib>=0.11 in /usr/local/lib/python3.6/dist-packages (from scikit-learn>=0.20.0->category_encoders) (1.0.0)\n",
            "Requirement already satisfied: six in /usr/local/lib/python3.6/dist-packages (from patsy>=0.5.1->category_encoders) (1.15.0)\n",
            "Installing collected packages: category-encoders\n",
            "Successfully installed category-encoders-2.2.2\n"
          ],
          "name": "stdout"
        }
      ]
    },
    {
      "cell_type": "code",
      "metadata": {
        "id": "vGdgvhpoov_b"
      },
      "source": [
        "import pandas as pd\r\n",
        "from sklearn.tree import DecisionTreeClassifier # Import Decision Tree Classifier\r\n",
        "from sklearn.ensemble import RandomForestClassifier\r\n",
        "from sklearn.model_selection import train_test_split # Import train_test_split function\r\n",
        "from sklearn import metrics \r\n",
        "from sklearn.tree import export_graphviz\r\n",
        "from sklearn.externals.six import StringIO  \r\n",
        "from IPython.display import Image  \r\n",
        "import pydotplus\r\n",
        "import warnings\r\n",
        "import category_encoders as ce\r\n",
        "from category_encoders.hashing import HashingEncoder\r\n",
        "from category_encoders.binary import BinaryEncoder\r\n",
        "from sklearn.preprocessing import LabelEncoder \r\n",
        "from sklearn.metrics import accuracy_score \r\n",
        "from sklearn.model_selection import train_test_split \r\n",
        "from sklearn.metrics import classification_report \r\n",
        "from sklearn.model_selection import KFold, StratifiedKFold, cross_val_score\r\n",
        "from sklearn.model_selection import GridSearchCV\r\n"
      ],
      "execution_count": 51,
      "outputs": []
    },
    {
      "cell_type": "code",
      "metadata": {
        "id": "rK_AvyDusM5E",
        "colab": {
          "base_uri": "https://localhost:8080/",
          "height": 191
        },
        "outputId": "bf2b861a-348e-4987-a569-e228d5d6c694"
      },
      "source": [
        "data=pd.read_csv('/content/games.csv',usecols=['rated','turns','victory_status','winner','white_rating','black_rating','opening_ply','opening_eco','increment_code'])\r\n",
        "data.head()"
      ],
      "execution_count": 20,
      "outputs": [
        {
          "output_type": "execute_result",
          "data": {
            "text/html": [
              "<div>\n",
              "<style scoped>\n",
              "    .dataframe tbody tr th:only-of-type {\n",
              "        vertical-align: middle;\n",
              "    }\n",
              "\n",
              "    .dataframe tbody tr th {\n",
              "        vertical-align: top;\n",
              "    }\n",
              "\n",
              "    .dataframe thead th {\n",
              "        text-align: right;\n",
              "    }\n",
              "</style>\n",
              "<table border=\"1\" class=\"dataframe\">\n",
              "  <thead>\n",
              "    <tr style=\"text-align: right;\">\n",
              "      <th></th>\n",
              "      <th>rated</th>\n",
              "      <th>turns</th>\n",
              "      <th>victory_status</th>\n",
              "      <th>winner</th>\n",
              "      <th>increment_code</th>\n",
              "      <th>white_rating</th>\n",
              "      <th>black_rating</th>\n",
              "      <th>opening_eco</th>\n",
              "      <th>opening_ply</th>\n",
              "    </tr>\n",
              "  </thead>\n",
              "  <tbody>\n",
              "    <tr>\n",
              "      <th>0</th>\n",
              "      <td>False</td>\n",
              "      <td>13</td>\n",
              "      <td>outoftime</td>\n",
              "      <td>white</td>\n",
              "      <td>15+2</td>\n",
              "      <td>1500</td>\n",
              "      <td>1191</td>\n",
              "      <td>D10</td>\n",
              "      <td>5</td>\n",
              "    </tr>\n",
              "    <tr>\n",
              "      <th>1</th>\n",
              "      <td>True</td>\n",
              "      <td>16</td>\n",
              "      <td>resign</td>\n",
              "      <td>black</td>\n",
              "      <td>5+10</td>\n",
              "      <td>1322</td>\n",
              "      <td>1261</td>\n",
              "      <td>B00</td>\n",
              "      <td>4</td>\n",
              "    </tr>\n",
              "    <tr>\n",
              "      <th>2</th>\n",
              "      <td>True</td>\n",
              "      <td>61</td>\n",
              "      <td>mate</td>\n",
              "      <td>white</td>\n",
              "      <td>5+10</td>\n",
              "      <td>1496</td>\n",
              "      <td>1500</td>\n",
              "      <td>C20</td>\n",
              "      <td>3</td>\n",
              "    </tr>\n",
              "    <tr>\n",
              "      <th>3</th>\n",
              "      <td>True</td>\n",
              "      <td>61</td>\n",
              "      <td>mate</td>\n",
              "      <td>white</td>\n",
              "      <td>20+0</td>\n",
              "      <td>1439</td>\n",
              "      <td>1454</td>\n",
              "      <td>D02</td>\n",
              "      <td>3</td>\n",
              "    </tr>\n",
              "    <tr>\n",
              "      <th>4</th>\n",
              "      <td>True</td>\n",
              "      <td>95</td>\n",
              "      <td>mate</td>\n",
              "      <td>white</td>\n",
              "      <td>30+3</td>\n",
              "      <td>1523</td>\n",
              "      <td>1469</td>\n",
              "      <td>C41</td>\n",
              "      <td>5</td>\n",
              "    </tr>\n",
              "  </tbody>\n",
              "</table>\n",
              "</div>"
            ],
            "text/plain": [
              "   rated  turns victory_status  ... black_rating opening_eco  opening_ply\n",
              "0  False     13      outoftime  ...         1191         D10            5\n",
              "1   True     16         resign  ...         1261         B00            4\n",
              "2   True     61           mate  ...         1500         C20            3\n",
              "3   True     61           mate  ...         1454         D02            3\n",
              "4   True     95           mate  ...         1469         C41            5\n",
              "\n",
              "[5 rows x 9 columns]"
            ]
          },
          "metadata": {
            "tags": []
          },
          "execution_count": 20
        }
      ]
    },
    {
      "cell_type": "code",
      "metadata": {
        "colab": {
          "base_uri": "https://localhost:8080/"
        },
        "id": "FDLxRpR3QbRR",
        "outputId": "e9c93ba1-4a4b-4da3-988b-e8e71e3435fb"
      },
      "source": [
        "data['rating_diff'] = data['white_rating']-data['black_rating']\r\n",
        "data.columns\r\n"
      ],
      "execution_count": 21,
      "outputs": [
        {
          "output_type": "execute_result",
          "data": {
            "text/plain": [
              "Index(['rated', 'turns', 'victory_status', 'winner', 'increment_code',\n",
              "       'white_rating', 'black_rating', 'opening_eco', 'opening_ply',\n",
              "       'rating_diff'],\n",
              "      dtype='object')"
            ]
          },
          "metadata": {
            "tags": []
          },
          "execution_count": 21
        }
      ]
    },
    {
      "cell_type": "code",
      "metadata": {
        "colab": {
          "base_uri": "https://localhost:8080/"
        },
        "id": "blbnsO8wS9GL",
        "outputId": "63256f3e-95a5-4263-cdfa-24f3c22e06af"
      },
      "source": [
        "from sklearn import preprocessing \r\n",
        "cols=['turns','white_rating', 'black_rating', 'opening_ply','rating_diff']\r\n",
        "cols_to_scale=data[cols]\r\n",
        "Standardisation = preprocessing.StandardScaler()  \r\n",
        "scaled_cols= Standardisation.fit_transform(cols_to_scale) \r\n",
        "print (\"\\nStandardised columns : \\n\", scaled_cols) "
      ],
      "execution_count": 22,
      "outputs": [
        {
          "output_type": "stream",
          "text": [
            "\n",
            "Standardised columns : \n",
            " [[-1.4139516  -0.33178766 -1.36698461  0.0654322   1.20949108]\n",
            " [-1.32458542 -0.94295461 -1.12645864 -0.29208323  0.21362897]\n",
            " [ 0.01590722 -0.34552175 -0.30523428 -0.64959865 -0.04738328]\n",
            " ...\n",
            " [-0.75859964 -1.2966074  -1.04055651 -0.64959865 -0.30036438]\n",
            " [ 1.44576604 -0.81248077 -1.24328554 -0.29208323  0.50275023]\n",
            " [ 0.52231555 -1.24167104 -0.858444   -0.64959865 -0.44894059]]\n"
          ],
          "name": "stdout"
        }
      ]
    },
    {
      "cell_type": "code",
      "metadata": {
        "colab": {
          "base_uri": "https://localhost:8080/",
          "height": 391
        },
        "id": "WE8rqgI2TKOf",
        "outputId": "975a53fd-625a-437a-9e1b-7ac36eeea92c"
      },
      "source": [
        "data[cols]=scaled_cols\r\n",
        "data"
      ],
      "execution_count": 23,
      "outputs": [
        {
          "output_type": "execute_result",
          "data": {
            "text/html": [
              "<div>\n",
              "<style scoped>\n",
              "    .dataframe tbody tr th:only-of-type {\n",
              "        vertical-align: middle;\n",
              "    }\n",
              "\n",
              "    .dataframe tbody tr th {\n",
              "        vertical-align: top;\n",
              "    }\n",
              "\n",
              "    .dataframe thead th {\n",
              "        text-align: right;\n",
              "    }\n",
              "</style>\n",
              "<table border=\"1\" class=\"dataframe\">\n",
              "  <thead>\n",
              "    <tr style=\"text-align: right;\">\n",
              "      <th></th>\n",
              "      <th>rated</th>\n",
              "      <th>turns</th>\n",
              "      <th>victory_status</th>\n",
              "      <th>winner</th>\n",
              "      <th>increment_code</th>\n",
              "      <th>white_rating</th>\n",
              "      <th>black_rating</th>\n",
              "      <th>opening_eco</th>\n",
              "      <th>opening_ply</th>\n",
              "      <th>rating_diff</th>\n",
              "    </tr>\n",
              "  </thead>\n",
              "  <tbody>\n",
              "    <tr>\n",
              "      <th>0</th>\n",
              "      <td>False</td>\n",
              "      <td>-1.413952</td>\n",
              "      <td>outoftime</td>\n",
              "      <td>white</td>\n",
              "      <td>15+2</td>\n",
              "      <td>-0.331788</td>\n",
              "      <td>-1.366985</td>\n",
              "      <td>D10</td>\n",
              "      <td>0.065432</td>\n",
              "      <td>1.209491</td>\n",
              "    </tr>\n",
              "    <tr>\n",
              "      <th>1</th>\n",
              "      <td>True</td>\n",
              "      <td>-1.324585</td>\n",
              "      <td>resign</td>\n",
              "      <td>black</td>\n",
              "      <td>5+10</td>\n",
              "      <td>-0.942955</td>\n",
              "      <td>-1.126459</td>\n",
              "      <td>B00</td>\n",
              "      <td>-0.292083</td>\n",
              "      <td>0.213629</td>\n",
              "    </tr>\n",
              "    <tr>\n",
              "      <th>2</th>\n",
              "      <td>True</td>\n",
              "      <td>0.015907</td>\n",
              "      <td>mate</td>\n",
              "      <td>white</td>\n",
              "      <td>5+10</td>\n",
              "      <td>-0.345522</td>\n",
              "      <td>-0.305234</td>\n",
              "      <td>C20</td>\n",
              "      <td>-0.649599</td>\n",
              "      <td>-0.047383</td>\n",
              "    </tr>\n",
              "    <tr>\n",
              "      <th>3</th>\n",
              "      <td>True</td>\n",
              "      <td>0.015907</td>\n",
              "      <td>mate</td>\n",
              "      <td>white</td>\n",
              "      <td>20+0</td>\n",
              "      <td>-0.541233</td>\n",
              "      <td>-0.463294</td>\n",
              "      <td>D02</td>\n",
              "      <td>-0.649599</td>\n",
              "      <td>-0.091555</td>\n",
              "    </tr>\n",
              "    <tr>\n",
              "      <th>4</th>\n",
              "      <td>True</td>\n",
              "      <td>1.028724</td>\n",
              "      <td>mate</td>\n",
              "      <td>white</td>\n",
              "      <td>30+3</td>\n",
              "      <td>-0.252817</td>\n",
              "      <td>-0.411753</td>\n",
              "      <td>C41</td>\n",
              "      <td>0.065432</td>\n",
              "      <td>0.185520</td>\n",
              "    </tr>\n",
              "    <tr>\n",
              "      <th>...</th>\n",
              "      <td>...</td>\n",
              "      <td>...</td>\n",
              "      <td>...</td>\n",
              "      <td>...</td>\n",
              "      <td>...</td>\n",
              "      <td>...</td>\n",
              "      <td>...</td>\n",
              "      <td>...</td>\n",
              "      <td>...</td>\n",
              "      <td>...</td>\n",
              "    </tr>\n",
              "    <tr>\n",
              "      <th>20053</th>\n",
              "      <td>True</td>\n",
              "      <td>-1.086276</td>\n",
              "      <td>resign</td>\n",
              "      <td>white</td>\n",
              "      <td>10+10</td>\n",
              "      <td>0.324015</td>\n",
              "      <td>-1.267338</td>\n",
              "      <td>A80</td>\n",
              "      <td>-1.007114</td>\n",
              "      <td>1.860014</td>\n",
              "    </tr>\n",
              "    <tr>\n",
              "      <th>20054</th>\n",
              "      <td>True</td>\n",
              "      <td>0.641470</td>\n",
              "      <td>mate</td>\n",
              "      <td>black</td>\n",
              "      <td>10+0</td>\n",
              "      <td>-1.248538</td>\n",
              "      <td>-1.349804</td>\n",
              "      <td>A41</td>\n",
              "      <td>-1.007114</td>\n",
              "      <td>0.117255</td>\n",
              "    </tr>\n",
              "    <tr>\n",
              "      <th>20055</th>\n",
              "      <td>True</td>\n",
              "      <td>-0.758600</td>\n",
              "      <td>mate</td>\n",
              "      <td>white</td>\n",
              "      <td>10+0</td>\n",
              "      <td>-1.296607</td>\n",
              "      <td>-1.040557</td>\n",
              "      <td>D00</td>\n",
              "      <td>-0.649599</td>\n",
              "      <td>-0.300364</td>\n",
              "    </tr>\n",
              "    <tr>\n",
              "      <th>20056</th>\n",
              "      <td>True</td>\n",
              "      <td>1.445766</td>\n",
              "      <td>resign</td>\n",
              "      <td>white</td>\n",
              "      <td>10+0</td>\n",
              "      <td>-0.812481</td>\n",
              "      <td>-1.243286</td>\n",
              "      <td>B07</td>\n",
              "      <td>-0.292083</td>\n",
              "      <td>0.502750</td>\n",
              "    </tr>\n",
              "    <tr>\n",
              "      <th>20057</th>\n",
              "      <td>True</td>\n",
              "      <td>0.522316</td>\n",
              "      <td>mate</td>\n",
              "      <td>black</td>\n",
              "      <td>10+0</td>\n",
              "      <td>-1.241671</td>\n",
              "      <td>-0.858444</td>\n",
              "      <td>D00</td>\n",
              "      <td>-0.649599</td>\n",
              "      <td>-0.448941</td>\n",
              "    </tr>\n",
              "  </tbody>\n",
              "</table>\n",
              "<p>20058 rows × 10 columns</p>\n",
              "</div>"
            ],
            "text/plain": [
              "       rated     turns victory_status  ... opening_eco opening_ply  rating_diff\n",
              "0      False -1.413952      outoftime  ...         D10    0.065432     1.209491\n",
              "1       True -1.324585         resign  ...         B00   -0.292083     0.213629\n",
              "2       True  0.015907           mate  ...         C20   -0.649599    -0.047383\n",
              "3       True  0.015907           mate  ...         D02   -0.649599    -0.091555\n",
              "4       True  1.028724           mate  ...         C41    0.065432     0.185520\n",
              "...      ...       ...            ...  ...         ...         ...          ...\n",
              "20053   True -1.086276         resign  ...         A80   -1.007114     1.860014\n",
              "20054   True  0.641470           mate  ...         A41   -1.007114     0.117255\n",
              "20055   True -0.758600           mate  ...         D00   -0.649599    -0.300364\n",
              "20056   True  1.445766         resign  ...         B07   -0.292083     0.502750\n",
              "20057   True  0.522316           mate  ...         D00   -0.649599    -0.448941\n",
              "\n",
              "[20058 rows x 10 columns]"
            ]
          },
          "metadata": {
            "tags": []
          },
          "execution_count": 23
        }
      ]
    },
    {
      "cell_type": "code",
      "metadata": {
        "colab": {
          "base_uri": "https://localhost:8080/",
          "height": 460
        },
        "id": "K6Uo2w36ToIi",
        "outputId": "edbfd13d-3038-4c80-db17-7ba52bffe543"
      },
      "source": [
        "# label encoding the data \r\n",
        "categorical_feature_mask = data.dtypes==object\r\n",
        "# filter categorical columns using mask and turn it into a list\r\n",
        "categorical_cols = data.columns[categorical_feature_mask].tolist()\r\n",
        "print(categorical_cols)\r\n",
        "le = LabelEncoder() \r\n",
        "data['winner']= le.fit_transform(data['winner'])\r\n",
        "data['rated']= le.fit_transform(data['rated'])\r\n",
        "data['victory_status']= le.fit_transform(data['rated'])\r\n",
        "\r\n",
        "#for categorical_cols with high cardinality\r\n",
        "encoder= ce.BinaryEncoder(cols=['increment_code','opening_eco'])\r\n",
        "data_encoded=encoder.fit_transform(data) \r\n",
        "data_encoded"
      ],
      "execution_count": 24,
      "outputs": [
        {
          "output_type": "stream",
          "text": [
            "['victory_status', 'winner', 'increment_code', 'opening_eco']\n"
          ],
          "name": "stdout"
        },
        {
          "output_type": "stream",
          "text": [
            "/usr/local/lib/python3.6/dist-packages/category_encoders/utils.py:21: FutureWarning: is_categorical is deprecated and will be removed in a future version.  Use is_categorical_dtype instead\n",
            "  elif pd.api.types.is_categorical(cols):\n"
          ],
          "name": "stderr"
        },
        {
          "output_type": "execute_result",
          "data": {
            "text/html": [
              "<div>\n",
              "<style scoped>\n",
              "    .dataframe tbody tr th:only-of-type {\n",
              "        vertical-align: middle;\n",
              "    }\n",
              "\n",
              "    .dataframe tbody tr th {\n",
              "        vertical-align: top;\n",
              "    }\n",
              "\n",
              "    .dataframe thead th {\n",
              "        text-align: right;\n",
              "    }\n",
              "</style>\n",
              "<table border=\"1\" class=\"dataframe\">\n",
              "  <thead>\n",
              "    <tr style=\"text-align: right;\">\n",
              "      <th></th>\n",
              "      <th>rated</th>\n",
              "      <th>turns</th>\n",
              "      <th>victory_status</th>\n",
              "      <th>winner</th>\n",
              "      <th>increment_code_0</th>\n",
              "      <th>increment_code_1</th>\n",
              "      <th>increment_code_2</th>\n",
              "      <th>increment_code_3</th>\n",
              "      <th>increment_code_4</th>\n",
              "      <th>increment_code_5</th>\n",
              "      <th>increment_code_6</th>\n",
              "      <th>increment_code_7</th>\n",
              "      <th>increment_code_8</th>\n",
              "      <th>increment_code_9</th>\n",
              "      <th>white_rating</th>\n",
              "      <th>black_rating</th>\n",
              "      <th>opening_eco_0</th>\n",
              "      <th>opening_eco_1</th>\n",
              "      <th>opening_eco_2</th>\n",
              "      <th>opening_eco_3</th>\n",
              "      <th>opening_eco_4</th>\n",
              "      <th>opening_eco_5</th>\n",
              "      <th>opening_eco_6</th>\n",
              "      <th>opening_eco_7</th>\n",
              "      <th>opening_eco_8</th>\n",
              "      <th>opening_eco_9</th>\n",
              "      <th>opening_ply</th>\n",
              "      <th>rating_diff</th>\n",
              "    </tr>\n",
              "  </thead>\n",
              "  <tbody>\n",
              "    <tr>\n",
              "      <th>0</th>\n",
              "      <td>0</td>\n",
              "      <td>-1.413952</td>\n",
              "      <td>0</td>\n",
              "      <td>2</td>\n",
              "      <td>0</td>\n",
              "      <td>0</td>\n",
              "      <td>0</td>\n",
              "      <td>0</td>\n",
              "      <td>0</td>\n",
              "      <td>0</td>\n",
              "      <td>0</td>\n",
              "      <td>0</td>\n",
              "      <td>0</td>\n",
              "      <td>1</td>\n",
              "      <td>-0.331788</td>\n",
              "      <td>-1.366985</td>\n",
              "      <td>0</td>\n",
              "      <td>0</td>\n",
              "      <td>0</td>\n",
              "      <td>0</td>\n",
              "      <td>0</td>\n",
              "      <td>0</td>\n",
              "      <td>0</td>\n",
              "      <td>0</td>\n",
              "      <td>0</td>\n",
              "      <td>1</td>\n",
              "      <td>0.065432</td>\n",
              "      <td>1.209491</td>\n",
              "    </tr>\n",
              "    <tr>\n",
              "      <th>1</th>\n",
              "      <td>1</td>\n",
              "      <td>-1.324585</td>\n",
              "      <td>1</td>\n",
              "      <td>0</td>\n",
              "      <td>0</td>\n",
              "      <td>0</td>\n",
              "      <td>0</td>\n",
              "      <td>0</td>\n",
              "      <td>0</td>\n",
              "      <td>0</td>\n",
              "      <td>0</td>\n",
              "      <td>0</td>\n",
              "      <td>1</td>\n",
              "      <td>0</td>\n",
              "      <td>-0.942955</td>\n",
              "      <td>-1.126459</td>\n",
              "      <td>0</td>\n",
              "      <td>0</td>\n",
              "      <td>0</td>\n",
              "      <td>0</td>\n",
              "      <td>0</td>\n",
              "      <td>0</td>\n",
              "      <td>0</td>\n",
              "      <td>0</td>\n",
              "      <td>1</td>\n",
              "      <td>0</td>\n",
              "      <td>-0.292083</td>\n",
              "      <td>0.213629</td>\n",
              "    </tr>\n",
              "    <tr>\n",
              "      <th>2</th>\n",
              "      <td>1</td>\n",
              "      <td>0.015907</td>\n",
              "      <td>1</td>\n",
              "      <td>2</td>\n",
              "      <td>0</td>\n",
              "      <td>0</td>\n",
              "      <td>0</td>\n",
              "      <td>0</td>\n",
              "      <td>0</td>\n",
              "      <td>0</td>\n",
              "      <td>0</td>\n",
              "      <td>0</td>\n",
              "      <td>1</td>\n",
              "      <td>0</td>\n",
              "      <td>-0.345522</td>\n",
              "      <td>-0.305234</td>\n",
              "      <td>0</td>\n",
              "      <td>0</td>\n",
              "      <td>0</td>\n",
              "      <td>0</td>\n",
              "      <td>0</td>\n",
              "      <td>0</td>\n",
              "      <td>0</td>\n",
              "      <td>0</td>\n",
              "      <td>1</td>\n",
              "      <td>1</td>\n",
              "      <td>-0.649599</td>\n",
              "      <td>-0.047383</td>\n",
              "    </tr>\n",
              "    <tr>\n",
              "      <th>3</th>\n",
              "      <td>1</td>\n",
              "      <td>0.015907</td>\n",
              "      <td>1</td>\n",
              "      <td>2</td>\n",
              "      <td>0</td>\n",
              "      <td>0</td>\n",
              "      <td>0</td>\n",
              "      <td>0</td>\n",
              "      <td>0</td>\n",
              "      <td>0</td>\n",
              "      <td>0</td>\n",
              "      <td>0</td>\n",
              "      <td>1</td>\n",
              "      <td>1</td>\n",
              "      <td>-0.541233</td>\n",
              "      <td>-0.463294</td>\n",
              "      <td>0</td>\n",
              "      <td>0</td>\n",
              "      <td>0</td>\n",
              "      <td>0</td>\n",
              "      <td>0</td>\n",
              "      <td>0</td>\n",
              "      <td>0</td>\n",
              "      <td>1</td>\n",
              "      <td>0</td>\n",
              "      <td>0</td>\n",
              "      <td>-0.649599</td>\n",
              "      <td>-0.091555</td>\n",
              "    </tr>\n",
              "    <tr>\n",
              "      <th>4</th>\n",
              "      <td>1</td>\n",
              "      <td>1.028724</td>\n",
              "      <td>1</td>\n",
              "      <td>2</td>\n",
              "      <td>0</td>\n",
              "      <td>0</td>\n",
              "      <td>0</td>\n",
              "      <td>0</td>\n",
              "      <td>0</td>\n",
              "      <td>0</td>\n",
              "      <td>0</td>\n",
              "      <td>1</td>\n",
              "      <td>0</td>\n",
              "      <td>0</td>\n",
              "      <td>-0.252817</td>\n",
              "      <td>-0.411753</td>\n",
              "      <td>0</td>\n",
              "      <td>0</td>\n",
              "      <td>0</td>\n",
              "      <td>0</td>\n",
              "      <td>0</td>\n",
              "      <td>0</td>\n",
              "      <td>0</td>\n",
              "      <td>1</td>\n",
              "      <td>0</td>\n",
              "      <td>1</td>\n",
              "      <td>0.065432</td>\n",
              "      <td>0.185520</td>\n",
              "    </tr>\n",
              "    <tr>\n",
              "      <th>...</th>\n",
              "      <td>...</td>\n",
              "      <td>...</td>\n",
              "      <td>...</td>\n",
              "      <td>...</td>\n",
              "      <td>...</td>\n",
              "      <td>...</td>\n",
              "      <td>...</td>\n",
              "      <td>...</td>\n",
              "      <td>...</td>\n",
              "      <td>...</td>\n",
              "      <td>...</td>\n",
              "      <td>...</td>\n",
              "      <td>...</td>\n",
              "      <td>...</td>\n",
              "      <td>...</td>\n",
              "      <td>...</td>\n",
              "      <td>...</td>\n",
              "      <td>...</td>\n",
              "      <td>...</td>\n",
              "      <td>...</td>\n",
              "      <td>...</td>\n",
              "      <td>...</td>\n",
              "      <td>...</td>\n",
              "      <td>...</td>\n",
              "      <td>...</td>\n",
              "      <td>...</td>\n",
              "      <td>...</td>\n",
              "      <td>...</td>\n",
              "    </tr>\n",
              "    <tr>\n",
              "      <th>20053</th>\n",
              "      <td>1</td>\n",
              "      <td>-1.086276</td>\n",
              "      <td>1</td>\n",
              "      <td>2</td>\n",
              "      <td>0</td>\n",
              "      <td>0</td>\n",
              "      <td>0</td>\n",
              "      <td>0</td>\n",
              "      <td>0</td>\n",
              "      <td>1</td>\n",
              "      <td>0</td>\n",
              "      <td>0</td>\n",
              "      <td>0</td>\n",
              "      <td>0</td>\n",
              "      <td>0.324015</td>\n",
              "      <td>-1.267338</td>\n",
              "      <td>0</td>\n",
              "      <td>0</td>\n",
              "      <td>0</td>\n",
              "      <td>0</td>\n",
              "      <td>1</td>\n",
              "      <td>0</td>\n",
              "      <td>0</td>\n",
              "      <td>0</td>\n",
              "      <td>0</td>\n",
              "      <td>0</td>\n",
              "      <td>-1.007114</td>\n",
              "      <td>1.860014</td>\n",
              "    </tr>\n",
              "    <tr>\n",
              "      <th>20054</th>\n",
              "      <td>1</td>\n",
              "      <td>0.641470</td>\n",
              "      <td>1</td>\n",
              "      <td>0</td>\n",
              "      <td>0</td>\n",
              "      <td>0</td>\n",
              "      <td>0</td>\n",
              "      <td>0</td>\n",
              "      <td>0</td>\n",
              "      <td>0</td>\n",
              "      <td>0</td>\n",
              "      <td>1</td>\n",
              "      <td>0</td>\n",
              "      <td>1</td>\n",
              "      <td>-1.248538</td>\n",
              "      <td>-1.349804</td>\n",
              "      <td>0</td>\n",
              "      <td>0</td>\n",
              "      <td>0</td>\n",
              "      <td>0</td>\n",
              "      <td>1</td>\n",
              "      <td>0</td>\n",
              "      <td>0</td>\n",
              "      <td>1</td>\n",
              "      <td>1</td>\n",
              "      <td>0</td>\n",
              "      <td>-1.007114</td>\n",
              "      <td>0.117255</td>\n",
              "    </tr>\n",
              "    <tr>\n",
              "      <th>20055</th>\n",
              "      <td>1</td>\n",
              "      <td>-0.758600</td>\n",
              "      <td>1</td>\n",
              "      <td>2</td>\n",
              "      <td>0</td>\n",
              "      <td>0</td>\n",
              "      <td>0</td>\n",
              "      <td>0</td>\n",
              "      <td>0</td>\n",
              "      <td>0</td>\n",
              "      <td>0</td>\n",
              "      <td>1</td>\n",
              "      <td>0</td>\n",
              "      <td>1</td>\n",
              "      <td>-1.296607</td>\n",
              "      <td>-1.040557</td>\n",
              "      <td>0</td>\n",
              "      <td>0</td>\n",
              "      <td>0</td>\n",
              "      <td>0</td>\n",
              "      <td>0</td>\n",
              "      <td>0</td>\n",
              "      <td>0</td>\n",
              "      <td>1</td>\n",
              "      <td>1</td>\n",
              "      <td>1</td>\n",
              "      <td>-0.649599</td>\n",
              "      <td>-0.300364</td>\n",
              "    </tr>\n",
              "    <tr>\n",
              "      <th>20056</th>\n",
              "      <td>1</td>\n",
              "      <td>1.445766</td>\n",
              "      <td>1</td>\n",
              "      <td>2</td>\n",
              "      <td>0</td>\n",
              "      <td>0</td>\n",
              "      <td>0</td>\n",
              "      <td>0</td>\n",
              "      <td>0</td>\n",
              "      <td>0</td>\n",
              "      <td>0</td>\n",
              "      <td>1</td>\n",
              "      <td>0</td>\n",
              "      <td>1</td>\n",
              "      <td>-0.812481</td>\n",
              "      <td>-1.243286</td>\n",
              "      <td>0</td>\n",
              "      <td>0</td>\n",
              "      <td>0</td>\n",
              "      <td>1</td>\n",
              "      <td>0</td>\n",
              "      <td>1</td>\n",
              "      <td>1</td>\n",
              "      <td>0</td>\n",
              "      <td>1</td>\n",
              "      <td>0</td>\n",
              "      <td>-0.292083</td>\n",
              "      <td>0.502750</td>\n",
              "    </tr>\n",
              "    <tr>\n",
              "      <th>20057</th>\n",
              "      <td>1</td>\n",
              "      <td>0.522316</td>\n",
              "      <td>1</td>\n",
              "      <td>0</td>\n",
              "      <td>0</td>\n",
              "      <td>0</td>\n",
              "      <td>0</td>\n",
              "      <td>0</td>\n",
              "      <td>0</td>\n",
              "      <td>0</td>\n",
              "      <td>0</td>\n",
              "      <td>1</td>\n",
              "      <td>0</td>\n",
              "      <td>1</td>\n",
              "      <td>-1.241671</td>\n",
              "      <td>-0.858444</td>\n",
              "      <td>0</td>\n",
              "      <td>0</td>\n",
              "      <td>0</td>\n",
              "      <td>0</td>\n",
              "      <td>0</td>\n",
              "      <td>0</td>\n",
              "      <td>0</td>\n",
              "      <td>1</td>\n",
              "      <td>1</td>\n",
              "      <td>1</td>\n",
              "      <td>-0.649599</td>\n",
              "      <td>-0.448941</td>\n",
              "    </tr>\n",
              "  </tbody>\n",
              "</table>\n",
              "<p>20058 rows × 28 columns</p>\n",
              "</div>"
            ],
            "text/plain": [
              "       rated     turns  victory_status  ...  opening_eco_9  opening_ply  rating_diff\n",
              "0          0 -1.413952               0  ...              1     0.065432     1.209491\n",
              "1          1 -1.324585               1  ...              0    -0.292083     0.213629\n",
              "2          1  0.015907               1  ...              1    -0.649599    -0.047383\n",
              "3          1  0.015907               1  ...              0    -0.649599    -0.091555\n",
              "4          1  1.028724               1  ...              1     0.065432     0.185520\n",
              "...      ...       ...             ...  ...            ...          ...          ...\n",
              "20053      1 -1.086276               1  ...              0    -1.007114     1.860014\n",
              "20054      1  0.641470               1  ...              0    -1.007114     0.117255\n",
              "20055      1 -0.758600               1  ...              1    -0.649599    -0.300364\n",
              "20056      1  1.445766               1  ...              0    -0.292083     0.502750\n",
              "20057      1  0.522316               1  ...              1    -0.649599    -0.448941\n",
              "\n",
              "[20058 rows x 28 columns]"
            ]
          },
          "metadata": {
            "tags": []
          },
          "execution_count": 24
        }
      ]
    },
    {
      "cell_type": "code",
      "metadata": {
        "id": "rGFehtBjVGdT"
      },
      "source": [
        "data=data_encoded"
      ],
      "execution_count": 27,
      "outputs": []
    },
    {
      "cell_type": "code",
      "metadata": {
        "id": "rmFjQSTKsgmp"
      },
      "source": [
        "x=data.iloc[:,0:27]\r\n",
        "y=data['winner']\r\n",
        "X_train, X_test, y_train, y_test = train_test_split(x,y,test_size = 0.20,random_state = 42)\r\n"
      ],
      "execution_count": 28,
      "outputs": []
    },
    {
      "cell_type": "code",
      "metadata": {
        "id": "ntJxtfHHs0ln",
        "colab": {
          "base_uri": "https://localhost:8080/"
        },
        "outputId": "8e5bd5d9-5e3e-4783-b024-d6a3119ce01d"
      },
      "source": [
        "# Create Decision Tree classifer object\r\n",
        "clf = DecisionTreeClassifier(max_depth=3,criterion='gini')\r\n",
        "# Train Decision Tree Classifer\r\n",
        "clf = clf.fit(X_train,y_train)\r\n",
        "#Predict the response for test dataset\r\n",
        "y_pred = clf.predict(X_test)\r\n",
        "print(\"Accuracy:\",metrics.accuracy_score(y_test, y_pred))\r\n"
      ],
      "execution_count": 60,
      "outputs": [
        {
          "output_type": "stream",
          "text": [
            "Accuracy: 1.0\n"
          ],
          "name": "stdout"
        }
      ]
    },
    {
      "cell_type": "code",
      "metadata": {
        "colab": {
          "base_uri": "https://localhost:8080/"
        },
        "id": "_1UAw5O0kLzG",
        "outputId": "2abaf6a7-f738-412c-af74-a552374e0d66"
      },
      "source": [
        "max_depth = [1,2,3,4,5,6,7,8,9,10]\r\n",
        "kf = StratifiedKFold(n_splits=5, shuffle=True, random_state=42)\r\n",
        "for val in max_depth:\r\n",
        "    score = cross_val_score(DecisionTreeClassifier(max_depth= val, random_state= 42), x, y, cv= kf, scoring=\"accuracy\")\r\n",
        "    print(f'Average score({val}): {\"{:.3f}\".format(score.mean())}')"
      ],
      "execution_count": 49,
      "outputs": [
        {
          "output_type": "stream",
          "text": [
            "Average score(1): 0.953\n",
            "Average score(2): 1.000\n",
            "Average score(3): 1.000\n",
            "Average score(4): 1.000\n",
            "Average score(5): 1.000\n",
            "Average score(6): 1.000\n",
            "Average score(7): 1.000\n",
            "Average score(8): 1.000\n",
            "Average score(9): 1.000\n",
            "Average score(10): 1.000\n"
          ],
          "name": "stdout"
        }
      ]
    },
    {
      "cell_type": "code",
      "metadata": {
        "colab": {
          "base_uri": "https://localhost:8080/",
          "height": 223
        },
        "id": "5JjWeqquonz0",
        "outputId": "de435092-d3a5-4f47-bae6-d6ac423ce463"
      },
      "source": [
        "dtc = DecisionTreeClassifier()\r\n",
        "\r\n",
        "parameter_grid = {'criterion': ['gini', 'entropy'],\r\n",
        "                  'splitter': ['best', 'random'],\r\n",
        "                  'max_depth': [1, 2, 3, 4, 5],\r\n",
        "                  'max_features': [1, 2, 3, 4]}\r\n",
        "cross_validation = StratifiedKFold(n_folds=2)\r\n",
        "\r\n",
        "grid_search = GridSearchCV(dct, param_grid=parameter_grid, cv=cross_validation)\r\n",
        "\r\n",
        "grid_search.fit(all_inputs, all_classes)\r\n",
        "print('Best score: {}'.format(grid_search.best_score_))\r\n",
        "print('Best parameters: {}'.format(grid_search.best_params_))\r\n",
        "\r\n",
        "dtc = grid_search.best_estimator_\r\n",
        "dtc\r\n"
      ],
      "execution_count": 59,
      "outputs": [
        {
          "output_type": "error",
          "ename": "TypeError",
          "evalue": "ignored",
          "traceback": [
            "\u001b[0;31m---------------------------------------------------------------------------\u001b[0m",
            "\u001b[0;31mTypeError\u001b[0m                                 Traceback (most recent call last)",
            "\u001b[0;32m<ipython-input-59-782bd78ebac1>\u001b[0m in \u001b[0;36m<module>\u001b[0;34m()\u001b[0m\n\u001b[1;32m      5\u001b[0m                   \u001b[0;34m'max_depth'\u001b[0m\u001b[0;34m:\u001b[0m \u001b[0;34m[\u001b[0m\u001b[0;36m1\u001b[0m\u001b[0;34m,\u001b[0m \u001b[0;36m2\u001b[0m\u001b[0;34m,\u001b[0m \u001b[0;36m3\u001b[0m\u001b[0;34m,\u001b[0m \u001b[0;36m4\u001b[0m\u001b[0;34m,\u001b[0m \u001b[0;36m5\u001b[0m\u001b[0;34m]\u001b[0m\u001b[0;34m,\u001b[0m\u001b[0;34m\u001b[0m\u001b[0;34m\u001b[0m\u001b[0m\n\u001b[1;32m      6\u001b[0m                   'max_features': [1, 2, 3, 4]}\n\u001b[0;32m----> 7\u001b[0;31m \u001b[0mcross_validation\u001b[0m \u001b[0;34m=\u001b[0m \u001b[0mStratifiedKFold\u001b[0m\u001b[0;34m(\u001b[0m\u001b[0mn_folds\u001b[0m\u001b[0;34m=\u001b[0m\u001b[0;36m2\u001b[0m\u001b[0;34m)\u001b[0m\u001b[0;34m\u001b[0m\u001b[0;34m\u001b[0m\u001b[0m\n\u001b[0m\u001b[1;32m      8\u001b[0m \u001b[0;34m\u001b[0m\u001b[0m\n\u001b[1;32m      9\u001b[0m \u001b[0mgrid_search\u001b[0m \u001b[0;34m=\u001b[0m \u001b[0mGridSearchCV\u001b[0m\u001b[0;34m(\u001b[0m\u001b[0mdct\u001b[0m\u001b[0;34m,\u001b[0m \u001b[0mparam_grid\u001b[0m\u001b[0;34m=\u001b[0m\u001b[0mparameter_grid\u001b[0m\u001b[0;34m,\u001b[0m \u001b[0mcv\u001b[0m\u001b[0;34m=\u001b[0m\u001b[0mcross_validation\u001b[0m\u001b[0;34m)\u001b[0m\u001b[0;34m\u001b[0m\u001b[0;34m\u001b[0m\u001b[0m\n",
            "\u001b[0;31mTypeError\u001b[0m: __init__() got an unexpected keyword argument 'n_folds'"
          ]
        }
      ]
    },
    {
      "cell_type": "code",
      "metadata": {
        "colab": {
          "base_uri": "https://localhost:8080/"
        },
        "id": "eFwhbllesqj4",
        "outputId": "9b89b183-8410-4056-8e7d-d64668f28c30"
      },
      "source": [
        "import numpy as np\r\n",
        "def dtree_grid_search(X,y,nfolds):\r\n",
        "    #create a dictionary of all values we want to test\r\n",
        "    param_grid = { 'criterion':['gini','entropy'],'max_depth': np.arange(3, 15)}\r\n",
        "    # decision tree model\r\n",
        "    dtree_model=DecisionTreeClassifier()\r\n",
        "    #use gridsearch to test all values\r\n",
        "    dtree_gscv = GridSearchCV(dtree_model, param_grid, cv=nfolds)\r\n",
        "    #fit model to data\r\n",
        "    dtree_gscv.fit(X, y)\r\n",
        "    return dtree_gscv.best_params_\r\n",
        "\r\n",
        "dtree_grid_search(x,y,10)"
      ],
      "execution_count": 56,
      "outputs": [
        {
          "output_type": "execute_result",
          "data": {
            "text/plain": [
              "{'criterion': 'gini', 'max_depth': 3}"
            ]
          },
          "metadata": {
            "tags": []
          },
          "execution_count": 56
        }
      ]
    },
    {
      "cell_type": "code",
      "metadata": {
        "colab": {
          "base_uri": "https://localhost:8080/"
        },
        "id": "sDOpUnwBVTFf",
        "outputId": "63bfdc40-de54-4851-9554-af64deab174f"
      },
      "source": [
        "print(\"Accuracy:\",metrics.accuracy_score(y_test, y_pred))\r\n",
        "print(classification_report(y_test,y_pred))"
      ],
      "execution_count": 37,
      "outputs": [
        {
          "output_type": "stream",
          "text": [
            "Accuracy: 1.0\n",
            "              precision    recall  f1-score   support\n",
            "\n",
            "           0       1.00      1.00      1.00      1816\n",
            "           1       1.00      1.00      1.00       192\n",
            "           2       1.00      1.00      1.00      2004\n",
            "\n",
            "    accuracy                           1.00      4012\n",
            "   macro avg       1.00      1.00      1.00      4012\n",
            "weighted avg       1.00      1.00      1.00      4012\n",
            "\n"
          ],
          "name": "stdout"
        }
      ]
    },
    {
      "cell_type": "code",
      "metadata": {
        "id": "dDxDUrmPtBGU",
        "colab": {
          "base_uri": "https://localhost:8080/",
          "height": 365
        },
        "outputId": "2cd6d2bb-9790-4ba5-eb4f-2640a368e20a"
      },
      "source": [
        "\r\n",
        "dot_data = StringIO()\r\n",
        "export_graphviz(clf, out_file=dot_data,  \r\n",
        "                filled=True, rounded=True,\r\n",
        "                special_characters=True)\r\n",
        "graph = pydotplus.graph_from_dot_data(dot_data.getvalue())  \r\n",
        "graph.write_png('chess.png')\r\n",
        "Image(graph.create_png())"
      ],
      "execution_count": 39,
      "outputs": [
        {
          "output_type": "execute_result",
          "data": {
            "image/png": "[encoded data removed]",
            "text/plain": [
              "<IPython.core.display.Image object>"
            ]
          },
          "metadata": {
            "tags": []
          },
          "execution_count": 39
        }
      ]
    },
    {
      "cell_type": "code",
      "metadata": {
        "id": "OSdw9pOLtptg",
        "colab": {
          "base_uri": "https://localhost:8080/"
        },
        "outputId": "385cd5c3-f652-4fb2-c8ee-e2308e4bcf8e"
      },
      "source": [
        "#Import Random Forest Model\r\n",
        "from sklearn.ensemble import RandomForestClassifier\r\n",
        "#Create a Gaussian Classifier\r\n",
        "clf=RandomForestClassifier(n_estimators=100)\r\n",
        "#Train the model using the training sets y_pred=clf.predict(X_test)\r\n",
        "clf.fit(X_train,y_train)\r\n",
        "y_pred=clf.predict(X_test)\r\n",
        "print(\"Accuracy:\",metrics.accuracy_score(y_test, y_pred))\r\n",
        "print(classification_report(y_test,y_pred))\r\n"
      ],
      "execution_count": 33,
      "outputs": [
        {
          "output_type": "stream",
          "text": [
            "Accuracy: 1.0\n",
            "              precision    recall  f1-score   support\n",
            "\n",
            "           0       1.00      1.00      1.00      1816\n",
            "           1       1.00      1.00      1.00       192\n",
            "           2       1.00      1.00      1.00      2004\n",
            "\n",
            "    accuracy                           1.00      4012\n",
            "   macro avg       1.00      1.00      1.00      4012\n",
            "weighted avg       1.00      1.00      1.00      4012\n",
            "\n"
          ],
          "name": "stdout"
        }
      ]
    },
    {
      "cell_type": "code",
      "metadata": {
        "id": "Q6bE6pFSwtW8"
      },
      "source": [
        "# Create adaboost classifer object\r\n",
        "abc = AdaBoostClassifier(n_estimators=50,\r\n",
        "                         learning_rate=1)\r\n",
        "# Train Adaboost Classifer\r\n",
        "model = abc.fit(X_train, y_train)\r\n",
        "\r\n",
        "#Predict the response for test dataset\r\n",
        "y_pred = model.predict(X_test)"
      ],
      "execution_count": null,
      "outputs": []
    }
  ]
}