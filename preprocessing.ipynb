{
  "nbformat": 4,
  "nbformat_minor": 0,
  "metadata": {
    "colab": {
      "name": "preprocessing.ipynb",
      "provenance": [],
      "authorship_tag": "ABX9TyNeen890RCHkJKn+Q10ozDG",
      "include_colab_link": true
    },
    "kernelspec": {
      "name": "python3",
      "display_name": "Python 3"
    }
  },
  "cells": [
    {
      "cell_type": "markdown",
      "metadata": {
        "id": "view-in-github",
        "colab_type": "text"
      },
      "source": [
        "<a href=\"https://colab.research.google.com/github/Gail529/chess_ML/blob/main/preprocessing.ipynb\" target=\"_parent\"><img src=\"https://colab.research.google.com/assets/colab-badge.svg\" alt=\"Open In Colab\"/></a>"
      ]
    },
    {
      "cell_type": "markdown",
      "metadata": {
        "id": "rfuoGoTT1h1b"
      },
      "source": [
        "# Required Libraries"
      ]
    },
    {
      "cell_type": "code",
      "metadata": {
        "colab": {
          "base_uri": "https://localhost:8080/"
        },
        "id": "CaosxbbFxE0e",
        "outputId": "3063ad1b-c6ea-4d5b-8ac2-8a020f87ac86"
      },
      "source": [
        "!pip install category_encoders"
      ],
      "execution_count": 1,
      "outputs": [
        {
          "output_type": "stream",
          "text": [
            "Collecting category_encoders\n",
            "\u001b[?25l  Downloading https://files.pythonhosted.org/packages/44/57/fcef41c248701ee62e8325026b90c432adea35555cbc870aff9cfba23727/category_encoders-2.2.2-py2.py3-none-any.whl (80kB)\n",
            "\r\u001b[K     |████                            | 10kB 18.4MB/s eta 0:00:01\r\u001b[K     |████████▏                       | 20kB 9.4MB/s eta 0:00:01\r\u001b[K     |████████████▏                   | 30kB 7.8MB/s eta 0:00:01\r\u001b[K     |████████████████▎               | 40kB 7.7MB/s eta 0:00:01\r\u001b[K     |████████████████████▎           | 51kB 4.4MB/s eta 0:00:01\r\u001b[K     |████████████████████████▍       | 61kB 5.0MB/s eta 0:00:01\r\u001b[K     |████████████████████████████▍   | 71kB 4.9MB/s eta 0:00:01\r\u001b[K     |████████████████████████████████| 81kB 3.5MB/s \n",
            "\u001b[?25hRequirement already satisfied: numpy>=1.14.0 in /usr/local/lib/python3.6/dist-packages (from category_encoders) (1.19.5)\n",
            "Requirement already satisfied: scikit-learn>=0.20.0 in /usr/local/lib/python3.6/dist-packages (from category_encoders) (0.22.2.post1)\n",
            "Requirement already satisfied: patsy>=0.5.1 in /usr/local/lib/python3.6/dist-packages (from category_encoders) (0.5.1)\n",
            "Requirement already satisfied: pandas>=0.21.1 in /usr/local/lib/python3.6/dist-packages (from category_encoders) (1.1.5)\n",
            "Requirement already satisfied: statsmodels>=0.9.0 in /usr/local/lib/python3.6/dist-packages (from category_encoders) (0.10.2)\n",
            "Requirement already satisfied: scipy>=1.0.0 in /usr/local/lib/python3.6/dist-packages (from category_encoders) (1.4.1)\n",
            "Requirement already satisfied: joblib>=0.11 in /usr/local/lib/python3.6/dist-packages (from scikit-learn>=0.20.0->category_encoders) (1.0.0)\n",
            "Requirement already satisfied: six in /usr/local/lib/python3.6/dist-packages (from patsy>=0.5.1->category_encoders) (1.15.0)\n",
            "Requirement already satisfied: python-dateutil>=2.7.3 in /usr/local/lib/python3.6/dist-packages (from pandas>=0.21.1->category_encoders) (2.8.1)\n",
            "Requirement already satisfied: pytz>=2017.2 in /usr/local/lib/python3.6/dist-packages (from pandas>=0.21.1->category_encoders) (2018.9)\n",
            "Installing collected packages: category-encoders\n",
            "Successfully installed category-encoders-2.2.2\n"
          ],
          "name": "stdout"
        }
      ]
    },
    {
      "cell_type": "code",
      "metadata": {
        "id": "wC2oslco7uMU"
      },
      "source": [
        "%matplotlib inline\r\n",
        "import warnings\r\n",
        "import category_encoders as ce\r\n",
        "from category_encoders.hashing import HashingEncoder\r\n",
        "from category_encoders.binary import BinaryEncoder\r\n",
        "import pandas as pd\r\n",
        "import numpy as np\r\n",
        "import matplotlib.pyplot as plt\r\n",
        "import seaborn as sns\r\n",
        "from sklearn import preprocessing\r\n",
        "from sklearn.preprocessing import LabelEncoder \r\n",
        "from sklearn.ensemble import VotingClassifier \r\n",
        "from sklearn.linear_model import LogisticRegression \r\n",
        "from sklearn.svm import SVC \r\n",
        "from sklearn.tree import DecisionTreeClassifier \r\n",
        "from sklearn.neighbors import KNeighborsClassifier \r\n",
        "from sklearn.metrics import accuracy_score \r\n",
        "from sklearn.model_selection import train_test_split \r\n",
        "from sklearn.model_selection import GridSearchCV\r\n",
        "from numpy import mean\r\n",
        "from numpy import std\r\n",
        "from sklearn.datasets import make_classification\r\n",
        "from sklearn.model_selection import cross_val_score\r\n",
        "from sklearn.model_selection import RepeatedStratifiedKFold\r\n",
        "from sklearn.metrics import classification_report "
      ],
      "execution_count": 49,
      "outputs": []
    },
    {
      "cell_type": "code",
      "metadata": {
        "id": "E7WNQ2Za8PbA"
      },
      "source": [
        "data=pd.read_csv('/content/games.csv')\r\n"
      ],
      "execution_count": 15,
      "outputs": []
    },
    {
      "cell_type": "code",
      "metadata": {
        "colab": {
          "base_uri": "https://localhost:8080/",
          "height": 227
        },
        "id": "X2M3lq7NVtYC",
        "outputId": "2c650a63-7821-4eff-8a2c-8724602a8bcb"
      },
      "source": [
        "print(data.shape)\r\n",
        "data.head()\r\n"
      ],
      "execution_count": 62,
      "outputs": [
        {
          "output_type": "stream",
          "text": [
            "(20058, 28)\n"
          ],
          "name": "stdout"
        },
        {
          "output_type": "execute_result",
          "data": {
            "text/html": [
              "<div>\n",
              "<style scoped>\n",
              "    .dataframe tbody tr th:only-of-type {\n",
              "        vertical-align: middle;\n",
              "    }\n",
              "\n",
              "    .dataframe tbody tr th {\n",
              "        vertical-align: top;\n",
              "    }\n",
              "\n",
              "    .dataframe thead th {\n",
              "        text-align: right;\n",
              "    }\n",
              "</style>\n",
              "<table border=\"1\" class=\"dataframe\">\n",
              "  <thead>\n",
              "    <tr style=\"text-align: right;\">\n",
              "      <th></th>\n",
              "      <th>rated</th>\n",
              "      <th>turns</th>\n",
              "      <th>victory_status</th>\n",
              "      <th>increment_code_0</th>\n",
              "      <th>increment_code_1</th>\n",
              "      <th>increment_code_2</th>\n",
              "      <th>increment_code_3</th>\n",
              "      <th>increment_code_4</th>\n",
              "      <th>increment_code_5</th>\n",
              "      <th>increment_code_6</th>\n",
              "      <th>increment_code_7</th>\n",
              "      <th>increment_code_8</th>\n",
              "      <th>increment_code_9</th>\n",
              "      <th>white_rating</th>\n",
              "      <th>black_rating</th>\n",
              "      <th>opening_eco_0</th>\n",
              "      <th>opening_eco_1</th>\n",
              "      <th>opening_eco_2</th>\n",
              "      <th>opening_eco_3</th>\n",
              "      <th>opening_eco_4</th>\n",
              "      <th>opening_eco_5</th>\n",
              "      <th>opening_eco_6</th>\n",
              "      <th>opening_eco_7</th>\n",
              "      <th>opening_eco_8</th>\n",
              "      <th>opening_eco_9</th>\n",
              "      <th>opening_ply</th>\n",
              "      <th>rating_diff</th>\n",
              "      <th>winner</th>\n",
              "    </tr>\n",
              "  </thead>\n",
              "  <tbody>\n",
              "    <tr>\n",
              "      <th>0</th>\n",
              "      <td>0</td>\n",
              "      <td>-1.413952</td>\n",
              "      <td>0</td>\n",
              "      <td>0</td>\n",
              "      <td>0</td>\n",
              "      <td>0</td>\n",
              "      <td>0</td>\n",
              "      <td>0</td>\n",
              "      <td>0</td>\n",
              "      <td>0</td>\n",
              "      <td>0</td>\n",
              "      <td>0</td>\n",
              "      <td>1</td>\n",
              "      <td>-0.331788</td>\n",
              "      <td>-1.366985</td>\n",
              "      <td>0</td>\n",
              "      <td>0</td>\n",
              "      <td>0</td>\n",
              "      <td>0</td>\n",
              "      <td>0</td>\n",
              "      <td>0</td>\n",
              "      <td>0</td>\n",
              "      <td>0</td>\n",
              "      <td>0</td>\n",
              "      <td>1</td>\n",
              "      <td>0.065432</td>\n",
              "      <td>1.209491</td>\n",
              "      <td>2</td>\n",
              "    </tr>\n",
              "    <tr>\n",
              "      <th>1</th>\n",
              "      <td>1</td>\n",
              "      <td>-1.324585</td>\n",
              "      <td>1</td>\n",
              "      <td>0</td>\n",
              "      <td>0</td>\n",
              "      <td>0</td>\n",
              "      <td>0</td>\n",
              "      <td>0</td>\n",
              "      <td>0</td>\n",
              "      <td>0</td>\n",
              "      <td>0</td>\n",
              "      <td>1</td>\n",
              "      <td>0</td>\n",
              "      <td>-0.942955</td>\n",
              "      <td>-1.126459</td>\n",
              "      <td>0</td>\n",
              "      <td>0</td>\n",
              "      <td>0</td>\n",
              "      <td>0</td>\n",
              "      <td>0</td>\n",
              "      <td>0</td>\n",
              "      <td>0</td>\n",
              "      <td>0</td>\n",
              "      <td>1</td>\n",
              "      <td>0</td>\n",
              "      <td>-0.292083</td>\n",
              "      <td>0.213629</td>\n",
              "      <td>0</td>\n",
              "    </tr>\n",
              "    <tr>\n",
              "      <th>2</th>\n",
              "      <td>1</td>\n",
              "      <td>0.015907</td>\n",
              "      <td>1</td>\n",
              "      <td>0</td>\n",
              "      <td>0</td>\n",
              "      <td>0</td>\n",
              "      <td>0</td>\n",
              "      <td>0</td>\n",
              "      <td>0</td>\n",
              "      <td>0</td>\n",
              "      <td>0</td>\n",
              "      <td>1</td>\n",
              "      <td>0</td>\n",
              "      <td>-0.345522</td>\n",
              "      <td>-0.305234</td>\n",
              "      <td>0</td>\n",
              "      <td>0</td>\n",
              "      <td>0</td>\n",
              "      <td>0</td>\n",
              "      <td>0</td>\n",
              "      <td>0</td>\n",
              "      <td>0</td>\n",
              "      <td>0</td>\n",
              "      <td>1</td>\n",
              "      <td>1</td>\n",
              "      <td>-0.649599</td>\n",
              "      <td>-0.047383</td>\n",
              "      <td>2</td>\n",
              "    </tr>\n",
              "    <tr>\n",
              "      <th>3</th>\n",
              "      <td>1</td>\n",
              "      <td>0.015907</td>\n",
              "      <td>1</td>\n",
              "      <td>0</td>\n",
              "      <td>0</td>\n",
              "      <td>0</td>\n",
              "      <td>0</td>\n",
              "      <td>0</td>\n",
              "      <td>0</td>\n",
              "      <td>0</td>\n",
              "      <td>0</td>\n",
              "      <td>1</td>\n",
              "      <td>1</td>\n",
              "      <td>-0.541233</td>\n",
              "      <td>-0.463294</td>\n",
              "      <td>0</td>\n",
              "      <td>0</td>\n",
              "      <td>0</td>\n",
              "      <td>0</td>\n",
              "      <td>0</td>\n",
              "      <td>0</td>\n",
              "      <td>0</td>\n",
              "      <td>1</td>\n",
              "      <td>0</td>\n",
              "      <td>0</td>\n",
              "      <td>-0.649599</td>\n",
              "      <td>-0.091555</td>\n",
              "      <td>2</td>\n",
              "    </tr>\n",
              "    <tr>\n",
              "      <th>4</th>\n",
              "      <td>1</td>\n",
              "      <td>1.028724</td>\n",
              "      <td>1</td>\n",
              "      <td>0</td>\n",
              "      <td>0</td>\n",
              "      <td>0</td>\n",
              "      <td>0</td>\n",
              "      <td>0</td>\n",
              "      <td>0</td>\n",
              "      <td>0</td>\n",
              "      <td>1</td>\n",
              "      <td>0</td>\n",
              "      <td>0</td>\n",
              "      <td>-0.252817</td>\n",
              "      <td>-0.411753</td>\n",
              "      <td>0</td>\n",
              "      <td>0</td>\n",
              "      <td>0</td>\n",
              "      <td>0</td>\n",
              "      <td>0</td>\n",
              "      <td>0</td>\n",
              "      <td>0</td>\n",
              "      <td>1</td>\n",
              "      <td>0</td>\n",
              "      <td>1</td>\n",
              "      <td>0.065432</td>\n",
              "      <td>0.185520</td>\n",
              "      <td>2</td>\n",
              "    </tr>\n",
              "  </tbody>\n",
              "</table>\n",
              "</div>"
            ],
            "text/plain": [
              "   rated     turns  victory_status  ...  opening_ply  rating_diff  winner\n",
              "0      0 -1.413952               0  ...     0.065432     1.209491       2\n",
              "1      1 -1.324585               1  ...    -0.292083     0.213629       0\n",
              "2      1  0.015907               1  ...    -0.649599    -0.047383       2\n",
              "3      1  0.015907               1  ...    -0.649599    -0.091555       2\n",
              "4      1  1.028724               1  ...     0.065432     0.185520       2\n",
              "\n",
              "[5 rows x 28 columns]"
            ]
          },
          "metadata": {
            "tags": []
          },
          "execution_count": 62
        }
      ]
    },
    {
      "cell_type": "code",
      "metadata": {
        "id": "ZPGQmD778io-"
      },
      "source": [
        "data.columns\r\n",
        "del data['id']\r\n",
        "del data['created_at']\r\n",
        "del data['last_move_at']\r\n",
        "del data['white_id']\r\n",
        "del data['black_id']\r\n",
        "del data['opening_name']\r\n",
        "del data['moves']\r\n"
      ],
      "execution_count": 17,
      "outputs": []
    },
    {
      "cell_type": "code",
      "metadata": {
        "colab": {
          "base_uri": "https://localhost:8080/"
        },
        "id": "PB3FcmSC8j1x",
        "outputId": "617bc3b5-9e2f-4219-cdbf-72faf7d0e641"
      },
      "source": [
        "data['rating_diff'] = data['white_rating']-data['black_rating']\r\n",
        "data.columns"
      ],
      "execution_count": 18,
      "outputs": [
        {
          "output_type": "execute_result",
          "data": {
            "text/plain": [
              "Index(['rated', 'turns', 'victory_status', 'winner', 'increment_code',\n",
              "       'white_rating', 'black_rating', 'opening_eco', 'opening_ply',\n",
              "       'rating_diff'],\n",
              "      dtype='object')"
            ]
          },
          "metadata": {
            "tags": []
          },
          "execution_count": 18
        }
      ]
    },
    {
      "cell_type": "code",
      "metadata": {
        "id": "izXxeULZ8wvy",
        "colab": {
          "base_uri": "https://localhost:8080/"
        },
        "outputId": "13c1b578-ba9e-488f-c8c6-db44320a7e72"
      },
      "source": [
        "data.dtypes"
      ],
      "execution_count": 8,
      "outputs": [
        {
          "output_type": "execute_result",
          "data": {
            "text/plain": [
              "rated               bool\n",
              "turns              int64\n",
              "victory_status    object\n",
              "winner            object\n",
              "increment_code    object\n",
              "white_rating       int64\n",
              "black_rating       int64\n",
              "opening_eco       object\n",
              "opening_ply        int64\n",
              "rating_diff        int64\n",
              "dtype: object"
            ]
          },
          "metadata": {
            "tags": []
          },
          "execution_count": 8
        }
      ]
    },
    {
      "cell_type": "code",
      "metadata": {
        "id": "xdZ2Ua5582pX",
        "colab": {
          "base_uri": "https://localhost:8080/",
          "height": 277
        },
        "outputId": "cf8250a3-b016-4e53-e151-721bc2283662"
      },
      "source": [
        "data.describe()"
      ],
      "execution_count": 9,
      "outputs": [
        {
          "output_type": "execute_result",
          "data": {
            "text/html": [
              "<div>\n",
              "<style scoped>\n",
              "    .dataframe tbody tr th:only-of-type {\n",
              "        vertical-align: middle;\n",
              "    }\n",
              "\n",
              "    .dataframe tbody tr th {\n",
              "        vertical-align: top;\n",
              "    }\n",
              "\n",
              "    .dataframe thead th {\n",
              "        text-align: right;\n",
              "    }\n",
              "</style>\n",
              "<table border=\"1\" class=\"dataframe\">\n",
              "  <thead>\n",
              "    <tr style=\"text-align: right;\">\n",
              "      <th></th>\n",
              "      <th>turns</th>\n",
              "      <th>white_rating</th>\n",
              "      <th>black_rating</th>\n",
              "      <th>opening_ply</th>\n",
              "      <th>rating_diff</th>\n",
              "    </tr>\n",
              "  </thead>\n",
              "  <tbody>\n",
              "    <tr>\n",
              "      <th>count</th>\n",
              "      <td>20058.000000</td>\n",
              "      <td>20058.000000</td>\n",
              "      <td>20058.000000</td>\n",
              "      <td>20058.000000</td>\n",
              "      <td>20058.000000</td>\n",
              "    </tr>\n",
              "    <tr>\n",
              "      <th>mean</th>\n",
              "      <td>60.465999</td>\n",
              "      <td>1596.631868</td>\n",
              "      <td>1588.831987</td>\n",
              "      <td>4.816981</td>\n",
              "      <td>7.799880</td>\n",
              "    </tr>\n",
              "    <tr>\n",
              "      <th>std</th>\n",
              "      <td>33.570585</td>\n",
              "      <td>291.253376</td>\n",
              "      <td>291.036126</td>\n",
              "      <td>2.797152</td>\n",
              "      <td>249.036667</td>\n",
              "    </tr>\n",
              "    <tr>\n",
              "      <th>min</th>\n",
              "      <td>1.000000</td>\n",
              "      <td>784.000000</td>\n",
              "      <td>789.000000</td>\n",
              "      <td>1.000000</td>\n",
              "      <td>-1605.000000</td>\n",
              "    </tr>\n",
              "    <tr>\n",
              "      <th>25%</th>\n",
              "      <td>37.000000</td>\n",
              "      <td>1398.000000</td>\n",
              "      <td>1391.000000</td>\n",
              "      <td>3.000000</td>\n",
              "      <td>-108.000000</td>\n",
              "    </tr>\n",
              "    <tr>\n",
              "      <th>50%</th>\n",
              "      <td>55.000000</td>\n",
              "      <td>1567.000000</td>\n",
              "      <td>1562.000000</td>\n",
              "      <td>4.000000</td>\n",
              "      <td>3.000000</td>\n",
              "    </tr>\n",
              "    <tr>\n",
              "      <th>75%</th>\n",
              "      <td>79.000000</td>\n",
              "      <td>1793.000000</td>\n",
              "      <td>1784.000000</td>\n",
              "      <td>6.000000</td>\n",
              "      <td>122.000000</td>\n",
              "    </tr>\n",
              "    <tr>\n",
              "      <th>max</th>\n",
              "      <td>349.000000</td>\n",
              "      <td>2700.000000</td>\n",
              "      <td>2723.000000</td>\n",
              "      <td>28.000000</td>\n",
              "      <td>1499.000000</td>\n",
              "    </tr>\n",
              "  </tbody>\n",
              "</table>\n",
              "</div>"
            ],
            "text/plain": [
              "              turns  white_rating  black_rating   opening_ply   rating_diff\n",
              "count  20058.000000  20058.000000  20058.000000  20058.000000  20058.000000\n",
              "mean      60.465999   1596.631868   1588.831987      4.816981      7.799880\n",
              "std       33.570585    291.253376    291.036126      2.797152    249.036667\n",
              "min        1.000000    784.000000    789.000000      1.000000  -1605.000000\n",
              "25%       37.000000   1398.000000   1391.000000      3.000000   -108.000000\n",
              "50%       55.000000   1567.000000   1562.000000      4.000000      3.000000\n",
              "75%       79.000000   1793.000000   1784.000000      6.000000    122.000000\n",
              "max      349.000000   2700.000000   2723.000000     28.000000   1499.000000"
            ]
          },
          "metadata": {
            "tags": []
          },
          "execution_count": 9
        }
      ]
    },
    {
      "cell_type": "markdown",
      "metadata": {
        "id": "1cinio0WzIbB"
      },
      "source": [
        "# Scaling and Encoding categorical variables"
      ]
    },
    {
      "cell_type": "code",
      "metadata": {
        "colab": {
          "base_uri": "https://localhost:8080/"
        },
        "id": "zY2AI5OeAydq",
        "outputId": "db72ec79-4bc2-4ab1-945f-350914b6a008"
      },
      "source": [
        "#Scaling continous variables \r\n",
        "#standardisation\r\n",
        "from sklearn import preprocessing \r\n",
        "cols=['turns','white_rating', 'black_rating', 'opening_ply','rating_diff']\r\n",
        "cols_to_scale=data[cols]\r\n",
        "Standardisation = preprocessing.StandardScaler()  \r\n",
        "scaled_cols= Standardisation.fit_transform(cols_to_scale) \r\n",
        "print (\"\\nStandardised columns : \\n\", scaled_cols) "
      ],
      "execution_count": 19,
      "outputs": [
        {
          "output_type": "stream",
          "text": [
            "\n",
            "Standardised columns : \n",
            " [[-1.4139516  -0.33178766 -1.36698461  0.0654322   1.20949108]\n",
            " [-1.32458542 -0.94295461 -1.12645864 -0.29208323  0.21362897]\n",
            " [ 0.01590722 -0.34552175 -0.30523428 -0.64959865 -0.04738328]\n",
            " ...\n",
            " [-0.75859964 -1.2966074  -1.04055651 -0.64959865 -0.30036438]\n",
            " [ 1.44576604 -0.81248077 -1.24328554 -0.29208323  0.50275023]\n",
            " [ 0.52231555 -1.24167104 -0.858444   -0.64959865 -0.44894059]]\n"
          ],
          "name": "stdout"
        }
      ]
    },
    {
      "cell_type": "code",
      "metadata": {
        "id": "UJ7dkYtrmc_Q"
      },
      "source": [
        "data[cols]=scaled_cols"
      ],
      "execution_count": 20,
      "outputs": []
    },
    {
      "cell_type": "code",
      "metadata": {
        "colab": {
          "base_uri": "https://localhost:8080/"
        },
        "id": "R428nukoCZLm",
        "outputId": "de4e68e7-11d0-4475-d5c0-59e9d7cb05e7"
      },
      "source": [
        "#Scaling continous variables \r\n",
        "#min max scaling\r\n",
        "cols=['turns','white_rating', 'black_rating', 'opening_ply']\r\n",
        "cols_to_scale=data[cols]\r\n",
        "min_max_scaler = preprocessing.MinMaxScaler(feature_range =(0, 1)) \r\n",
        "scaled_cols = min_max_scaler.fit_transform(cols_to_scale) \r\n",
        "  \r\n",
        "print (\"\\nAfter min max Scaling : \\n\", scaled_cols) \r\n"
      ],
      "execution_count": 11,
      "outputs": [
        {
          "output_type": "stream",
          "text": [
            "\n",
            "After min max Scaling : \n",
            " [[0.03448276 0.3736952  0.20785936 0.14814815]\n",
            " [0.04310345 0.28079332 0.24405377 0.11111111]\n",
            " [0.17241379 0.37160752 0.36763185 0.07407407]\n",
            " ...\n",
            " [0.09770115 0.22703549 0.25698035 0.07407407]\n",
            " [0.31034483 0.3006263  0.22647363 0.11111111]\n",
            " [0.22126437 0.23538622 0.28438469 0.07407407]]\n"
          ],
          "name": "stdout"
        }
      ]
    },
    {
      "cell_type": "code",
      "metadata": {
        "colab": {
          "base_uri": "https://localhost:8080/",
          "height": 460
        },
        "id": "iPyH3D3dP-eP",
        "outputId": "21412a30-99ad-4782-a221-e8cca810c8a5"
      },
      "source": [
        "# label encoding the data \r\n",
        "categorical_feature_mask = data.dtypes==object\r\n",
        "# filter categorical columns using mask and turn it into a list\r\n",
        "categorical_cols = data.columns[categorical_feature_mask].tolist()\r\n",
        "print(categorical_cols)\r\n",
        "le = LabelEncoder() \r\n",
        "data['winner']= le.fit_transform(data['winner'])\r\n",
        "data['rated']= le.fit_transform(data['rated'])\r\n",
        "data['victory_status']= le.fit_transform(data['rated'])\r\n",
        "\r\n",
        "#for categorical_cols with high cardinality\r\n",
        "encoder= ce.BinaryEncoder(cols=['increment_code','opening_eco'])\r\n",
        "data_encoded=encoder.fit_transform(data) \r\n",
        "data_encoded\r\n",
        "\r\n"
      ],
      "execution_count": 21,
      "outputs": [
        {
          "output_type": "stream",
          "text": [
            "['victory_status', 'winner', 'increment_code', 'opening_eco']\n"
          ],
          "name": "stdout"
        },
        {
          "output_type": "stream",
          "text": [
            "/usr/local/lib/python3.6/dist-packages/category_encoders/utils.py:21: FutureWarning: is_categorical is deprecated and will be removed in a future version.  Use is_categorical_dtype instead\n",
            "  elif pd.api.types.is_categorical(cols):\n"
          ],
          "name": "stderr"
        },
        {
          "output_type": "execute_result",
          "data": {
            "text/html": [
              "<div>\n",
              "<style scoped>\n",
              "    .dataframe tbody tr th:only-of-type {\n",
              "        vertical-align: middle;\n",
              "    }\n",
              "\n",
              "    .dataframe tbody tr th {\n",
              "        vertical-align: top;\n",
              "    }\n",
              "\n",
              "    .dataframe thead th {\n",
              "        text-align: right;\n",
              "    }\n",
              "</style>\n",
              "<table border=\"1\" class=\"dataframe\">\n",
              "  <thead>\n",
              "    <tr style=\"text-align: right;\">\n",
              "      <th></th>\n",
              "      <th>rated</th>\n",
              "      <th>turns</th>\n",
              "      <th>victory_status</th>\n",
              "      <th>winner</th>\n",
              "      <th>increment_code_0</th>\n",
              "      <th>increment_code_1</th>\n",
              "      <th>increment_code_2</th>\n",
              "      <th>increment_code_3</th>\n",
              "      <th>increment_code_4</th>\n",
              "      <th>increment_code_5</th>\n",
              "      <th>increment_code_6</th>\n",
              "      <th>increment_code_7</th>\n",
              "      <th>increment_code_8</th>\n",
              "      <th>increment_code_9</th>\n",
              "      <th>white_rating</th>\n",
              "      <th>black_rating</th>\n",
              "      <th>opening_eco_0</th>\n",
              "      <th>opening_eco_1</th>\n",
              "      <th>opening_eco_2</th>\n",
              "      <th>opening_eco_3</th>\n",
              "      <th>opening_eco_4</th>\n",
              "      <th>opening_eco_5</th>\n",
              "      <th>opening_eco_6</th>\n",
              "      <th>opening_eco_7</th>\n",
              "      <th>opening_eco_8</th>\n",
              "      <th>opening_eco_9</th>\n",
              "      <th>opening_ply</th>\n",
              "      <th>rating_diff</th>\n",
              "    </tr>\n",
              "  </thead>\n",
              "  <tbody>\n",
              "    <tr>\n",
              "      <th>0</th>\n",
              "      <td>0</td>\n",
              "      <td>-1.413952</td>\n",
              "      <td>0</td>\n",
              "      <td>2</td>\n",
              "      <td>0</td>\n",
              "      <td>0</td>\n",
              "      <td>0</td>\n",
              "      <td>0</td>\n",
              "      <td>0</td>\n",
              "      <td>0</td>\n",
              "      <td>0</td>\n",
              "      <td>0</td>\n",
              "      <td>0</td>\n",
              "      <td>1</td>\n",
              "      <td>-0.331788</td>\n",
              "      <td>-1.366985</td>\n",
              "      <td>0</td>\n",
              "      <td>0</td>\n",
              "      <td>0</td>\n",
              "      <td>0</td>\n",
              "      <td>0</td>\n",
              "      <td>0</td>\n",
              "      <td>0</td>\n",
              "      <td>0</td>\n",
              "      <td>0</td>\n",
              "      <td>1</td>\n",
              "      <td>0.065432</td>\n",
              "      <td>1.209491</td>\n",
              "    </tr>\n",
              "    <tr>\n",
              "      <th>1</th>\n",
              "      <td>1</td>\n",
              "      <td>-1.324585</td>\n",
              "      <td>1</td>\n",
              "      <td>0</td>\n",
              "      <td>0</td>\n",
              "      <td>0</td>\n",
              "      <td>0</td>\n",
              "      <td>0</td>\n",
              "      <td>0</td>\n",
              "      <td>0</td>\n",
              "      <td>0</td>\n",
              "      <td>0</td>\n",
              "      <td>1</td>\n",
              "      <td>0</td>\n",
              "      <td>-0.942955</td>\n",
              "      <td>-1.126459</td>\n",
              "      <td>0</td>\n",
              "      <td>0</td>\n",
              "      <td>0</td>\n",
              "      <td>0</td>\n",
              "      <td>0</td>\n",
              "      <td>0</td>\n",
              "      <td>0</td>\n",
              "      <td>0</td>\n",
              "      <td>1</td>\n",
              "      <td>0</td>\n",
              "      <td>-0.292083</td>\n",
              "      <td>0.213629</td>\n",
              "    </tr>\n",
              "    <tr>\n",
              "      <th>2</th>\n",
              "      <td>1</td>\n",
              "      <td>0.015907</td>\n",
              "      <td>1</td>\n",
              "      <td>2</td>\n",
              "      <td>0</td>\n",
              "      <td>0</td>\n",
              "      <td>0</td>\n",
              "      <td>0</td>\n",
              "      <td>0</td>\n",
              "      <td>0</td>\n",
              "      <td>0</td>\n",
              "      <td>0</td>\n",
              "      <td>1</td>\n",
              "      <td>0</td>\n",
              "      <td>-0.345522</td>\n",
              "      <td>-0.305234</td>\n",
              "      <td>0</td>\n",
              "      <td>0</td>\n",
              "      <td>0</td>\n",
              "      <td>0</td>\n",
              "      <td>0</td>\n",
              "      <td>0</td>\n",
              "      <td>0</td>\n",
              "      <td>0</td>\n",
              "      <td>1</td>\n",
              "      <td>1</td>\n",
              "      <td>-0.649599</td>\n",
              "      <td>-0.047383</td>\n",
              "    </tr>\n",
              "    <tr>\n",
              "      <th>3</th>\n",
              "      <td>1</td>\n",
              "      <td>0.015907</td>\n",
              "      <td>1</td>\n",
              "      <td>2</td>\n",
              "      <td>0</td>\n",
              "      <td>0</td>\n",
              "      <td>0</td>\n",
              "      <td>0</td>\n",
              "      <td>0</td>\n",
              "      <td>0</td>\n",
              "      <td>0</td>\n",
              "      <td>0</td>\n",
              "      <td>1</td>\n",
              "      <td>1</td>\n",
              "      <td>-0.541233</td>\n",
              "      <td>-0.463294</td>\n",
              "      <td>0</td>\n",
              "      <td>0</td>\n",
              "      <td>0</td>\n",
              "      <td>0</td>\n",
              "      <td>0</td>\n",
              "      <td>0</td>\n",
              "      <td>0</td>\n",
              "      <td>1</td>\n",
              "      <td>0</td>\n",
              "      <td>0</td>\n",
              "      <td>-0.649599</td>\n",
              "      <td>-0.091555</td>\n",
              "    </tr>\n",
              "    <tr>\n",
              "      <th>4</th>\n",
              "      <td>1</td>\n",
              "      <td>1.028724</td>\n",
              "      <td>1</td>\n",
              "      <td>2</td>\n",
              "      <td>0</td>\n",
              "      <td>0</td>\n",
              "      <td>0</td>\n",
              "      <td>0</td>\n",
              "      <td>0</td>\n",
              "      <td>0</td>\n",
              "      <td>0</td>\n",
              "      <td>1</td>\n",
              "      <td>0</td>\n",
              "      <td>0</td>\n",
              "      <td>-0.252817</td>\n",
              "      <td>-0.411753</td>\n",
              "      <td>0</td>\n",
              "      <td>0</td>\n",
              "      <td>0</td>\n",
              "      <td>0</td>\n",
              "      <td>0</td>\n",
              "      <td>0</td>\n",
              "      <td>0</td>\n",
              "      <td>1</td>\n",
              "      <td>0</td>\n",
              "      <td>1</td>\n",
              "      <td>0.065432</td>\n",
              "      <td>0.185520</td>\n",
              "    </tr>\n",
              "    <tr>\n",
              "      <th>...</th>\n",
              "      <td>...</td>\n",
              "      <td>...</td>\n",
              "      <td>...</td>\n",
              "      <td>...</td>\n",
              "      <td>...</td>\n",
              "      <td>...</td>\n",
              "      <td>...</td>\n",
              "      <td>...</td>\n",
              "      <td>...</td>\n",
              "      <td>...</td>\n",
              "      <td>...</td>\n",
              "      <td>...</td>\n",
              "      <td>...</td>\n",
              "      <td>...</td>\n",
              "      <td>...</td>\n",
              "      <td>...</td>\n",
              "      <td>...</td>\n",
              "      <td>...</td>\n",
              "      <td>...</td>\n",
              "      <td>...</td>\n",
              "      <td>...</td>\n",
              "      <td>...</td>\n",
              "      <td>...</td>\n",
              "      <td>...</td>\n",
              "      <td>...</td>\n",
              "      <td>...</td>\n",
              "      <td>...</td>\n",
              "      <td>...</td>\n",
              "    </tr>\n",
              "    <tr>\n",
              "      <th>20053</th>\n",
              "      <td>1</td>\n",
              "      <td>-1.086276</td>\n",
              "      <td>1</td>\n",
              "      <td>2</td>\n",
              "      <td>0</td>\n",
              "      <td>0</td>\n",
              "      <td>0</td>\n",
              "      <td>0</td>\n",
              "      <td>0</td>\n",
              "      <td>1</td>\n",
              "      <td>0</td>\n",
              "      <td>0</td>\n",
              "      <td>0</td>\n",
              "      <td>0</td>\n",
              "      <td>0.324015</td>\n",
              "      <td>-1.267338</td>\n",
              "      <td>0</td>\n",
              "      <td>0</td>\n",
              "      <td>0</td>\n",
              "      <td>0</td>\n",
              "      <td>1</td>\n",
              "      <td>0</td>\n",
              "      <td>0</td>\n",
              "      <td>0</td>\n",
              "      <td>0</td>\n",
              "      <td>0</td>\n",
              "      <td>-1.007114</td>\n",
              "      <td>1.860014</td>\n",
              "    </tr>\n",
              "    <tr>\n",
              "      <th>20054</th>\n",
              "      <td>1</td>\n",
              "      <td>0.641470</td>\n",
              "      <td>1</td>\n",
              "      <td>0</td>\n",
              "      <td>0</td>\n",
              "      <td>0</td>\n",
              "      <td>0</td>\n",
              "      <td>0</td>\n",
              "      <td>0</td>\n",
              "      <td>0</td>\n",
              "      <td>0</td>\n",
              "      <td>1</td>\n",
              "      <td>0</td>\n",
              "      <td>1</td>\n",
              "      <td>-1.248538</td>\n",
              "      <td>-1.349804</td>\n",
              "      <td>0</td>\n",
              "      <td>0</td>\n",
              "      <td>0</td>\n",
              "      <td>0</td>\n",
              "      <td>1</td>\n",
              "      <td>0</td>\n",
              "      <td>0</td>\n",
              "      <td>1</td>\n",
              "      <td>1</td>\n",
              "      <td>0</td>\n",
              "      <td>-1.007114</td>\n",
              "      <td>0.117255</td>\n",
              "    </tr>\n",
              "    <tr>\n",
              "      <th>20055</th>\n",
              "      <td>1</td>\n",
              "      <td>-0.758600</td>\n",
              "      <td>1</td>\n",
              "      <td>2</td>\n",
              "      <td>0</td>\n",
              "      <td>0</td>\n",
              "      <td>0</td>\n",
              "      <td>0</td>\n",
              "      <td>0</td>\n",
              "      <td>0</td>\n",
              "      <td>0</td>\n",
              "      <td>1</td>\n",
              "      <td>0</td>\n",
              "      <td>1</td>\n",
              "      <td>-1.296607</td>\n",
              "      <td>-1.040557</td>\n",
              "      <td>0</td>\n",
              "      <td>0</td>\n",
              "      <td>0</td>\n",
              "      <td>0</td>\n",
              "      <td>0</td>\n",
              "      <td>0</td>\n",
              "      <td>0</td>\n",
              "      <td>1</td>\n",
              "      <td>1</td>\n",
              "      <td>1</td>\n",
              "      <td>-0.649599</td>\n",
              "      <td>-0.300364</td>\n",
              "    </tr>\n",
              "    <tr>\n",
              "      <th>20056</th>\n",
              "      <td>1</td>\n",
              "      <td>1.445766</td>\n",
              "      <td>1</td>\n",
              "      <td>2</td>\n",
              "      <td>0</td>\n",
              "      <td>0</td>\n",
              "      <td>0</td>\n",
              "      <td>0</td>\n",
              "      <td>0</td>\n",
              "      <td>0</td>\n",
              "      <td>0</td>\n",
              "      <td>1</td>\n",
              "      <td>0</td>\n",
              "      <td>1</td>\n",
              "      <td>-0.812481</td>\n",
              "      <td>-1.243286</td>\n",
              "      <td>0</td>\n",
              "      <td>0</td>\n",
              "      <td>0</td>\n",
              "      <td>1</td>\n",
              "      <td>0</td>\n",
              "      <td>1</td>\n",
              "      <td>1</td>\n",
              "      <td>0</td>\n",
              "      <td>1</td>\n",
              "      <td>0</td>\n",
              "      <td>-0.292083</td>\n",
              "      <td>0.502750</td>\n",
              "    </tr>\n",
              "    <tr>\n",
              "      <th>20057</th>\n",
              "      <td>1</td>\n",
              "      <td>0.522316</td>\n",
              "      <td>1</td>\n",
              "      <td>0</td>\n",
              "      <td>0</td>\n",
              "      <td>0</td>\n",
              "      <td>0</td>\n",
              "      <td>0</td>\n",
              "      <td>0</td>\n",
              "      <td>0</td>\n",
              "      <td>0</td>\n",
              "      <td>1</td>\n",
              "      <td>0</td>\n",
              "      <td>1</td>\n",
              "      <td>-1.241671</td>\n",
              "      <td>-0.858444</td>\n",
              "      <td>0</td>\n",
              "      <td>0</td>\n",
              "      <td>0</td>\n",
              "      <td>0</td>\n",
              "      <td>0</td>\n",
              "      <td>0</td>\n",
              "      <td>0</td>\n",
              "      <td>1</td>\n",
              "      <td>1</td>\n",
              "      <td>1</td>\n",
              "      <td>-0.649599</td>\n",
              "      <td>-0.448941</td>\n",
              "    </tr>\n",
              "  </tbody>\n",
              "</table>\n",
              "<p>20058 rows × 28 columns</p>\n",
              "</div>"
            ],
            "text/plain": [
              "       rated     turns  victory_status  ...  opening_eco_9  opening_ply  rating_diff\n",
              "0          0 -1.413952               0  ...              1     0.065432     1.209491\n",
              "1          1 -1.324585               1  ...              0    -0.292083     0.213629\n",
              "2          1  0.015907               1  ...              1    -0.649599    -0.047383\n",
              "3          1  0.015907               1  ...              0    -0.649599    -0.091555\n",
              "4          1  1.028724               1  ...              1     0.065432     0.185520\n",
              "...      ...       ...             ...  ...            ...          ...          ...\n",
              "20053      1 -1.086276               1  ...              0    -1.007114     1.860014\n",
              "20054      1  0.641470               1  ...              0    -1.007114     0.117255\n",
              "20055      1 -0.758600               1  ...              1    -0.649599    -0.300364\n",
              "20056      1  1.445766               1  ...              0    -0.292083     0.502750\n",
              "20057      1  0.522316               1  ...              1    -0.649599    -0.448941\n",
              "\n",
              "[20058 rows x 28 columns]"
            ]
          },
          "metadata": {
            "tags": []
          },
          "execution_count": 21
        }
      ]
    },
    {
      "cell_type": "code",
      "metadata": {
        "colab": {
          "base_uri": "https://localhost:8080/",
          "height": 35
        },
        "id": "0Jh8zMMrpHMH",
        "outputId": "9a4dc85c-baff-4273-eb95-b5dffcd19867"
      },
      "source": [
        "col_list=['rated', 'turns', 'victory_status','increment_code_0','increment_code_1', 'increment_code_2', 'increment_code_3','increment_code_4', 'increment_code_5', 'increment_code_6','increment_code_7', 'increment_code_8', 'increment_code_9',\n",
        "'white_rating', 'black_rating', 'opening_eco_0', 'opening_eco_1','opening_eco_2', 'opening_eco_3', 'opening_eco_4', 'opening_eco_5','opening_eco_6', 'opening_eco_7', 'opening_eco_8', 'opening_eco_9','opening_ply', 'rating_diff', 'winner']\n",
        "data=data_encoded.reindex(columns=col_list)\n",
        "cols=data.columns\n",
        "cols[27]"
      ],
      "execution_count": 29,
      "outputs": [
        {
          "output_type": "execute_result",
          "data": {
            "application/vnd.google.colaboratory.intrinsic+json": {
              "type": "string"
            },
            "text/plain": [
              "'winner'"
            ]
          },
          "metadata": {
            "tags": []
          },
          "execution_count": 29
        }
      ]
    },
    {
      "cell_type": "code",
      "metadata": {
        "id": "kBbzM502ngKB"
      },
      "source": [
        "\n",
        "x=data.iloc[:,0:27]\n",
        "y=data['winner']\n",
        "X_train, X_test, y_train, y_test = train_test_split(x,y,test_size = 0.20,random_state = 42)\n"
      ],
      "execution_count": 32,
      "outputs": []
    },
    {
      "cell_type": "code",
      "metadata": {
        "colab": {
          "base_uri": "https://localhost:8080/",
          "height": 411
        },
        "id": "XCRWZyhVq6C5",
        "outputId": "b653db34-6986-4a74-ae4c-dbc9a1f23255"
      },
      "source": [
        "x"
      ],
      "execution_count": 33,
      "outputs": [
        {
          "output_type": "execute_result",
          "data": {
            "text/html": [
              "<div>\n",
              "<style scoped>\n",
              "    .dataframe tbody tr th:only-of-type {\n",
              "        vertical-align: middle;\n",
              "    }\n",
              "\n",
              "    .dataframe tbody tr th {\n",
              "        vertical-align: top;\n",
              "    }\n",
              "\n",
              "    .dataframe thead th {\n",
              "        text-align: right;\n",
              "    }\n",
              "</style>\n",
              "<table border=\"1\" class=\"dataframe\">\n",
              "  <thead>\n",
              "    <tr style=\"text-align: right;\">\n",
              "      <th></th>\n",
              "      <th>rated</th>\n",
              "      <th>turns</th>\n",
              "      <th>victory_status</th>\n",
              "      <th>increment_code_0</th>\n",
              "      <th>increment_code_1</th>\n",
              "      <th>increment_code_2</th>\n",
              "      <th>increment_code_3</th>\n",
              "      <th>increment_code_4</th>\n",
              "      <th>increment_code_5</th>\n",
              "      <th>increment_code_6</th>\n",
              "      <th>increment_code_7</th>\n",
              "      <th>increment_code_8</th>\n",
              "      <th>increment_code_9</th>\n",
              "      <th>white_rating</th>\n",
              "      <th>black_rating</th>\n",
              "      <th>opening_eco_0</th>\n",
              "      <th>opening_eco_1</th>\n",
              "      <th>opening_eco_2</th>\n",
              "      <th>opening_eco_3</th>\n",
              "      <th>opening_eco_4</th>\n",
              "      <th>opening_eco_5</th>\n",
              "      <th>opening_eco_6</th>\n",
              "      <th>opening_eco_7</th>\n",
              "      <th>opening_eco_8</th>\n",
              "      <th>opening_eco_9</th>\n",
              "      <th>opening_ply</th>\n",
              "      <th>rating_diff</th>\n",
              "    </tr>\n",
              "  </thead>\n",
              "  <tbody>\n",
              "    <tr>\n",
              "      <th>0</th>\n",
              "      <td>0</td>\n",
              "      <td>-1.413952</td>\n",
              "      <td>0</td>\n",
              "      <td>0</td>\n",
              "      <td>0</td>\n",
              "      <td>0</td>\n",
              "      <td>0</td>\n",
              "      <td>0</td>\n",
              "      <td>0</td>\n",
              "      <td>0</td>\n",
              "      <td>0</td>\n",
              "      <td>0</td>\n",
              "      <td>1</td>\n",
              "      <td>-0.331788</td>\n",
              "      <td>-1.366985</td>\n",
              "      <td>0</td>\n",
              "      <td>0</td>\n",
              "      <td>0</td>\n",
              "      <td>0</td>\n",
              "      <td>0</td>\n",
              "      <td>0</td>\n",
              "      <td>0</td>\n",
              "      <td>0</td>\n",
              "      <td>0</td>\n",
              "      <td>1</td>\n",
              "      <td>0.065432</td>\n",
              "      <td>1.209491</td>\n",
              "    </tr>\n",
              "    <tr>\n",
              "      <th>1</th>\n",
              "      <td>1</td>\n",
              "      <td>-1.324585</td>\n",
              "      <td>1</td>\n",
              "      <td>0</td>\n",
              "      <td>0</td>\n",
              "      <td>0</td>\n",
              "      <td>0</td>\n",
              "      <td>0</td>\n",
              "      <td>0</td>\n",
              "      <td>0</td>\n",
              "      <td>0</td>\n",
              "      <td>1</td>\n",
              "      <td>0</td>\n",
              "      <td>-0.942955</td>\n",
              "      <td>-1.126459</td>\n",
              "      <td>0</td>\n",
              "      <td>0</td>\n",
              "      <td>0</td>\n",
              "      <td>0</td>\n",
              "      <td>0</td>\n",
              "      <td>0</td>\n",
              "      <td>0</td>\n",
              "      <td>0</td>\n",
              "      <td>1</td>\n",
              "      <td>0</td>\n",
              "      <td>-0.292083</td>\n",
              "      <td>0.213629</td>\n",
              "    </tr>\n",
              "    <tr>\n",
              "      <th>2</th>\n",
              "      <td>1</td>\n",
              "      <td>0.015907</td>\n",
              "      <td>1</td>\n",
              "      <td>0</td>\n",
              "      <td>0</td>\n",
              "      <td>0</td>\n",
              "      <td>0</td>\n",
              "      <td>0</td>\n",
              "      <td>0</td>\n",
              "      <td>0</td>\n",
              "      <td>0</td>\n",
              "      <td>1</td>\n",
              "      <td>0</td>\n",
              "      <td>-0.345522</td>\n",
              "      <td>-0.305234</td>\n",
              "      <td>0</td>\n",
              "      <td>0</td>\n",
              "      <td>0</td>\n",
              "      <td>0</td>\n",
              "      <td>0</td>\n",
              "      <td>0</td>\n",
              "      <td>0</td>\n",
              "      <td>0</td>\n",
              "      <td>1</td>\n",
              "      <td>1</td>\n",
              "      <td>-0.649599</td>\n",
              "      <td>-0.047383</td>\n",
              "    </tr>\n",
              "    <tr>\n",
              "      <th>3</th>\n",
              "      <td>1</td>\n",
              "      <td>0.015907</td>\n",
              "      <td>1</td>\n",
              "      <td>0</td>\n",
              "      <td>0</td>\n",
              "      <td>0</td>\n",
              "      <td>0</td>\n",
              "      <td>0</td>\n",
              "      <td>0</td>\n",
              "      <td>0</td>\n",
              "      <td>0</td>\n",
              "      <td>1</td>\n",
              "      <td>1</td>\n",
              "      <td>-0.541233</td>\n",
              "      <td>-0.463294</td>\n",
              "      <td>0</td>\n",
              "      <td>0</td>\n",
              "      <td>0</td>\n",
              "      <td>0</td>\n",
              "      <td>0</td>\n",
              "      <td>0</td>\n",
              "      <td>0</td>\n",
              "      <td>1</td>\n",
              "      <td>0</td>\n",
              "      <td>0</td>\n",
              "      <td>-0.649599</td>\n",
              "      <td>-0.091555</td>\n",
              "    </tr>\n",
              "    <tr>\n",
              "      <th>4</th>\n",
              "      <td>1</td>\n",
              "      <td>1.028724</td>\n",
              "      <td>1</td>\n",
              "      <td>0</td>\n",
              "      <td>0</td>\n",
              "      <td>0</td>\n",
              "      <td>0</td>\n",
              "      <td>0</td>\n",
              "      <td>0</td>\n",
              "      <td>0</td>\n",
              "      <td>1</td>\n",
              "      <td>0</td>\n",
              "      <td>0</td>\n",
              "      <td>-0.252817</td>\n",
              "      <td>-0.411753</td>\n",
              "      <td>0</td>\n",
              "      <td>0</td>\n",
              "      <td>0</td>\n",
              "      <td>0</td>\n",
              "      <td>0</td>\n",
              "      <td>0</td>\n",
              "      <td>0</td>\n",
              "      <td>1</td>\n",
              "      <td>0</td>\n",
              "      <td>1</td>\n",
              "      <td>0.065432</td>\n",
              "      <td>0.185520</td>\n",
              "    </tr>\n",
              "    <tr>\n",
              "      <th>...</th>\n",
              "      <td>...</td>\n",
              "      <td>...</td>\n",
              "      <td>...</td>\n",
              "      <td>...</td>\n",
              "      <td>...</td>\n",
              "      <td>...</td>\n",
              "      <td>...</td>\n",
              "      <td>...</td>\n",
              "      <td>...</td>\n",
              "      <td>...</td>\n",
              "      <td>...</td>\n",
              "      <td>...</td>\n",
              "      <td>...</td>\n",
              "      <td>...</td>\n",
              "      <td>...</td>\n",
              "      <td>...</td>\n",
              "      <td>...</td>\n",
              "      <td>...</td>\n",
              "      <td>...</td>\n",
              "      <td>...</td>\n",
              "      <td>...</td>\n",
              "      <td>...</td>\n",
              "      <td>...</td>\n",
              "      <td>...</td>\n",
              "      <td>...</td>\n",
              "      <td>...</td>\n",
              "      <td>...</td>\n",
              "    </tr>\n",
              "    <tr>\n",
              "      <th>20053</th>\n",
              "      <td>1</td>\n",
              "      <td>-1.086276</td>\n",
              "      <td>1</td>\n",
              "      <td>0</td>\n",
              "      <td>0</td>\n",
              "      <td>0</td>\n",
              "      <td>0</td>\n",
              "      <td>0</td>\n",
              "      <td>1</td>\n",
              "      <td>0</td>\n",
              "      <td>0</td>\n",
              "      <td>0</td>\n",
              "      <td>0</td>\n",
              "      <td>0.324015</td>\n",
              "      <td>-1.267338</td>\n",
              "      <td>0</td>\n",
              "      <td>0</td>\n",
              "      <td>0</td>\n",
              "      <td>0</td>\n",
              "      <td>1</td>\n",
              "      <td>0</td>\n",
              "      <td>0</td>\n",
              "      <td>0</td>\n",
              "      <td>0</td>\n",
              "      <td>0</td>\n",
              "      <td>-1.007114</td>\n",
              "      <td>1.860014</td>\n",
              "    </tr>\n",
              "    <tr>\n",
              "      <th>20054</th>\n",
              "      <td>1</td>\n",
              "      <td>0.641470</td>\n",
              "      <td>1</td>\n",
              "      <td>0</td>\n",
              "      <td>0</td>\n",
              "      <td>0</td>\n",
              "      <td>0</td>\n",
              "      <td>0</td>\n",
              "      <td>0</td>\n",
              "      <td>0</td>\n",
              "      <td>1</td>\n",
              "      <td>0</td>\n",
              "      <td>1</td>\n",
              "      <td>-1.248538</td>\n",
              "      <td>-1.349804</td>\n",
              "      <td>0</td>\n",
              "      <td>0</td>\n",
              "      <td>0</td>\n",
              "      <td>0</td>\n",
              "      <td>1</td>\n",
              "      <td>0</td>\n",
              "      <td>0</td>\n",
              "      <td>1</td>\n",
              "      <td>1</td>\n",
              "      <td>0</td>\n",
              "      <td>-1.007114</td>\n",
              "      <td>0.117255</td>\n",
              "    </tr>\n",
              "    <tr>\n",
              "      <th>20055</th>\n",
              "      <td>1</td>\n",
              "      <td>-0.758600</td>\n",
              "      <td>1</td>\n",
              "      <td>0</td>\n",
              "      <td>0</td>\n",
              "      <td>0</td>\n",
              "      <td>0</td>\n",
              "      <td>0</td>\n",
              "      <td>0</td>\n",
              "      <td>0</td>\n",
              "      <td>1</td>\n",
              "      <td>0</td>\n",
              "      <td>1</td>\n",
              "      <td>-1.296607</td>\n",
              "      <td>-1.040557</td>\n",
              "      <td>0</td>\n",
              "      <td>0</td>\n",
              "      <td>0</td>\n",
              "      <td>0</td>\n",
              "      <td>0</td>\n",
              "      <td>0</td>\n",
              "      <td>0</td>\n",
              "      <td>1</td>\n",
              "      <td>1</td>\n",
              "      <td>1</td>\n",
              "      <td>-0.649599</td>\n",
              "      <td>-0.300364</td>\n",
              "    </tr>\n",
              "    <tr>\n",
              "      <th>20056</th>\n",
              "      <td>1</td>\n",
              "      <td>1.445766</td>\n",
              "      <td>1</td>\n",
              "      <td>0</td>\n",
              "      <td>0</td>\n",
              "      <td>0</td>\n",
              "      <td>0</td>\n",
              "      <td>0</td>\n",
              "      <td>0</td>\n",
              "      <td>0</td>\n",
              "      <td>1</td>\n",
              "      <td>0</td>\n",
              "      <td>1</td>\n",
              "      <td>-0.812481</td>\n",
              "      <td>-1.243286</td>\n",
              "      <td>0</td>\n",
              "      <td>0</td>\n",
              "      <td>0</td>\n",
              "      <td>1</td>\n",
              "      <td>0</td>\n",
              "      <td>1</td>\n",
              "      <td>1</td>\n",
              "      <td>0</td>\n",
              "      <td>1</td>\n",
              "      <td>0</td>\n",
              "      <td>-0.292083</td>\n",
              "      <td>0.502750</td>\n",
              "    </tr>\n",
              "    <tr>\n",
              "      <th>20057</th>\n",
              "      <td>1</td>\n",
              "      <td>0.522316</td>\n",
              "      <td>1</td>\n",
              "      <td>0</td>\n",
              "      <td>0</td>\n",
              "      <td>0</td>\n",
              "      <td>0</td>\n",
              "      <td>0</td>\n",
              "      <td>0</td>\n",
              "      <td>0</td>\n",
              "      <td>1</td>\n",
              "      <td>0</td>\n",
              "      <td>1</td>\n",
              "      <td>-1.241671</td>\n",
              "      <td>-0.858444</td>\n",
              "      <td>0</td>\n",
              "      <td>0</td>\n",
              "      <td>0</td>\n",
              "      <td>0</td>\n",
              "      <td>0</td>\n",
              "      <td>0</td>\n",
              "      <td>0</td>\n",
              "      <td>1</td>\n",
              "      <td>1</td>\n",
              "      <td>1</td>\n",
              "      <td>-0.649599</td>\n",
              "      <td>-0.448941</td>\n",
              "    </tr>\n",
              "  </tbody>\n",
              "</table>\n",
              "<p>20058 rows × 27 columns</p>\n",
              "</div>"
            ],
            "text/plain": [
              "       rated     turns  victory_status  ...  opening_eco_9  opening_ply  rating_diff\n",
              "0          0 -1.413952               0  ...              1     0.065432     1.209491\n",
              "1          1 -1.324585               1  ...              0    -0.292083     0.213629\n",
              "2          1  0.015907               1  ...              1    -0.649599    -0.047383\n",
              "3          1  0.015907               1  ...              0    -0.649599    -0.091555\n",
              "4          1  1.028724               1  ...              1     0.065432     0.185520\n",
              "...      ...       ...             ...  ...            ...          ...          ...\n",
              "20053      1 -1.086276               1  ...              0    -1.007114     1.860014\n",
              "20054      1  0.641470               1  ...              0    -1.007114     0.117255\n",
              "20055      1 -0.758600               1  ...              1    -0.649599    -0.300364\n",
              "20056      1  1.445766               1  ...              0    -0.292083     0.502750\n",
              "20057      1  0.522316               1  ...              1    -0.649599    -0.448941\n",
              "\n",
              "[20058 rows x 27 columns]"
            ]
          },
          "metadata": {
            "tags": []
          },
          "execution_count": 33
        }
      ]
    },
    {
      "cell_type": "markdown",
      "metadata": {
        "id": "1Js-xXYszoa7"
      },
      "source": [
        "Logistic regression\n"
      ]
    },
    {
      "cell_type": "code",
      "metadata": {
        "id": "n2Mve58_mEQM"
      },
      "source": [
        "model = LogisticRegression(multi_class='multinomial', solver='lbfgs')\n",
        "# fit the model with data\n",
        "model.fit(X_train,y_train)\n",
        "y_pred=model.predict(X_test)\n"
      ],
      "execution_count": 41,
      "outputs": []
    },
    {
      "cell_type": "code",
      "metadata": {
        "colab": {
          "base_uri": "https://localhost:8080/",
          "height": 390
        },
        "id": "i1GQfETGrpvu",
        "outputId": "4895f176-2018-43f9-ed64-ce93c7b56444"
      },
      "source": [
        "from sklearn import metrics\n",
        "cnf_matrix = metrics.confusion_matrix(y_test, y_pred)\n",
        "print(cnf_matrix)\n",
        "class_names=[0,1] # name  of classes\n",
        "fig, ax = plt.subplots()\n",
        "tick_marks = np.arange(len(class_names))\n",
        "plt.xticks(tick_marks, class_names)\n",
        "plt.yticks(tick_marks, class_names)\n",
        "# create heatmap\n",
        "sns.heatmap(pd.DataFrame(cnf_matrix), annot=True, cmap=\"YlGnBu\" ,fmt='g')\n",
        "ax.xaxis.set_label_position(\"top\")\n",
        "plt.tight_layout()\n",
        "plt.title('Confusion matrix', y=1.1)\n",
        "plt.ylabel('Actual label')\n",
        "plt.xlabel('Predicted label')"
      ],
      "execution_count": 48,
      "outputs": [
        {
          "output_type": "stream",
          "text": [
            "[[1067    0  749]\n",
            " [  96    1   95]\n",
            " [ 560    0 1444]]\n"
          ],
          "name": "stdout"
        },
        {
          "output_type": "execute_result",
          "data": {
            "text/plain": [
              "Text(0.5, 257.44, 'Predicted label')"
            ]
          },
          "metadata": {
            "tags": []
          },
          "execution_count": 48
        },
        {
          "output_type": "display_data",
          "data": {
            "image/png": "[encoded data removed]",
            "text/plain": [
              "<Figure size 432x288 with 2 Axes>"
            ]
          },
          "metadata": {
            "tags": [],
            "needs_background": "light"
          }
        }
      ]
    },
    {
      "cell_type": "code",
      "metadata": {
        "colab": {
          "base_uri": "https://localhost:8080/"
        },
        "id": "mivgOLJosP8v",
        "outputId": "6edb635e-1efb-4e0c-a146-a8e2e24cdb2b"
      },
      "source": [
        "print(\"Accuracy:\",metrics.accuracy_score(y_test, y_pred))\n",
        "print(classification_report(y_test,y_pred))"
      ],
      "execution_count": 51,
      "outputs": [
        {
          "output_type": "stream",
          "text": [
            "Accuracy: 0.6261216350947159\n",
            "              precision    recall  f1-score   support\n",
            "\n",
            "           0       0.62      0.59      0.60      1816\n",
            "           1       1.00      0.01      0.01       192\n",
            "           2       0.63      0.72      0.67      2004\n",
            "\n",
            "    accuracy                           0.63      4012\n",
            "   macro avg       0.75      0.44      0.43      4012\n",
            "weighted avg       0.64      0.63      0.61      4012\n",
            "\n"
          ],
          "name": "stdout"
        }
      ]
    },
    {
      "cell_type": "markdown",
      "metadata": {
        "id": "ZAVW_XnSzw2k"
      },
      "source": [
        "SVM"
      ]
    },
    {
      "cell_type": "code",
      "metadata": {
        "colab": {
          "base_uri": "https://localhost:8080/"
        },
        "id": "1z868gmivOTu",
        "outputId": "5cae2fbf-0805-4683-f6f0-778cfa03a1a0"
      },
      "source": [
        "from sklearn import model_selection,svm\n",
        "SVM=svm.SVC(C=0.1,kernel='linear')\n",
        "SVM.fit(X_train,y_train)\n"
      ],
      "execution_count": 56,
      "outputs": [
        {
          "output_type": "execute_result",
          "data": {
            "text/plain": [
              "SVC(C=0.1, break_ties=False, cache_size=200, class_weight=None, coef0=0.0,\n",
              "    decision_function_shape='ovr', degree=3, gamma='scale', kernel='linear',\n",
              "    max_iter=-1, probability=False, random_state=None, shrinking=True,\n",
              "    tol=0.001, verbose=False)"
            ]
          },
          "metadata": {
            "tags": []
          },
          "execution_count": 56
        }
      ]
    },
    {
      "cell_type": "code",
      "metadata": {
        "colab": {
          "base_uri": "https://localhost:8080/"
        },
        "id": "MS1YfJAzw2ij",
        "outputId": "c289fd71-2a26-4298-961c-2b45bd2f3e4b"
      },
      "source": [
        "y_pred=SVM.predict(X_test)\n",
        "print(classification_report(y_test,y_pred))"
      ],
      "execution_count": 57,
      "outputs": [
        {
          "output_type": "stream",
          "text": [
            "              precision    recall  f1-score   support\n",
            "\n",
            "           0       0.63      0.56      0.59      1816\n",
            "           1       0.00      0.00      0.00       192\n",
            "           2       0.62      0.74      0.68      2004\n",
            "\n",
            "    accuracy                           0.63      4012\n",
            "   macro avg       0.42      0.44      0.42      4012\n",
            "weighted avg       0.60      0.63      0.61      4012\n",
            "\n"
          ],
          "name": "stdout"
        },
        {
          "output_type": "stream",
          "text": [
            "/usr/local/lib/python3.6/dist-packages/sklearn/metrics/_classification.py:1272: UndefinedMetricWarning: Precision and F-score are ill-defined and being set to 0.0 in labels with no predicted samples. Use `zero_division` parameter to control this behavior.\n",
            "  _warn_prf(average, modifier, msg_start, len(result))\n"
          ],
          "name": "stderr"
        }
      ]
    },
    {
      "cell_type": "markdown",
      "metadata": {
        "id": "YM_3mOMdzzos"
      },
      "source": [
        "KNN"
      ]
    },
    {
      "cell_type": "code",
      "metadata": {
        "colab": {
          "base_uri": "https://localhost:8080/"
        },
        "id": "32z3kICWxEhu",
        "outputId": "1238d79d-9ee9-4f05-bba5-9ff3eb22e37e"
      },
      "source": [
        "#Create KNN Classifier\n",
        "knn = KNeighborsClassifier(n_neighbors=6)\n",
        "#Train the model using the training sets\n",
        "knn.fit(X_train, y_train)\n",
        "#Predict the response for test dataset\n",
        "y_pred = knn.predict(X_test)\n",
        "print(classification_report(y_test,y_pred))"
      ],
      "execution_count": 61,
      "outputs": [
        {
          "output_type": "stream",
          "text": [
            "              precision    recall  f1-score   support\n",
            "\n",
            "           0       0.55      0.68      0.61      1816\n",
            "           1       0.39      0.05      0.08       192\n",
            "           2       0.63      0.55      0.59      2004\n",
            "\n",
            "    accuracy                           0.58      4012\n",
            "   macro avg       0.52      0.42      0.43      4012\n",
            "weighted avg       0.58      0.58      0.57      4012\n",
            "\n"
          ],
          "name": "stdout"
        }
      ]
    },
    {
      "cell_type": "markdown",
      "metadata": {
        "id": "gZ36FcKC4qgS"
      },
      "source": [
        "checking for constant features\r\n"
      ]
    },
    {
      "cell_type": "code",
      "metadata": {
        "id": "6h0gu8X02BTN"
      },
      "source": [
        "# import and create the VarianceThreshold object.\r\n",
        "from sklearn.feature_selection import VarianceThreshold\r\n",
        "vs_constant = VarianceThreshold(threshold=0)\r\n",
        "\r\n",
        "# select the numerical columns only.\r\n",
        "numerical_x_train = x_train[x_train.select_dtypes([np.number]).columns]\r\n",
        "\r\n",
        "# fit the object to our data.\r\n",
        "vs_constant.fit(numerical_x_train)\r\n",
        "\r\n",
        "# get the constant colum names.\r\n",
        "constant_columns = [column for column in numerical_x_train.columns\r\n",
        "                    if column not in numerical_x_train.columns[vs_constant.get_support()]]\r\n",
        "\r\n",
        "# detect constant categorical variables.\r\n",
        "constant_cat_columns = [column for column in x_train.columns \r\n",
        "                        if (x_train[column].dtype == \"O\" and len(x_train[column].unique())  == 1 )]\r\n",
        "\r\n",
        "# conctenating the two lists.\r\n",
        "all_constant_columns = constant_cat_columns + constant_columns\r\n",
        "\r\n",
        "# drop the constant columns\r\n",
        "x_train.drop(labels=all_constant_columns, axis=1, inplace=True)\r\n",
        "x_test.drop(labels=all_constant_columns, axis=1, inplace=True)\r\n"
      ],
      "execution_count": null,
      "outputs": []
    },
    {
      "cell_type": "markdown",
      "metadata": {
        "id": "1QmYODfa4ue5"
      },
      "source": [
        "checking for quasi constant features"
      ]
    },
    {
      "cell_type": "code",
      "metadata": {
        "id": "X5sBgZqM4oJ8"
      },
      "source": [
        "threshold = 0.98\r\n",
        "\r\n",
        "# create empty list\r\n",
        "quasi_constant_feature = []\r\n",
        "\r\n",
        "# loop over all the columns\r\n",
        "for feature in x_train.columns:\r\n",
        "\r\n",
        "    # calculate the ratio.\r\n",
        "    predominant = (x_train[feature].value_counts() / np.float(len(x_train))).sort_values(ascending=False).values[0]\r\n",
        "    \r\n",
        "    # append the column name if it is bigger than the threshold\r\n",
        "    if predominant >= threshold:\r\n",
        "        quasi_constant_feature.append(feature)   \r\n",
        "        \r\n",
        "print(quasi_constant_feature)\r\n",
        "\r\n",
        "# drop the quasi constant columns\r\n",
        "x_train.drop(labels=quasi_constant_feature, axis=1, inplace=True)\r\n",
        "x_test.drop(labels=quasi_constant_feature, axis=1, inplace=True)\r\n"
      ],
      "execution_count": null,
      "outputs": []
    },
    {
      "cell_type": "markdown",
      "metadata": {
        "id": "i1yPuAav5Fsx"
      },
      "source": [
        "# Correlation filter methods"
      ]
    },
    {
      "cell_type": "code",
      "metadata": {
        "id": "c3CYmzHF40mp"
      },
      "source": [
        "# creating set to hold the correlated features\r\n",
        "corr_features = set()\r\n",
        "\r\n",
        "# create the correlation matrix (default to pearson)\r\n",
        "corr_matrix = x_train.corr()\r\n",
        "\r\n",
        "# optional: display a heatmap of the correlation matrix\r\n",
        "plt.figure(figsize=(11,11))\r\n",
        "sns.heatmap(corr_matrix)\r\n",
        "\r\n",
        "for i in range(len(corr_matrix .columns)):\r\n",
        "    for j in range(i):\r\n",
        "        if abs(corr_matrix.iloc[i, j]) > 0.8:\r\n",
        "            colname = corr_matrix.columns[i]\r\n",
        "            corr_features.add(colname)\r\n",
        "            \r\n",
        "x_train.drop(labels=corr_features, axis=1, inplace=True)\r\n",
        "x_test.drop(labels=corr_features, axis=1, inplace=True)\r\n"
      ],
      "execution_count": null,
      "outputs": []
    }
  ]
}